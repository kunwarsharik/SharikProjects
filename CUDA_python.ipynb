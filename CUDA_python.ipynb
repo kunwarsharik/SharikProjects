{
  "nbformat": 4,
  "nbformat_minor": 0,
  "metadata": {
    "colab": {
      "name": "CUDA_python.ipynb",
      "provenance": [],
      "collapsed_sections": [],
      "authorship_tag": "ABX9TyOQkfk0d2A23UrzAmPXvrYX",
      "include_colab_link": true
    },
    "kernelspec": {
      "name": "python3",
      "display_name": "Python 3"
    },
    "accelerator": "GPU"
  },
  "cells": [
    {
      "cell_type": "markdown",
      "metadata": {
        "id": "view-in-github",
        "colab_type": "text"
      },
      "source": [
        "<a href=\"https://colab.research.google.com/github/kunwarsharik/SharikProjects/blob/master/CUDA_python.ipynb\" target=\"_parent\"><img src=\"https://colab.research.google.com/assets/colab-badge.svg\" alt=\"Open In Colab\"/></a>"
      ]
    },
    {
      "cell_type": "code",
      "metadata": {
        "id": "gsGopHZ_PXDX",
        "colab_type": "code",
        "colab": {}
      },
      "source": [
        "import os,sys,glob,matplotlib.pyplot as plt, numpy as np, pandas as pd\n",
        "%matplotlib inline\n",
        "%precision 4\n",
        "plt.style.use('ggplot')"
      ],
      "execution_count": 0,
      "outputs": []
    },
    {
      "cell_type": "code",
      "metadata": {
        "id": "mGjBx1FuP3-8",
        "colab_type": "code",
        "colab": {}
      },
      "source": [
        "from IPython.display import HTML, Image\n",
        "from timeit import default_timer as timer"
      ],
      "execution_count": 0,
      "outputs": []
    },
    {
      "cell_type": "code",
      "metadata": {
        "id": "yFHIW8rxP8pG",
        "colab_type": "code",
        "colab": {}
      },
      "source": [
        "#cuda only for nvidia, opencl for all"
      ],
      "execution_count": 0,
      "outputs": []
    },
    {
      "cell_type": "code",
      "metadata": {
        "id": "ZizoG6lfgOqz",
        "colab_type": "code",
        "outputId": "ce7ee54a-5ebc-4123-cc2c-67df60c81813",
        "colab": {
          "base_uri": "https://localhost:8080/",
          "height": 85
        }
      },
      "source": [
        "!pip install numba"
      ],
      "execution_count": 4,
      "outputs": [
        {
          "output_type": "stream",
          "text": [
            "Requirement already satisfied: numba in /usr/local/lib/python3.6/dist-packages (0.47.0)\n",
            "Requirement already satisfied: numpy in /usr/local/lib/python3.6/dist-packages (from numba) (1.17.5)\n",
            "Requirement already satisfied: setuptools in /usr/local/lib/python3.6/dist-packages (from numba) (45.1.0)\n",
            "Requirement already satisfied: llvmlite>=0.31.0dev0 in /usr/local/lib/python3.6/dist-packages (from numba) (0.31.0)\n"
          ],
          "name": "stdout"
        }
      ]
    },
    {
      "cell_type": "code",
      "metadata": {
        "id": "t4t3rp2KVZaT",
        "colab_type": "code",
        "colab": {}
      },
      "source": [
        "from numba import cuda, vectorize, guvectorize\n",
        "import numba.cuda.api,numba.cuda.cudadrv.libs\n",
        "from numba import void, uint8 , uint32, uint64, int32, int64, float32, float64, f8\n",
        "import numpy as np"
      ],
      "execution_count": 0,
      "outputs": []
    },
    {
      "cell_type": "code",
      "metadata": {
        "id": "1FLGmsxHVaH6",
        "colab_type": "code",
        "outputId": "0764d7ac-acd2-493c-ec24-42b5c7e280a2",
        "colab": {
          "base_uri": "https://localhost:8080/",
          "height": 493
        }
      },
      "source": [
        "numba.cuda.cudadrv.libs.test()\n",
        "numba.cuda.api.detect()"
      ],
      "execution_count": 6,
      "outputs": [
        {
          "output_type": "stream",
          "text": [
            "Finding cublas from System\n",
            "\tlocated at /usr/local/cuda/lib64/libcublas.so.10.0.130\n",
            "\ttrying to open library...\tok\n",
            "Finding cusparse from System\n",
            "\tlocated at /usr/local/cuda/lib64/libcusparse.so.10.0.130\n",
            "\ttrying to open library...\tok\n",
            "Finding cufft from System\n",
            "\tlocated at /usr/local/cuda/lib64/libcufft.so.10.0.145\n",
            "\ttrying to open library...\tok\n",
            "Finding curand from System\n",
            "\tlocated at /usr/local/cuda/lib64/libcurand.so.10.0.130\n",
            "\ttrying to open library...\tok\n",
            "Finding nvvm from System\n",
            "\tlocated at /usr/local/cuda/nvvm/lib64/libnvvm.so.3.3.0\n",
            "\ttrying to open library...\tok\n",
            "Finding libdevice from System\n",
            "\tsearching for compute_20...\tok\n",
            "\tsearching for compute_30...\tok\n",
            "\tsearching for compute_35...\tok\n",
            "\tsearching for compute_50...\tok\n",
            "Found 1 CUDA devices\n",
            "id 0    b'Tesla P100-PCIE-16GB'                              [SUPPORTED]\n",
            "                      compute capability: 6.0\n",
            "                           pci device id: 4\n",
            "                              pci bus id: 0\n",
            "Summary:\n",
            "\t1/1 devices are supported\n"
          ],
          "name": "stdout"
        },
        {
          "output_type": "execute_result",
          "data": {
            "text/plain": [
              "True"
            ]
          },
          "metadata": {
            "tags": []
          },
          "execution_count": 6
        }
      ]
    },
    {
      "cell_type": "code",
      "metadata": {
        "id": "O4d3ftd7hnvl",
        "colab_type": "code",
        "colab": {}
      },
      "source": [
        "@cuda.jit('void(float32[:], float32[:], float32[:])')\n",
        "def cu_add1(a, b, c):\n",
        "    bx = cuda.blockIdx.x\n",
        "    bw = cuda.blockDim.x\n",
        "    tx = cuda.threadIdx.x\n",
        "    i = tx + bx * bw\n",
        "    if i > c.size:\n",
        "        return\n",
        "    c[i] = a[i] + b[i]"
      ],
      "execution_count": 0,
      "outputs": []
    },
    {
      "cell_type": "code",
      "metadata": {
        "id": "0t4urg2EsE9e",
        "colab_type": "code",
        "colab": {}
      },
      "source": [
        "device = cuda.get_current_device()"
      ],
      "execution_count": 0,
      "outputs": []
    },
    {
      "cell_type": "code",
      "metadata": {
        "id": "n_veZYq1sJAU",
        "colab_type": "code",
        "colab": {
          "base_uri": "https://localhost:8080/",
          "height": 170
        },
        "outputId": "afbdb331-8bbc-4121-a7b4-686115c580ce"
      },
      "source": [
        "n=100\n",
        "a = np.arange(n, dtype=np.float32)\n",
        "b = np.arange(n, dtype=np.float32)\n",
        "\n",
        "da = cuda.to_device(a)\n",
        "db = cuda.to_device(b)\n",
        "\n",
        "dc = cuda.device_array_like(a)\n",
        "tpb = device.WARP_SIZE\n",
        "bpg = int(np.ceil(float(n)/tpb))\n",
        "\n",
        "print ('Blocks per grid:', bpg,' Threads per block: ', tpb)\n",
        "\n",
        "cu_add1[bpg, tpb](da, db, dc)\n",
        "\n",
        "c = dc.copy_to_host()\n",
        "print(c)"
      ],
      "execution_count": 9,
      "outputs": [
        {
          "output_type": "stream",
          "text": [
            "Blocks per grid: 4  Threads per block:  32\n",
            "[  0.   2.   4.   6.   8.  10.  12.  14.  16.  18.  20.  22.  24.  26.\n",
            "  28.  30.  32.  34.  36.  38.  40.  42.  44.  46.  48.  50.  52.  54.\n",
            "  56.  58.  60.  62.  64.  66.  68.  70.  72.  74.  76.  78.  80.  82.\n",
            "  84.  86.  88.  90.  92.  94.  96.  98. 100. 102. 104. 106. 108. 110.\n",
            " 112. 114. 116. 118. 120. 122. 124. 126. 128. 130. 132. 134. 136. 138.\n",
            " 140. 142. 144. 146. 148. 150. 152. 154. 156. 158. 160. 162. 164. 166.\n",
            " 168. 170. 172. 174. 176. 178. 180. 182. 184. 186. 188. 190. 192. 194.\n",
            " 196. 198.]\n"
          ],
          "name": "stdout"
        }
      ]
    },
    {
      "cell_type": "code",
      "metadata": {
        "id": "lQFZnTb-swOf",
        "colab_type": "code",
        "colab": {}
      },
      "source": [
        "@cuda.jit('void(float32[:], float32[:], float32[:])')\n",
        "def cu_add2(a, b, c):\n",
        "    i  = cuda.grid(1)\n",
        "    if i > c.shape[0]:\n",
        "        return\n",
        "    c[i] = a[i] + b[i]"
      ],
      "execution_count": 0,
      "outputs": []
    },
    {
      "cell_type": "code",
      "metadata": {
        "id": "W61Hlmk_2YPU",
        "colab_type": "code",
        "outputId": "8948e2d8-f3bc-428c-cb15-c5ad5bbafb1e",
        "colab": {
          "base_uri": "https://localhost:8080/",
          "height": 170
        }
      },
      "source": [
        "device = cuda.get_current_device()\n",
        "a = np.arange(n, dtype=np.float32)\n",
        "b = np.arange(n, dtype=np.float32)\n",
        "c = np.empty_like(a)\n",
        "tpb = device.WARP_SIZE\n",
        "bpg = int(np.ceil(float(n)/tpb))\n",
        "print ('Blocks per grid:', bpg,' Threads per block: ', tpb)\n",
        "cu_add2[bpg, tpb](a, b, c)\n",
        "print(c)"
      ],
      "execution_count": 11,
      "outputs": [
        {
          "output_type": "stream",
          "text": [
            "Blocks per grid: 4  Threads per block:  32\n",
            "[  0.   2.   4.   6.   8.  10.  12.  14.  16.  18.  20.  22.  24.  26.\n",
            "  28.  30.  32.  34.  36.  38.  40.  42.  44.  46.  48.  50.  52.  54.\n",
            "  56.  58.  60.  62.  64.  66.  68.  70.  72.  74.  76.  78.  80.  82.\n",
            "  84.  86.  88.  90.  92.  94.  96.  98. 100. 102. 104. 106. 108. 110.\n",
            " 112. 114. 116. 118. 120. 122. 124. 126. 128. 130. 132. 134. 136. 138.\n",
            " 140. 142. 144. 146. 148. 150. 152. 154. 156. 158. 160. 162. 164. 166.\n",
            " 168. 170. 172. 174. 176. 178. 180. 182. 184. 186. 188. 190. 192. 194.\n",
            " 196. 198.]\n"
          ],
          "name": "stdout"
        }
      ]
    },
    {
      "cell_type": "code",
      "metadata": {
        "id": "Cpp9i-KT3_ow",
        "colab_type": "code",
        "colab": {}
      },
      "source": [
        "#4 type of decorator jit cudajit vectorize guvectorize\n",
        "@vectorize(['int64(int64, int64)','float32(float32, float32)','float64(float64, float64)'],target='cuda')\n",
        "def cu_add(a, b):\n",
        "    return a + b"
      ],
      "execution_count": 0,
      "outputs": []
    },
    {
      "cell_type": "code",
      "metadata": {
        "id": "s5ikZc1a4eST",
        "colab_type": "code",
        "outputId": "f79e34d8-1ddd-45c3-9cd6-fe9a9fa17ef7",
        "colab": {
          "base_uri": "https://localhost:8080/",
          "height": 153
        }
      },
      "source": [
        "n = 100\n",
        "a = np.arange(n, dtype=np.float32)\n",
        "b = np.arange(n, dtype=np.float32)\n",
        "c = cu_add(a, b)\n",
        "print(c)"
      ],
      "execution_count": 13,
      "outputs": [
        {
          "output_type": "stream",
          "text": [
            "[  0.   2.   4.   6.   8.  10.  12.  14.  16.  18.  20.  22.  24.  26.\n",
            "  28.  30.  32.  34.  36.  38.  40.  42.  44.  46.  48.  50.  52.  54.\n",
            "  56.  58.  60.  62.  64.  66.  68.  70.  72.  74.  76.  78.  80.  82.\n",
            "  84.  86.  88.  90.  92.  94.  96.  98. 100. 102. 104. 106. 108. 110.\n",
            " 112. 114. 116. 118. 120. 122. 124. 126. 128. 130. 132. 134. 136. 138.\n",
            " 140. 142. 144. 146. 148. 150. 152. 154. 156. 158. 160. 162. 164. 166.\n",
            " 168. 170. 172. 174. 176. 178. 180. 182. 184. 186. 188. 190. 192. 194.\n",
            " 196. 198.]\n"
          ],
          "name": "stdout"
        }
      ]
    },
    {
      "cell_type": "code",
      "metadata": {
        "id": "ZHYyFw1O4jc_",
        "colab_type": "code",
        "colab": {}
      },
      "source": [
        "#2D grid\n",
        "@cuda.jit('void(float32[:,:], float32[:,:], float32[:,:])')\n",
        "def cu_add_2d(a, b, c):    \n",
        "    i, j  = cuda.grid(2)\n",
        "    if (i < c.shape[0]) and (j < c.shape[1]):\n",
        "        c[i, j] = a[i, j] + b[i, j]\n",
        "    cuda.syncthreads()"
      ],
      "execution_count": 0,
      "outputs": []
    },
    {
      "cell_type": "code",
      "metadata": {
        "id": "-Ict6bs56O2l",
        "colab_type": "code",
        "outputId": "f2fe4fae-2f23-416c-d203-ac029c83c029",
        "colab": {
          "base_uri": "https://localhost:8080/",
          "height": 153
        }
      },
      "source": [
        "device = cuda.get_current_device()\n",
        "n = 480\n",
        "p = 320\n",
        "a = np.random.random((n, p)).astype(np.float32)\n",
        "b = np.ones((n, p)).astype(np.float32)\n",
        "c = np.empty_like(a)\n",
        "threadsperblock = (16, 16)\n",
        "blockspergrid_x = (n + threadsperblock[0]) // threadsperblock[0]\n",
        "blockspergrid_y = (p + threadsperblock[1]) // threadsperblock[1]\n",
        "blockspergrid = (blockspergrid_x, blockspergrid_y)\n",
        "print(blockspergrid, threadsperblock)\n",
        "cu_add_2d[blockspergrid, threadsperblock](a, b, c)\n",
        "print(c)"
      ],
      "execution_count": 15,
      "outputs": [
        {
          "output_type": "stream",
          "text": [
            "(31, 21) (16, 16)\n",
            "[[1.1289 1.7223 1.4686 ... 1.927  1.1292 1.5802]\n",
            " [1.9922 1.6129 1.4926 ... 1.3285 1.8422 1.4132]\n",
            " [1.3622 1.7965 1.9497 ... 1.0957 1.6826 1.3456]\n",
            " ...\n",
            " [1.3275 1.4555 1.235  ... 1.33   1.8515 1.3372]\n",
            " [1.1211 1.3119 1.5653 ... 1.4218 1.785  1.9681]\n",
            " [1.5575 1.6793 1.8583 ... 1.1939 1.8583 1.8683]]\n"
          ],
          "name": "stdout"
        }
      ]
    },
    {
      "cell_type": "code",
      "metadata": {
        "id": "Q6trs1Ym7Odn",
        "colab_type": "code",
        "outputId": "94a72f30-1839-49cc-f10b-3a473c23f01a",
        "colab": {
          "base_uri": "https://localhost:8080/",
          "height": 272
        }
      },
      "source": [
        "#vectorize 2d\n",
        "@vectorize(['int64(int64, int64)','float32(float32, float32)','float64(float64, float64)'],target='cuda')\n",
        "def cu_vec_add_2d(a, b):\n",
        "    return a + b\n",
        "#vectorize take care of no of bpg,tpb\n",
        "n = 480\n",
        "p = 320\n",
        "a = np.random.random((n, p)).astype(np.float32)\n",
        "b = np.ones((n, p)).astype(np.float32)\n",
        "c= cu_vec_add_2d(a, b)\n",
        "\n",
        "print(a[:5,:5])\n",
        "print(b[:5,:5])\n",
        "print(c[:5,:5])"
      ],
      "execution_count": 16,
      "outputs": [
        {
          "output_type": "stream",
          "text": [
            "[[0.6398 0.4295 0.0234 0.9317 0.613 ]\n",
            " [0.1619 0.1002 0.8847 0.1656 0.2427]\n",
            " [0.3313 0.8177 0.5391 0.5699 0.5746]\n",
            " [0.886  0.1223 0.3796 0.5578 0.3443]\n",
            " [0.5083 0.1083 0.6713 0.2085 0.1861]]\n",
            "[[1. 1. 1. 1. 1.]\n",
            " [1. 1. 1. 1. 1.]\n",
            " [1. 1. 1. 1. 1.]\n",
            " [1. 1. 1. 1. 1.]\n",
            " [1. 1. 1. 1. 1.]]\n",
            "[[1.6398 1.4295 1.0234 1.9317 1.613 ]\n",
            " [1.1619 1.1002 1.8847 1.1656 1.2427]\n",
            " [1.3313 1.8177 1.5391 1.5699 1.5746]\n",
            " [1.886  1.1223 1.3796 1.5578 1.3443]\n",
            " [1.5083 1.1083 1.6713 1.2085 1.1861]]\n"
          ],
          "name": "stdout"
        }
      ]
    },
    {
      "cell_type": "code",
      "metadata": {
        "id": "2mxHlzw7F6tV",
        "colab_type": "code",
        "colab": {}
      },
      "source": [
        "#vectorize also takes of switching execution target.i.e run on a single core, or in parallel on many core it'll manage\n",
        "@vectorize(['int64(int64, int64)','float32(float32, float32)','float64(float64, float64)'],target='parallel')\n",
        "def cu_vec_add_2d(a, b):\n",
        "    return a + b"
      ],
      "execution_count": 0,
      "outputs": []
    },
    {
      "cell_type": "code",
      "metadata": {
        "id": "6PVzUHqAHtRq",
        "colab_type": "code",
        "outputId": "9efbf721-457b-4c29-a151-2af3783df7d5",
        "colab": {
          "base_uri": "https://localhost:8080/",
          "height": 272
        }
      },
      "source": [
        "n = 480\n",
        "p = 320\n",
        "a = np.random.random((n, p)).astype(np.float32)\n",
        "b = np.ones((n, p)).astype(np.float32)\n",
        "c= cu_vec_add_2d(a, b)\n",
        "\n",
        "print(a[:5,:5])\n",
        "print(b[:5,:5])\n",
        "print(c[:5,:5])"
      ],
      "execution_count": 18,
      "outputs": [
        {
          "output_type": "stream",
          "text": [
            "[[0.8872 0.0908 0.026  0.2369 0.8312]\n",
            " [0.3322 0.0619 0.4879 0.492  0.5665]\n",
            " [0.5158 0.7537 0.9097 0.923  0.476 ]\n",
            " [0.9226 0.4795 0.2704 0.8006 0.989 ]\n",
            " [0.3029 0.4911 0.7333 0.5506 0.2663]]\n",
            "[[1. 1. 1. 1. 1.]\n",
            " [1. 1. 1. 1. 1.]\n",
            " [1. 1. 1. 1. 1.]\n",
            " [1. 1. 1. 1. 1.]\n",
            " [1. 1. 1. 1. 1.]]\n",
            "[[1.8872 1.0908 1.026  1.2369 1.8312]\n",
            " [1.3322 1.0619 1.4879 1.492  1.5665]\n",
            " [1.5158 1.7537 1.9097 1.923  1.476 ]\n",
            " [1.9226 1.4795 1.2704 1.8006 1.989 ]\n",
            " [1.3029 1.4911 1.7333 1.5506 1.2663]]\n"
          ],
          "name": "stdout"
        }
      ]
    },
    {
      "cell_type": "code",
      "metadata": {
        "id": "VeonG1UwHxSh",
        "colab_type": "code",
        "colab": {}
      },
      "source": [
        "#sharing can be done by threads using both shared and global memory, but global is very slow and hence avoided.\n",
        "#shared mem can only be used by threads in block."
      ],
      "execution_count": 0,
      "outputs": []
    },
    {
      "cell_type": "code",
      "metadata": {
        "id": "oS7wAfCpyo2K",
        "colab_type": "code",
        "colab": {}
      },
      "source": [
        "#communication across threads, shared memory and sync\n",
        "@cuda.jit('int32(int32, int32)', device=True)\n",
        "def dev_sum(a, b):\n",
        "    return a + b\n",
        "@cuda.jit('void(int32[:], int32[:])')\n",
        "def cu_sum(a, b):\n",
        "    sa = cuda.shared.array(shape=(512,), dtype=int32)\n",
        "    tx = cuda.threadIdx.x\n",
        "    bx = cuda.blockIdx.x\n",
        "    bw = cuda.blockDim.x\n",
        "    i = tx + bx * bw\n",
        "    if i < a.shape[0]:\n",
        "        sa[tx] = a[i]\n",
        "        if tx == 0:\n",
        "            s = sa[tx]\n",
        "            cuda.syncthreads()\n",
        "            for j in range(1, bw):\n",
        "                s = dev_sum(s, sa[j])\n",
        "            b[bx] = s"
      ],
      "execution_count": 0,
      "outputs": []
    },
    {
      "cell_type": "code",
      "metadata": {
        "id": "OePVOYMM0PUq",
        "colab_type": "code",
        "outputId": "8ad469cd-c5f3-46de-cc46-dd13c10662cf",
        "colab": {
          "base_uri": "https://localhost:8080/",
          "height": 102
        }
      },
      "source": [
        "k=4\n",
        "n=6*4\n",
        "a = np.random.randint(0, n, n).astype(np.int32)\n",
        "#b = np.random.randint(0, n, n).astype(np.int32)\n",
        "print ('a =', a)\n",
        "print ('a.sum() = ', a.sum())\n",
        "d_a = cuda.to_device(a)\n",
        "d_b = cuda.to_device(a, copy=False)\n",
        "griddim = (k, 1)\n",
        "blockdim = (a.size//k, 1)\n",
        "cu_sum[griddim, blockdim](d_a, d_a)\n",
        "d_a.to_host()\n",
        "print ('a =', a)\n",
        "cu_sum[1, griddim](d_a[:k], d_a)\n",
        "d_a.to_host()\n",
        "print ('a =', a)"
      ],
      "execution_count": 20,
      "outputs": [
        {
          "output_type": "stream",
          "text": [
            "a = [ 6 21  6 21  1  4  6  8 12 22  2 16 12 17  0 11 11 12 17  0 13  4 23 11]\n",
            "a.sum() =  256\n",
            "a = [59 66 63 68  1  4  6  8 12 22  2 16 12 17  0 11 11 12 17  0 13  4 23 11]\n",
            "a = [256  66  63  68   1   4   6   8  12  22   2  16  12  17   0  11  11  12\n",
            "  17   0  13   4  23  11]\n"
          ],
          "name": "stdout"
        }
      ]
    },
    {
      "cell_type": "code",
      "metadata": {
        "id": "t7VUubS91RzU",
        "colab_type": "code",
        "colab": {}
      },
      "source": [
        "#compare Madnelbrot fractal python vs vectorize vs cudajit\n",
        "def mandel(x, y, max_iters):\n",
        "    c = complex(x, y)\n",
        "    z = 0.0j\n",
        "    for i in range(max_iters):\n",
        "        z = z*z + c\n",
        "        if z.real*z.real + z.imag*z.imag >= 4:\n",
        "            return i\n",
        "    return max_iters"
      ],
      "execution_count": 0,
      "outputs": []
    },
    {
      "cell_type": "code",
      "metadata": {
        "id": "WSpO902r2RKL",
        "colab_type": "code",
        "colab": {}
      },
      "source": [
        "def create_fractal(xmin, xmax, ymin, ymax, image, iters):\n",
        "    height, width = image.shape\n",
        "\n",
        "    pixel_size_x = (xmax - xmin)/width\n",
        "    pixel_size_y = (ymax - ymin)/height\n",
        "\n",
        "    for x in range(width):\n",
        "        real = xmin + x*pixel_size_x\n",
        "        for y in range(height):\n",
        "            imag = ymin + y*pixel_size_y\n",
        "            color = mandel(real, imag, iters)\n",
        "            image[y, x]  = color"
      ],
      "execution_count": 0,
      "outputs": []
    },
    {
      "cell_type": "code",
      "metadata": {
        "id": "xbo1g5Ot22CV",
        "colab_type": "code",
        "outputId": "cecb6f18-38b1-45b6-fb48-6192da2093e8",
        "colab": {
          "base_uri": "https://localhost:8080/",
          "height": 303
        }
      },
      "source": [
        "gimage = np.zeros((1024, 1536), dtype=np.uint8)\n",
        "xmin, xmax, ymin, ymax = np.array([-2.0, 1.0, -1.0, 1.0]).astype('float32')\n",
        "iters = 50\n",
        "\n",
        "start = timer()\n",
        "create_fractal(xmin, xmax, ymin, ymax, gimage, iters)\n",
        "dt = timer() - start\n",
        "\n",
        "print(\"Mandelbrot created on CPU in %f s\" % dt)\n",
        "plt.imshow(gimage)"
      ],
      "execution_count": 23,
      "outputs": [
        {
          "output_type": "stream",
          "text": [
            "Mandelbrot created on CPU in 11.912909 s\n"
          ],
          "name": "stdout"
        },
        {
          "output_type": "execute_result",
          "data": {
            "text/plain": [
              "<matplotlib.image.AxesImage at 0x7f38faa5fd30>"
            ]
          },
          "metadata": {
            "tags": []
          },
          "execution_count": 23
        },
        {
          "output_type": "display_data",
          "data": {
            "image/png": "[encoded data removed]",
            "text/plain": [
              "<Figure size 432x288 with 1 Axes>"
            ]
          },
          "metadata": {
            "tags": []
          }
        }
      ]
    },
    {
      "cell_type": "code",
      "metadata": {
        "id": "nqJ2D3n-3H6V",
        "colab_type": "code",
        "colab": {}
      },
      "source": [
        "import numba\n",
        "mandel_numba = numba.jit(uint32(float32, float32, uint32))(mandel)"
      ],
      "execution_count": 0,
      "outputs": []
    },
    {
      "cell_type": "code",
      "metadata": {
        "id": "nwcP5pgc3ezo",
        "colab_type": "code",
        "colab": {}
      },
      "source": [
        "@numba.jit\n",
        "def create_fractal_numba(xmin, xmax, ymin, ymax, image, iters):\n",
        "    height, width = image.shape\n",
        "\n",
        "    pixel_size_x = (xmax - xmin)/width\n",
        "    pixel_size_y = (ymax - ymin)/height\n",
        "\n",
        "    for x in range(width):\n",
        "        real = xmin + x*pixel_size_x\n",
        "        for y in range(height):\n",
        "            imag = ymin + y*pixel_size_y\n",
        "            color = mandel_numba(real, imag, iters)\n",
        "            image[y, x]  = color"
      ],
      "execution_count": 0,
      "outputs": []
    },
    {
      "cell_type": "code",
      "metadata": {
        "id": "T1vNfIS14LZK",
        "colab_type": "code",
        "outputId": "da5e0c46-d016-4b7a-be36-a3ddc42b8673",
        "colab": {
          "base_uri": "https://localhost:8080/",
          "height": 303
        }
      },
      "source": [
        "gimage = np.zeros((1024, 1536), dtype=np.uint8)\n",
        "xmin, xmax, ymin, ymax = np.array([-2.0, 1.0, -1.0, 1.0]).astype('float32')\n",
        "iters = 50\n",
        "\n",
        "start = timer()\n",
        "create_fractal_numba(xmin, xmax, ymin, ymax, gimage, iters)\n",
        "dt = timer() - start\n",
        "\n",
        "print (\"Mandelbrot created on CPU in %f s\" % dt)\n",
        "plt.imshow(gimage)"
      ],
      "execution_count": 26,
      "outputs": [
        {
          "output_type": "stream",
          "text": [
            "Mandelbrot created on CPU in 0.250815 s\n"
          ],
          "name": "stdout"
        },
        {
          "output_type": "execute_result",
          "data": {
            "text/plain": [
              "<matplotlib.image.AxesImage at 0x7f38fa48ad30>"
            ]
          },
          "metadata": {
            "tags": []
          },
          "execution_count": 26
        },
        {
          "output_type": "display_data",
          "data": {
            "image/png": "[encoded data removed]",
            "text/plain": [
              "<Figure size 432x288 with 1 Axes>"
            ]
          },
          "metadata": {
            "tags": []
          }
        }
      ]
    },
    {
      "cell_type": "code",
      "metadata": {
        "id": "geiQBWkB5N9r",
        "colab_type": "code",
        "colab": {}
      },
      "source": [
        "mandel_gpu = cuda.jit(restype=uint32, argtypes=[float32, float32, uint32], device=True)(mandel)"
      ],
      "execution_count": 0,
      "outputs": []
    },
    {
      "cell_type": "code",
      "metadata": {
        "id": "ncgMXPra5pJd",
        "colab_type": "code",
        "colab": {}
      },
      "source": [
        "@cuda.jit(argtypes=[float32, float32, float32, float32, uint8[:,:], uint32])\n",
        "def create_fractal_kernel(xmin, xmax, ymin, ymax, image, iters):\n",
        "    height, width = image.shape\n",
        "\n",
        "    pixel_size_x = (xmax - xmin)/width\n",
        "    pixel_size_y = (ymax - ymin)/height\n",
        "\n",
        "    startX, startY = cuda.grid(2)\n",
        "    gridX = cuda.gridDim.x * cuda.blockDim.x # stride in x\n",
        "    gridY = cuda.gridDim.y * cuda.blockDim.y # stride in y\n",
        "\n",
        "    for x in range(startX, width, gridX):\n",
        "        real = xmin + x*pixel_size_x\n",
        "        for y in range(startY, height, gridY):\n",
        "            imag = ymin + y*pixel_size_y\n",
        "            color = mandel_gpu(real, imag, iters)\n",
        "            image[y, x]  = color"
      ],
      "execution_count": 0,
      "outputs": []
    },
    {
      "cell_type": "code",
      "metadata": {
        "id": "kcgBlsFk5wBj",
        "colab_type": "code",
        "outputId": "10b4d642-8467-4577-85c6-b9a02beec247",
        "colab": {
          "base_uri": "https://localhost:8080/",
          "height": 286
        }
      },
      "source": [
        "gimage = np.zeros((1024, 1536), dtype=np.uint8)\n",
        "blockdim = (32, 8)\n",
        "griddim = (32, 16)\n",
        "xmin, xmax, ymin, ymax = np.array([-2.0, 1.0, -1.0, 1.0]).astype('float32')\n",
        "iters = 50\n",
        "\n",
        "start = timer()\n",
        "d_image = cuda.to_device(gimage)\n",
        "create_fractal_kernel[griddim, blockdim](xmin, xmax, ymin, ymax, d_image, iters)\n",
        "d_image.to_host()\n",
        "dt = timer() - start\n",
        "\n",
        "print (\"Mandelbrot created on GPU in %f s\" % dt)\n",
        "plt.imshow(gimage);"
      ],
      "execution_count": 29,
      "outputs": [
        {
          "output_type": "stream",
          "text": [
            "Mandelbrot created on GPU in 0.002709 s\n"
          ],
          "name": "stdout"
        },
        {
          "output_type": "display_data",
          "data": {
            "image/png": "[encoded data removed]",
            "text/plain": [
              "<Figure size 432x288 with 1 Axes>"
            ]
          },
          "metadata": {
            "tags": []
          }
        }
      ]
    },
    {
      "cell_type": "code",
      "metadata": {
        "id": "GLh_ftMrRXzJ",
        "colab_type": "code",
        "colab": {}
      },
      "source": [
        "#no shared mmry\n",
        "@cuda.jit('void(float32[:,:], float32[:,:], float32[:,:], int32)')\n",
        "def cu_matmul(a, b, c, n):\n",
        "    x, y = cuda.grid(2)\n",
        "    if (x >= n) or (y >= n):\n",
        "        return\n",
        "    c[x, y] = 0\n",
        "    for i in range(n):\n",
        "        c[x, y] +=  a[x, i] * b[i, y]\n",
        "    "
      ],
      "execution_count": 0,
      "outputs": []
    },
    {
      "cell_type": "code",
      "metadata": {
        "id": "10csx7t0Tqt0",
        "colab_type": "code",
        "colab": {}
      },
      "source": [
        "tpb = device.WARP_SIZE\n",
        "n = 400\n",
        "bpg = (n+tpb-1)//tpb\n",
        "grid_dim = (bpg, bpg)\n",
        "block_dim = (tpb, tpb)\n",
        "A = np.random.random((n, n)).astype(np.float32)\n",
        "B = np.random.random((n, n)).astype(np.float32)\n",
        "C = np.empty((n, n), dtype=np.float32)\n",
        "cu_matmul[grid_dim, block_dim](A, B, C, n)\n",
        "assert(np.allclose(np.dot(A, B), C))"
      ],
      "execution_count": 0,
      "outputs": []
    },
    {
      "cell_type": "code",
      "metadata": {
        "id": "b0TQ15HzTxcN",
        "colab_type": "code",
        "colab": {
          "base_uri": "https://localhost:8080/",
          "height": 136
        },
        "outputId": "546857a5-646d-41d9-d825-92ffc2c769e4"
      },
      "source": [
        "print(C)"
      ],
      "execution_count": 33,
      "outputs": [
        {
          "output_type": "stream",
          "text": [
            "[[ 95.6819 102.6256  97.1412 ...  99.3823  98.0109  96.0428]\n",
            " [ 99.4969 107.878  101.9715 ... 101.2091 101.7379 102.2736]\n",
            " [ 89.7464  99.7819  95.0523 ...  91.7552  94.3732  94.9066]\n",
            " ...\n",
            " [ 94.7442 103.4978 100.0931 ...  96.7879  97.0001  98.4568]\n",
            " [ 95.295  103.7267  95.8899 ...  98.9058 100.6443  98.4695]\n",
            " [ 99.5778 109.9046 102.4656 ... 101.6233  99.2945 101.8121]]\n"
          ],
          "name": "stdout"
        }
      ]
    },
    {
      "cell_type": "code",
      "metadata": {
        "id": "nBbw2_fIszDJ",
        "colab_type": "code",
        "colab": {}
      },
      "source": [
        "tpb = device.WARP_SIZE\n",
        "block_dim = (tpb, tpb)\n",
        "@cuda.jit('void(float32[:,:], float32[:,:], float32[:,:], int32, int32, int32)')\n",
        "def cu_matmul_sm(A, B, C, n, tpb, bpg):\n",
        "    sA = cuda.shared.array(shape=block_dim, dtype=float32)\n",
        "    sB = cuda.shared.array(shape=block_dim, dtype=float32)\n",
        "    tx = cuda.threadIdx.x\n",
        "    ty = cuda.threadIdx.y\n",
        "    x, y = cuda.grid(2)\n",
        "    acc = 0.0\n",
        "    for i in range(bpg):\n",
        "        sA[tx, ty] = A[x, ty + i * tpb]\n",
        "        sB[tx, ty] = B[tx + i * tpb, y]\n",
        "        cuda.syncthreads()\n",
        "        if x < n and y < n:\n",
        "            for j in range(tpb):\n",
        "                acc += sA[tx, j] * sB[j, ty]\n",
        "        cuda.syncthreads()\n",
        "    if x < n and y < n:\n",
        "        C[x, y] = acc"
      ],
      "execution_count": 0,
      "outputs": []
    },
    {
      "cell_type": "code",
      "metadata": {
        "id": "f7YMAwqMviwU",
        "colab_type": "code",
        "colab": {}
      },
      "source": [
        "k = 32\n",
        "n = tpb * k\n",
        "bpg = n//tpb\n",
        "grid_dim = (bpg, bpg)\n",
        "A = np.random.random((n, n)).astype(np.float32)\n",
        "B = np.random.random((n, n)).astype(np.float32)\n",
        "C = np.empty((n, n), dtype=np.float32)\n",
        "cu_matmul_sm[grid_dim, block_dim](A, B, C, n, tpb, bpg)\n",
        "assert(np.allclose(np.dot(A, B), C))"
      ],
      "execution_count": 0,
      "outputs": []
    },
    {
      "cell_type": "code",
      "metadata": {
        "id": "qeQvg2E2vsgP",
        "colab_type": "code",
        "colab": {
          "base_uri": "https://localhost:8080/",
          "height": 85
        },
        "outputId": "1980be3f-d397-433c-f67f-3d6747335a39"
      },
      "source": [
        "k = 8\n",
        "n = tpb * k\n",
        "bpg = n//tpb\n",
        "grid_dim = (bpg, bpg)\n",
        "\n",
        "# Prepare data on the CPU\n",
        "A = np.array(np.random.random((n, n)), dtype=np.float32)\n",
        "B = np.array(np.random.random((n, n)), dtype=np.float32)\n",
        "C = np.zeros_like(A)\n",
        "\n",
        "print (\"N = %d x %d\" % (n, n))\n",
        "\n",
        "# Prepare data on the GPU\n",
        "dA = cuda.to_device(A)\n",
        "dB = cuda.to_device(B)\n",
        "dC = cuda.to_device(C) # device_array_like(A)\n",
        "\n",
        "# Time numpy version\n",
        "s = timer()\n",
        "np_ans = np.dot(A, B)\n",
        "e = timer()\n",
        "t = e - s\n",
        "\n",
        "# Time the unoptimized version\n",
        "s = timer()\n",
        "cu_matmul[grid_dim, block_dim](dA, dB, dC, n)\n",
        "cuda.synchronize()\n",
        "e = timer()\n",
        "\n",
        "unopt_ans = dC.copy_to_host()\n",
        "tcuda_unopt = e - s\n",
        "\n",
        "# Time the shared memory version\n",
        "s = timer()\n",
        "cu_matmul_sm[grid_dim, block_dim](dA, dB, dC, n, tpb, bpg)\n",
        "cuda.synchronize()\n",
        "e = timer()\n",
        "opt_ans = dC.copy_to_host()\n",
        "tcuda_opt = e - s\n",
        "\n",
        "# Time for CuBLAS version\n",
        "# s = timer()\n",
        "# blas.gemm('T', 'T', n, n, n, 1.0, A, B, 1.0, C) # A, B not in fortran order so need for transpose\n",
        "# e = timer()\n",
        "# blas_ans = dC.copy_to_host()\n",
        "# tcuda_blas = e - s\n",
        "\n",
        "print (\"Using numpy.dot:\", \"%.2f\" % t, \"s\")\n",
        "print (\"Without shared memory:\", \"%.2f\" % tcuda_unopt, \"s\")\n",
        "print (\"With shared memory:\", \"%.2f\" % tcuda_opt, \"s\")\n",
        "#print (\"Using CuBLAS:\", \"%.2f\" % tcuda_blas, \"s\")"
      ],
      "execution_count": 38,
      "outputs": [
        {
          "output_type": "stream",
          "text": [
            "N = 256 x 256\n",
            "Using numpy.dot: 0.00 s\n",
            "Without shared memory: 0.00 s\n",
            "With shared memory: 0.00 s\n"
          ],
          "name": "stdout"
        }
      ]
    },
    {
      "cell_type": "code",
      "metadata": {
        "id": "vJs4u2rJwBds",
        "colab_type": "code",
        "colab": {}
      },
      "source": [
        ""
      ],
      "execution_count": 0,
      "outputs": []
    }
  ]
}