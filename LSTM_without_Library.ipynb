{
  "nbformat": 4,
  "nbformat_minor": 0,
  "metadata": {
    "colab": {
      "name": "LSTM without Library.ipynb",
      "provenance": [],
      "collapsed_sections": [],
      "authorship_tag": "ABX9TyOhvZrh3yotQlW4YppeoIk0",
      "include_colab_link": true
    },
    "kernelspec": {
      "name": "python3",
      "display_name": "Python 3"
    },
    "accelerator": "GPU"
  },
  "cells": [
    {
      "cell_type": "markdown",
      "metadata": {
        "id": "view-in-github",
        "colab_type": "text"
      },
      "source": [
        "<a href=\"https://colab.research.google.com/github/kunwarsharik/SharikProjects/blob/master/LSTM_without_Library.ipynb\" target=\"_parent\"><img src=\"https://colab.research.google.com/assets/colab-badge.svg\" alt=\"Open In Colab\"/></a>"
      ]
    },
    {
      "cell_type": "code",
      "metadata": {
        "id": "uEDUOCd6l2Z7",
        "colab_type": "code",
        "colab": {}
      },
      "source": [
        "import copy, numpy as np\n",
        "np.random.seed(0)"
      ],
      "execution_count": 0,
      "outputs": []
    },
    {
      "cell_type": "code",
      "metadata": {
        "id": "Hn8uEKjDsRzV",
        "colab_type": "code",
        "colab": {}
      },
      "source": [
        "def sigmoid(x):\n",
        "    output = 1/(1+np.exp(-x))\n",
        "    return output\n",
        "def sigmoid_output_to_derivative(output):\n",
        "    return output*(1-output)#diff of sigmoid"
      ],
      "execution_count": 0,
      "outputs": []
    },
    {
      "cell_type": "code",
      "metadata": {
        "id": "DbvigOjMtFzA",
        "colab_type": "code",
        "colab": {}
      },
      "source": [
        "int2binary = {}#look up table int to binary representation of number, we'll do math on binary rep\n",
        "binary_dim = 8\n",
        "largest_number = pow(2,binary_dim)"
      ],
      "execution_count": 0,
      "outputs": []
    },
    {
      "cell_type": "code",
      "metadata": {
        "id": "Btm0jgELuCbb",
        "colab_type": "code",
        "colab": {}
      },
      "source": [
        "binary=np.unpackbits(np.array([range(largest_number)],dtype=np.uint8).T,axis=1)"
      ],
      "execution_count": 0,
      "outputs": []
    },
    {
      "cell_type": "code",
      "metadata": {
        "id": "SJrCesc_uqr1",
        "colab_type": "code",
        "colab": {}
      },
      "source": [
        "for i in range(largest_number):\n",
        "    int2binary[i] = binary[i]"
      ],
      "execution_count": 0,
      "outputs": []
    },
    {
      "cell_type": "code",
      "metadata": {
        "id": "-8FKHGK1wSgU",
        "colab_type": "code",
        "colab": {}
      },
      "source": [
        "alpha = 0.1#lR\n",
        "input_dim = 2\n",
        "hidden_dim = 16\n",
        "output_dim = 1"
      ],
      "execution_count": 0,
      "outputs": []
    },
    {
      "cell_type": "code",
      "metadata": {
        "id": "_XtPgZRfwVaR",
        "colab_type": "code",
        "colab": {}
      },
      "source": [
        "synapse_0 = 2*np.random.random((input_dim,hidden_dim)) - 1\n",
        "synapse_1 = 2*np.random.random((hidden_dim,output_dim)) -1\n",
        "synapse_h = 2*np.random.random((hidden_dim,hidden_dim)) -1\n",
        "\n",
        "synapse_0_update = np.zeros_like(synapse_0)\n",
        "synapse_1_update = np.zeros_like(synapse_1)\n",
        "synapse_h_update = np.zeros_like(synapse_h)"
      ],
      "execution_count": 0,
      "outputs": []
    },
    {
      "cell_type": "code",
      "metadata": {
        "id": "efQzCKTbxO4B",
        "colab_type": "code",
        "colab": {
          "base_uri": "https://localhost:8080/",
          "height": 527
        },
        "outputId": "68782c6f-087f-4423-c9e3-1d2746092323"
      },
      "source": [
        "for j in range(10000):\n",
        "    a_int = np.random.randint(largest_number/2)\n",
        "    a = int2binary[a_int]\n",
        "    b_int = np.random.randint(largest_number/2)\n",
        "    b = int2binary[b_int]\n",
        "    c_int = a_int + b_int\n",
        "    c = int2binary[c_int]\n",
        "    d = np.zeros_like(c)\n",
        "    overallError = 0\n",
        "    layer_2_deltas=[]#output layers\n",
        "    layer_1_values=[]#hidden layer values\n",
        "    layer_1_values.append(np.zeros(hidden_dim))\n",
        "    for position in range(binary_dim):\n",
        "        X = np.array([[a[binary_dim-position-1],b[binary_dim-position-1]]])\n",
        "        y = np.array([[c[binary_dim - position - 1]]]).T\n",
        "        #prop input to current hidden, prop prev hidden to currt hidden add both and do sigmoid\n",
        "        layer_1 = sigmoid(np.dot(X,synapse_0) + np.dot(layer_1_values[-1],synapse_h))\n",
        "        layer_2 = sigmoid(np.dot(layer_1,synapse_1))#hidden layer to output\n",
        "        layer_2_error = y - layer_2\n",
        "        layer_2_deltas.append((layer_2_error)*sigmoid_output_to_derivative(layer_2))        \n",
        "        overallError += np.abs(layer_2_error[0])\n",
        "        d[binary_dim - position - 1] = np.round(layer_2[0][0])\n",
        "        layer_1_values.append(copy.deepcopy(layer_1))\n",
        "    future_layer_1_delta = np.zeros(hidden_dim)\n",
        "    for position in range(binary_dim):#back prop from last timestep to first\n",
        "        X = np.array([[a[position],b[position]]])\n",
        "        layer_1 = layer_1_values[-position-1]#currnt hidden layer\n",
        "        prev_layer_1 = layer_1_values[-position-2]#prev hidden layer\n",
        "        layer_2_delta = layer_2_deltas[-position-1]#current output error\n",
        "        #we have curnt output layer error and hidden layer error from future layer, cuurent hidn layer error can be calc\n",
        "        layer_1_delta = (future_layer_1_delta.dot(synapse_h.T) + layer_2_delta.dot(synapse_1.T)) * sigmoid_output_to_derivative(layer_1)\n",
        "        #we calc wt updates but actual update will be done when complete back prop done\n",
        "        synapse_1_update += np.atleast_2d(layer_1).T.dot(layer_2_delta)\n",
        "        synapse_h_update += np.atleast_2d(prev_layer_1).T.dot(layer_1_delta)\n",
        "        synapse_0_update += X.T.dot(layer_1_delta)\n",
        "        future_layer_1_delta = layer_1_delta\n",
        "    synapse_0 += synapse_0_update * alpha\n",
        "    synapse_1 += synapse_1_update * alpha\n",
        "    synapse_h += synapse_h_update * alpha\n",
        "    synapse_0_update *= 0\n",
        "    synapse_1_update *= 0\n",
        "    synapse_h_update *= 0\n",
        "    if(j % 1000 == 0):\n",
        "        print(\"error:\"+str(overallError)+\"pred:\"+str(d)+\"true\")\n",
        "        out = 0\n",
        "        for index,x in enumerate(reversed(d)):\n",
        "            out += x*pow(2,index)\n",
        "        print (str(a_int)+\"+\"+str(b_int)+\"=\"+str(out))\n",
        "        print(\"----------------------------------------\")"
      ],
      "execution_count": 8,
      "outputs": [
        {
          "output_type": "stream",
          "text": [
            "error:[3.45638663]pred:[0 0 0 0 0 0 0 1]true\n",
            "9+60=1\n",
            "----------------------------------------\n",
            "error:[3.63389116]pred:[1 1 1 1 1 1 1 1]true\n",
            "28+35=255\n",
            "----------------------------------------\n",
            "error:[3.91366595]pred:[0 1 0 0 1 0 0 0]true\n",
            "116+44=72\n",
            "----------------------------------------\n",
            "error:[3.72191702]pred:[1 1 0 1 1 1 1 1]true\n",
            "4+73=223\n",
            "----------------------------------------\n",
            "error:[3.5852713]pred:[0 0 0 0 1 0 0 0]true\n",
            "71+11=8\n",
            "----------------------------------------\n",
            "error:[2.53352328]pred:[1 0 1 0 0 0 1 0]true\n",
            "81+113=162\n",
            "----------------------------------------\n",
            "error:[0.57691441]pred:[0 1 0 1 0 0 0 1]true\n",
            "81+0=81\n",
            "----------------------------------------\n",
            "error:[1.42589952]pred:[1 0 0 0 0 0 0 1]true\n",
            "4+125=129\n",
            "----------------------------------------\n",
            "error:[0.47477457]pred:[0 0 1 1 1 0 0 0]true\n",
            "39+17=56\n",
            "----------------------------------------\n",
            "error:[0.21595037]pred:[0 0 0 0 1 1 1 0]true\n",
            "11+3=14\n",
            "----------------------------------------\n"
          ],
          "name": "stdout"
        }
      ]
    },
    {
      "cell_type": "code",
      "metadata": {
        "id": "SHHCPryuz4pb",
        "colab_type": "code",
        "colab": {}
      },
      "source": [
        ""
      ],
      "execution_count": 0,
      "outputs": []
    }
  ]
}