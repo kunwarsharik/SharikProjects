{
  "nbformat": 4,
  "nbformat_minor": 0,
  "metadata": {
    "colab": {
      "name": "Combinatorial Optimization scipy.ipynb",
      "provenance": [],
      "collapsed_sections": [],
      "authorship_tag": "ABX9TyNaXZvonWJ6oUG5DZ7uZaIk",
      "include_colab_link": true
    },
    "kernelspec": {
      "name": "python3",
      "display_name": "Python 3"
    },
    "language_info": {
      "name": "python"
    }
  },
  "cells": [
    {
      "cell_type": "markdown",
      "metadata": {
        "id": "view-in-github",
        "colab_type": "text"
      },
      "source": [
        "<a href=\"https://colab.research.google.com/github/kunwarsharik/SharikProjects/blob/master/Combinatorial_Optimization_scipy.ipynb\" target=\"_parent\"><img src=\"https://colab.research.google.com/assets/colab-badge.svg\" alt=\"Open In Colab\"/></a>"
      ]
    },
    {
      "cell_type": "code",
      "metadata": {
        "id": "ruQsBwoHvDKl"
      },
      "source": [
        "from scipy.optimize import linprog"
      ],
      "execution_count": 1,
      "outputs": []
    },
    {
      "cell_type": "code",
      "metadata": {
        "colab": {
          "base_uri": "https://localhost:8080/",
          "height": 52
        },
        "id": "xBHoBoTgvlyb",
        "outputId": "03bfa675-4b9e-4342-b0e5-3d32198faf4c"
      },
      "source": [
        "# programming problem\n",
        "'''\n",
        "z= x+2y          # we want to maximize this\n",
        "2x+y<=20         # Conditions\n",
        "-4x+5y<=10\n",
        "-x+2y>=-2\n",
        "-x+5y=15\n",
        "x>=0\n",
        "y>=0\n",
        "'''"
      ],
      "execution_count": 2,
      "outputs": [
        {
          "output_type": "execute_result",
          "data": {
            "application/vnd.google.colaboratory.intrinsic+json": {
              "type": "string"
            },
            "text/plain": [
              "'\\nz= x+2y          # we want to maximize this\\n2x+y<=20         # Conditions\\n-4x+5y<=10\\n-x+2y>=-2\\n-x+5y=15\\nx>=0\\ny>=0\\n'"
            ]
          },
          "metadata": {},
          "execution_count": 2
        }
      ]
    },
    {
      "cell_type": "markdown",
      "metadata": {
        "id": "utbGzFqUwPAq"
      },
      "source": [
        "Using scipy we can only minimize. The ability to maximize is still missing so we convert our problem to optimal minimization by multiplying with \"-1\" to change equation."
      ]
    },
    {
      "cell_type": "code",
      "metadata": {
        "id": "3Dp3tObVwGMc"
      },
      "source": [
        "obj=[-1,-2]#cofficient of x and y multiplied by -1 to get minimum -z i.e maximum +z\n",
        "lhs_ineq=[[2,1],[-4,5],[-1,2]] # coff of x,y in inequalities.\n",
        "rhs_ineq=[20,10,-2]\n",
        "lhs_eq=[[-1,5]] # above are inequalities, equalities are given seperately \n",
        "rhs_eq=[15]#right side"
      ],
      "execution_count": 3,
      "outputs": []
    },
    {
      "cell_type": "code",
      "metadata": {
        "id": "-weueo2lxzLi"
      },
      "source": [
        "bnd=[(0,float(\"inf\")),(0,float(\"inf\"))] # x,y bounds"
      ],
      "execution_count": 4,
      "outputs": []
    },
    {
      "cell_type": "code",
      "metadata": {
        "id": "JPDdoPteyASy"
      },
      "source": [
        "opt=linprog(c=obj, \n",
        "            A_ub=lhs_ineq, \n",
        "            b_ub=rhs_ineq, \n",
        "            A_eq=lhs_eq, \n",
        "            b_eq=rhs_eq, \n",
        "            bounds=bnd, \n",
        "            method=\"revised simplex\")"
      ],
      "execution_count": 5,
      "outputs": []
    },
    {
      "cell_type": "code",
      "metadata": {
        "colab": {
          "base_uri": "https://localhost:8080/"
        },
        "id": "6cYFPuFZyk9v",
        "outputId": "0fb6b4ad-6736-4ef7-9faf-e14d4a2deab3"
      },
      "source": [
        "opt"
      ],
      "execution_count": 6,
      "outputs": [
        {
          "output_type": "execute_result",
          "data": {
            "text/plain": [
              "     con: array([1.77635684e-15])\n",
              "     fun: -16.818181818181817\n",
              " message: 'The problem appears infeasible, as the phase one auxiliary problem terminated successfully with a residual of 3.4e+00, greater than the tolerance 1e-12 required for the solution to be considered feasible. Consider increasing the tolerance to be greater than 3.4e+00. If this tolerance is unnaceptably large, the problem is likely infeasible.'\n",
              "     nit: 3\n",
              "   slack: array([ 0.        , 18.18181818, -3.36363636])\n",
              "  status: 2\n",
              " success: False\n",
              "       x: array([7.72727273, 4.54545455])"
            ]
          },
          "metadata": {},
          "execution_count": 6
        }
      ]
    },
    {
      "cell_type": "code",
      "metadata": {
        "colab": {
          "base_uri": "https://localhost:8080/"
        },
        "id": "x5Wt8B6GymLX",
        "outputId": "731adaa6-7e2b-492f-f62f-f63ee029a75c"
      },
      "source": [
        "opt.fun# minimum value of -z, i.e after multiply with -1 it will give max value"
      ],
      "execution_count": 7,
      "outputs": [
        {
          "output_type": "execute_result",
          "data": {
            "text/plain": [
              "-16.818181818181817"
            ]
          },
          "metadata": {},
          "execution_count": 7
        }
      ]
    },
    {
      "cell_type": "code",
      "metadata": {
        "colab": {
          "base_uri": "https://localhost:8080/"
        },
        "id": "2ykler68yqmF",
        "outputId": "20b4cd3f-d20f-4264-e60e-97f92d3be4c2"
      },
      "source": [
        "# iteration to finish calculations\n",
        "opt.nit"
      ],
      "execution_count": 8,
      "outputs": [
        {
          "output_type": "execute_result",
          "data": {
            "text/plain": [
              "3"
            ]
          },
          "metadata": {},
          "execution_count": 8
        }
      ]
    },
    {
      "cell_type": "code",
      "metadata": {
        "colab": {
          "base_uri": "https://localhost:8080/"
        },
        "id": "eqk-7HKJzVMT",
        "outputId": "fb5e6be4-1983-4d73-c25b-11e710376037"
      },
      "source": [
        "# optimal values\n",
        "print(\"x:\",opt.x[0], \" y:\", opt.x[1])"
      ],
      "execution_count": 9,
      "outputs": [
        {
          "output_type": "stream",
          "name": "stdout",
          "text": [
            "x: 7.727272727272727  y: 4.545454545454545\n"
          ]
        }
      ]
    },
    {
      "cell_type": "code",
      "metadata": {
        "id": "x47P04yWzrj-"
      },
      "source": [
        "# if we leave the equality constraint. That we dont want solution on this line.\n",
        "# just remove equality cons i.e A_eq and b_eq\n",
        "opt=linprog(c=obj, \n",
        "            A_ub=lhs_ineq, \n",
        "            b_ub=rhs_ineq, \n",
        "            bounds=bnd, \n",
        "            method=\"revised simplex\")"
      ],
      "execution_count": 10,
      "outputs": []
    },
    {
      "cell_type": "code",
      "metadata": {
        "colab": {
          "base_uri": "https://localhost:8080/"
        },
        "id": "XLq_ey-90Oe4",
        "outputId": "d94c5f0a-a905-4efe-9c36-c20b2fc6f7c6"
      },
      "source": [
        "opt"
      ],
      "execution_count": 11,
      "outputs": [
        {
          "output_type": "execute_result",
          "data": {
            "text/plain": [
              "     con: array([], dtype=float64)\n",
              "     fun: -14.8\n",
              " message: 'Optimization terminated successfully.'\n",
              "     nit: 2\n",
              "   slack: array([ 0. , 27.6,  0. ])\n",
              "  status: 0\n",
              " success: True\n",
              "       x: array([8.4, 3.2])"
            ]
          },
          "metadata": {},
          "execution_count": 11
        }
      ]
    },
    {
      "cell_type": "code",
      "metadata": {
        "colab": {
          "base_uri": "https://localhost:8080/"
        },
        "id": "vIIoh5850QUc",
        "outputId": "c5f59326-d6e2-4f7f-a30e-de47733b6c6b"
      },
      "source": [
        "# point of maximum optimization changed\n",
        "print(\"x:\",opt.x[0], \" y:\", opt.x[1])"
      ],
      "execution_count": 12,
      "outputs": [
        {
          "output_type": "stream",
          "name": "stdout",
          "text": [
            "x: 8.4  y: 3.2\n"
          ]
        }
      ]
    },
    {
      "cell_type": "code",
      "metadata": {
        "colab": {
          "base_uri": "https://localhost:8080/"
        },
        "id": "iS648HAt0XhO",
        "outputId": "50148b73-b4d3-4b10-a3fa-18f2fb95afbb"
      },
      "source": [
        "opt.nit# this time number of iterations"
      ],
      "execution_count": 13,
      "outputs": [
        {
          "output_type": "execute_result",
          "data": {
            "text/plain": [
              "2"
            ]
          },
          "metadata": {},
          "execution_count": 13
        }
      ]
    },
    {
      "cell_type": "code",
      "metadata": {
        "colab": {
          "base_uri": "https://localhost:8080/"
        },
        "id": "0N5_2deB0ihU",
        "outputId": "3db8e89d-6504-4edf-de8b-b665207668d6"
      },
      "source": [
        "#maximum value of z\n",
        "opt.fun * (-1)"
      ],
      "execution_count": 14,
      "outputs": [
        {
          "output_type": "execute_result",
          "data": {
            "text/plain": [
              "14.8"
            ]
          },
          "metadata": {},
          "execution_count": 14
        }
      ]
    },
    {
      "cell_type": "markdown",
      "metadata": {
        "id": "KGiaAGgd0s9m"
      },
      "source": [
        "Consider optimization of a real world problem."
      ]
    },
    {
      "cell_type": "markdown",
      "metadata": {
        "id": "nViSbu8F1MS8"
      },
      "source": [
        "Resource allocation:<br>\n",
        "A factory makes 4 products.<br><br> Quantity produced of first product is x1, second product is x2. similarly x3, x4.<br><br>\n",
        "profit in producing per unit of 1,2,3,4 product is \\$20,\\$12,\\$40,\\$25.<br><br>\n",
        "Limit of production due to manpower is 50 units/day. <br><br>\n",
        "A,B are raw material. each x1 use 3unit of A. each x2 use 2 unit A and 1 unit B. x3 use 1 unit A 2 unit B. x4 use 3 unit B. <br><br>\n",
        "Transportation and storage limit 100 unit of A and 90 unit of B to stay in factory."
      ]
    },
    {
      "cell_type": "code",
      "metadata": {
        "id": "A1ooVZdX0ped"
      },
      "source": [
        "'''\n",
        "z= 20*x1+12*x2+40*x3+25*x4               # to maximize z\n",
        "\n",
        "3*x1+2*x2+x3<=100\n",
        "x2+2*x3+3*x4<=90\n",
        "\n",
        "x1+x2+x3+x4<=50\n",
        "\n",
        "x1,x2,x3,x4>=0\n",
        "'''"
      ],
      "execution_count": null,
      "outputs": []
    },
    {
      "cell_type": "code",
      "metadata": {
        "id": "JUqh25W95RG_"
      },
      "source": [
        "obj= [-20,-12,-40,-25]\n",
        "\n",
        "lhs_ineq=[[3,2,1,0],\n",
        "          [0,1,2,3],\n",
        "          [1,1,1,1]]\n",
        "rhs_ineq=[100,90,50]\n",
        "\n",
        "bnds=[\n",
        "      (0,float(\"inf\")),\n",
        "    (0,float(\"inf\")),\n",
        "    (0,float(\"inf\")),\n",
        "    (0,float(\"inf\"))\n",
        "]"
      ],
      "execution_count": 15,
      "outputs": []
    },
    {
      "cell_type": "code",
      "metadata": {
        "id": "mwCFqJIN6DBr"
      },
      "source": [
        "opt2=linprog(c=obj, \n",
        "             A_ub=lhs_ineq, \n",
        "             b_ub=rhs_ineq, \n",
        "             bounds=bnds,\n",
        "            method=\"revised simplex\")"
      ],
      "execution_count": 16,
      "outputs": []
    },
    {
      "cell_type": "code",
      "metadata": {
        "colab": {
          "base_uri": "https://localhost:8080/"
        },
        "id": "1HJAyAe86Uko",
        "outputId": "565cf24b-7807-4316-a1fd-d5728f333d3f"
      },
      "source": [
        "opt2"
      ],
      "execution_count": 17,
      "outputs": [
        {
          "output_type": "execute_result",
          "data": {
            "text/plain": [
              "     con: array([], dtype=float64)\n",
              "     fun: -1900.0\n",
              " message: 'Optimization terminated successfully.'\n",
              "     nit: 2\n",
              "   slack: array([40.,  0.,  0.])\n",
              "  status: 0\n",
              " success: True\n",
              "       x: array([ 5.,  0., 45.,  0.])"
            ]
          },
          "metadata": {},
          "execution_count": 17
        }
      ]
    },
    {
      "cell_type": "code",
      "metadata": {
        "colab": {
          "base_uri": "https://localhost:8080/"
        },
        "id": "wR4-TRys6Vyk",
        "outputId": "562e64b0-343f-465f-fbf5-3c4afc82fe7c"
      },
      "source": [
        "print(\"maximum profit per day is : $\", opt2.fun*(-1))"
      ],
      "execution_count": 19,
      "outputs": [
        {
          "output_type": "stream",
          "name": "stdout",
          "text": [
            "maximum profit per day is : $ 1900.0\n"
          ]
        }
      ]
    },
    {
      "cell_type": "code",
      "metadata": {
        "colab": {
          "base_uri": "https://localhost:8080/"
        },
        "id": "G6LvH53h6lMx",
        "outputId": "349d51a4-64c5-442c-b137-b4de9526fc57"
      },
      "source": [
        "print(\"steps taken:\", opt2.nit)"
      ],
      "execution_count": 20,
      "outputs": [
        {
          "output_type": "stream",
          "name": "stdout",
          "text": [
            "steps taken: 2\n"
          ]
        }
      ]
    },
    {
      "cell_type": "code",
      "metadata": {
        "colab": {
          "base_uri": "https://localhost:8080/"
        },
        "id": "8pNWCpZq6wcV",
        "outputId": "20e45395-a46a-48f2-a773-522c93b92458"
      },
      "source": [
        "print(\"produce {} units of x1, produce {} units of x2, produce {} units of x3, produce {} units of x4 for maximum profit.\".format(opt2.x[0],opt2.x[1],opt2.x[2],opt2.x[3]))"
      ],
      "execution_count": 23,
      "outputs": [
        {
          "output_type": "stream",
          "name": "stdout",
          "text": [
            "produce 5.0 units of x1, produce 0.0 units of x2, produce 45.0 units of x3, produce 0.0 units of x4 for maximum profit.\n"
          ]
        }
      ]
    },
    {
      "cell_type": "code",
      "metadata": {
        "id": "rLs9ija87wlM"
      },
      "source": [
        ""
      ],
      "execution_count": null,
      "outputs": []
    }
  ]
}