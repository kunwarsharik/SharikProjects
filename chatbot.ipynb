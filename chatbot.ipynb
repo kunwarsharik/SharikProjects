{
  "nbformat": 4,
  "nbformat_minor": 0,
  "metadata": {
    "colab": {
      "name": "chatbot.ipynb",
      "provenance": [],
      "collapsed_sections": [],
      "machine_shape": "hm",
      "authorship_tag": "ABX9TyP2d4nUY8eWavuS/J/xzmNW",
      "include_colab_link": true
    },
    "kernelspec": {
      "name": "python3",
      "display_name": "Python 3"
    },
    "accelerator": "GPU"
  },
  "cells": [
    {
      "cell_type": "markdown",
      "metadata": {
        "id": "view-in-github",
        "colab_type": "text"
      },
      "source": [
        "<a href=\"https://colab.research.google.com/github/kunwarsharik/SharikProjects/blob/master/chatbot.ipynb\" target=\"_parent\"><img src=\"https://colab.research.google.com/assets/colab-badge.svg\" alt=\"Open In Colab\"/></a>"
      ]
    },
    {
      "cell_type": "code",
      "metadata": {
        "id": "R1K1iAo8Cn4i",
        "colab_type": "code",
        "outputId": "ce979df3-4dac-4c84-9f5b-82ef815de067",
        "colab": {
          "base_uri": "https://localhost:8080/",
          "height": 122
        }
      },
      "source": [
        "from google.colab import drive\n",
        "drive.mount('/content/drive')"
      ],
      "execution_count": 1,
      "outputs": [
        {
          "output_type": "stream",
          "text": [
            "Go to this URL in a browser: https://accounts.google.com/o/oauth2/auth?client_id=947318989803-6bn6qk8qdgf4n4g3pfee6491hc0brc4i.apps.googleusercontent.com&redirect_uri=urn%3aietf%3awg%3aoauth%3a2.0%3aoob&response_type=code&scope=email%20https%3a%2f%2fwww.googleapis.com%2fauth%2fdocs.test%20https%3a%2f%2fwww.googleapis.com%2fauth%2fdrive%20https%3a%2f%2fwww.googleapis.com%2fauth%2fdrive.photos.readonly%20https%3a%2f%2fwww.googleapis.com%2fauth%2fpeopleapi.readonly\n",
            "\n",
            "Enter your authorization code:\n",
            "··········\n",
            "Mounted at /content/drive\n"
          ],
          "name": "stdout"
        }
      ]
    },
    {
      "cell_type": "code",
      "metadata": {
        "id": "MOqYLg6u_Rc4",
        "colab_type": "code",
        "colab": {}
      },
      "source": [
        "import os,json,nltk,gensim,numpy as np,pickle\n",
        "from gensim import corpora, models, similarities"
      ],
      "execution_count": 0,
      "outputs": []
    },
    {
      "cell_type": "code",
      "metadata": {
        "id": "M-bbrhDpASPz",
        "colab_type": "code",
        "outputId": "a6d24e9d-1462-43df-83f8-f15c40724719",
        "colab": {
          "base_uri": "https://localhost:8080/",
          "height": 204
        }
      },
      "source": [
        "!wget https://raw.githubusercontent.com/shreyans29/thesemicolon/master/conversation.json"
      ],
      "execution_count": 3,
      "outputs": [
        {
          "output_type": "stream",
          "text": [
            "--2020-01-30 17:58:34--  https://raw.githubusercontent.com/shreyans29/thesemicolon/master/conversation.json\n",
            "Resolving raw.githubusercontent.com (raw.githubusercontent.com)... 151.101.0.133, 151.101.64.133, 151.101.128.133, ...\n",
            "Connecting to raw.githubusercontent.com (raw.githubusercontent.com)|151.101.0.133|:443... connected.\n",
            "HTTP request sent, awaiting response... 200 OK\n",
            "Length: 3881 (3.8K) [text/plain]\n",
            "Saving to: ‘conversation.json’\n",
            "\n",
            "\rconversation.json     0%[                    ]       0  --.-KB/s               \rconversation.json   100%[===================>]   3.79K  --.-KB/s    in 0s      \n",
            "\n",
            "2020-01-30 17:58:34 (104 MB/s) - ‘conversation.json’ saved [3881/3881]\n",
            "\n"
          ],
          "name": "stdout"
        }
      ]
    },
    {
      "cell_type": "code",
      "metadata": {
        "id": "Z7D_ycLvD7dz",
        "colab_type": "code",
        "outputId": "61b91267-c03d-4aa0-e320-5ab83671c736",
        "colab": {
          "base_uri": "https://localhost:8080/",
          "height": 204
        }
      },
      "source": [
        "!wget https://s3.amazonaws.com/dl4j-distribution/GoogleNews-vectors-negative300.bin.gz\n",
        "!gunzip GoogleNews-vectors-negative300.bin.gz"
      ],
      "execution_count": 4,
      "outputs": [
        {
          "output_type": "stream",
          "text": [
            "--2020-01-30 17:58:39--  https://s3.amazonaws.com/dl4j-distribution/GoogleNews-vectors-negative300.bin.gz\n",
            "Resolving s3.amazonaws.com (s3.amazonaws.com)... 52.217.15.30\n",
            "Connecting to s3.amazonaws.com (s3.amazonaws.com)|52.217.15.30|:443... connected.\n",
            "HTTP request sent, awaiting response... 200 OK\n",
            "Length: 1647046227 (1.5G) [application/x-gzip]\n",
            "Saving to: ‘GoogleNews-vectors-negative300.bin.gz’\n",
            "\n",
            "GoogleNews-vectors- 100%[===================>]   1.53G  79.9MB/s    in 22s     \n",
            "\n",
            "2020-01-30 17:59:01 (71.3 MB/s) - ‘GoogleNews-vectors-negative300.bin.gz’ saved [1647046227/1647046227]\n",
            "\n"
          ],
          "name": "stdout"
        }
      ]
    },
    {
      "cell_type": "code",
      "metadata": {
        "id": "nFh6hd4sAY94",
        "colab_type": "code",
        "outputId": "2bab9887-8fe2-46d2-a2a3-48280cf97bcb",
        "colab": {
          "base_uri": "https://localhost:8080/",
          "height": 71
        }
      },
      "source": [
        "model=gensim.models.KeyedVectors.load_word2vec_format('GoogleNews-vectors-negative300.bin', binary=True)"
      ],
      "execution_count": 5,
      "outputs": [
        {
          "output_type": "stream",
          "text": [
            "/usr/local/lib/python3.6/dist-packages/smart_open/smart_open_lib.py:402: UserWarning: This function is deprecated, use smart_open.open instead. See the migration notes for details: https://github.com/RaRe-Technologies/smart_open/blob/master/README.rst#migrating-to-the-new-open-function\n",
            "  'See the migration notes for details: %s' % _MIGRATION_NOTES_URL\n"
          ],
          "name": "stderr"
        }
      ]
    },
    {
      "cell_type": "code",
      "metadata": {
        "id": "oHSzoNgvA7nN",
        "colab_type": "code",
        "colab": {}
      },
      "source": [
        "f=open('conversation.json')\n",
        "data = json.load(f)\n",
        "cor=data[\"conversations\"]"
      ],
      "execution_count": 0,
      "outputs": []
    },
    {
      "cell_type": "code",
      "metadata": {
        "id": "08DnXJZ-JG73",
        "colab_type": "code",
        "outputId": "be9c0654-3278-415d-de94-33105350036b",
        "colab": {
          "base_uri": "https://localhost:8080/",
          "height": 51
        }
      },
      "source": [
        "nltk.download('punkt')\n",
        "x,y=[],[]\n",
        "for i in range(len(cor)):\n",
        "    for j in range(len(cor[i])):\n",
        "        if j<len(cor[i])-1:\n",
        "            x.append(cor[i][j])\n",
        "            y.append(cor[i][j+1])"
      ],
      "execution_count": 7,
      "outputs": [
        {
          "output_type": "stream",
          "text": [
            "[nltk_data] Downloading package punkt to /root/nltk_data...\n",
            "[nltk_data]   Unzipping tokenizers/punkt.zip.\n"
          ],
          "name": "stdout"
        }
      ]
    },
    {
      "cell_type": "code",
      "metadata": {
        "id": "CUASKC8PJrei",
        "colab_type": "code",
        "colab": {}
      },
      "source": [
        "tx,ty=[],[]\n",
        "for i in range(len(x)):\n",
        "    tx.append(nltk.word_tokenize(x[i].lower()))\n",
        "    ty.append(nltk.word_tokenize(y[i].lower()))"
      ],
      "execution_count": 0,
      "outputs": []
    },
    {
      "cell_type": "code",
      "metadata": {
        "id": "Q0SbPu1lJwEb",
        "colab_type": "code",
        "colab": {}
      },
      "source": [
        "sentend=np.ones((300,),dtype=np.float32)"
      ],
      "execution_count": 0,
      "outputs": []
    },
    {
      "cell_type": "code",
      "metadata": {
        "id": "dM5I1pstPcav",
        "colab_type": "code",
        "colab": {}
      },
      "source": [
        "vx,vy=[],[]#vector for x\n",
        "for sent in tx:\n",
        "    vx.append([model[w] for w in sent if w in model.vocab])\n",
        "for sent in ty:\n",
        "    vy.append([model[w] for w in sent if w in model.vocab])"
      ],
      "execution_count": 0,
      "outputs": []
    },
    {
      "cell_type": "code",
      "metadata": {
        "id": "g7ubisDjTUvg",
        "colab_type": "code",
        "colab": {}
      },
      "source": [
        "for ts in vx:\n",
        "    ts[14:]=[]\n",
        "    ts.append(sentend)\n",
        "for ts in vx:\n",
        "    if len(ts)<15:\n",
        "        for i in range(15-len(ts)):\n",
        "            ts.append(sentend)"
      ],
      "execution_count": 0,
      "outputs": []
    },
    {
      "cell_type": "code",
      "metadata": {
        "id": "TZJhe3I3cbbQ",
        "colab_type": "code",
        "colab": {}
      },
      "source": [
        "for ts in vy:\n",
        "    ts[14:]=[]\n",
        "    ts.append(sentend)\n",
        "for ts in vy:\n",
        "    if len(ts)<15:\n",
        "        for i in range(15-len(ts)):\n",
        "            ts.append(sentend)"
      ],
      "execution_count": 0,
      "outputs": []
    },
    {
      "cell_type": "code",
      "metadata": {
        "id": "bacHRLescF7J",
        "colab_type": "code",
        "colab": {}
      },
      "source": [
        "from keras.models import Sequential\n",
        "from keras.layers.recurrent import LSTM,SimpleRNN\n",
        "from sklearn.model_selection import train_test_split as tt"
      ],
      "execution_count": 0,
      "outputs": []
    },
    {
      "cell_type": "code",
      "metadata": {
        "id": "FZcxKqNbitqs",
        "colab_type": "code",
        "colab": {}
      },
      "source": [
        "vx=np.array(vx)\n",
        "vy=np.array(vy)"
      ],
      "execution_count": 0,
      "outputs": []
    },
    {
      "cell_type": "code",
      "metadata": {
        "id": "GzXRsF3sjl5q",
        "colab_type": "code",
        "outputId": "1358b562-ef14-4dbc-f413-1b1811caf353",
        "colab": {
          "base_uri": "https://localhost:8080/",
          "height": 34
        }
      },
      "source": [
        "vx.shape"
      ],
      "execution_count": 15,
      "outputs": [
        {
          "output_type": "execute_result",
          "data": {
            "text/plain": [
              "(86, 15, 300)"
            ]
          },
          "metadata": {
            "tags": []
          },
          "execution_count": 15
        }
      ]
    },
    {
      "cell_type": "code",
      "metadata": {
        "id": "_pPLPPr-cSfi",
        "colab_type": "code",
        "colab": {}
      },
      "source": [
        "x_train,x_test, y_train,y_test = tt(vx, vy, test_size=0.2, random_state=1)"
      ],
      "execution_count": 0,
      "outputs": []
    },
    {
      "cell_type": "code",
      "metadata": {
        "id": "tnSCf5fAkW35",
        "colab_type": "code",
        "colab": {
          "base_uri": "https://localhost:8080/",
          "height": 34
        },
        "outputId": "c8d548c3-704b-4ea2-de17-26b12fdce0f1"
      },
      "source": [
        "x_train.shape"
      ],
      "execution_count": 16,
      "outputs": [
        {
          "output_type": "execute_result",
          "data": {
            "text/plain": [
              "(68, 15, 300)"
            ]
          },
          "metadata": {
            "tags": []
          },
          "execution_count": 16
        }
      ]
    },
    {
      "cell_type": "code",
      "metadata": {
        "id": "GQPUlBMygxOX",
        "colab_type": "code",
        "outputId": "d58f3dda-5d69-4406-9742-278242483e67",
        "colab": {
          "base_uri": "https://localhost:8080/",
          "height": 1000
        }
      },
      "source": [
        "model2=Sequential()\n",
        "model2.add(LSTM(output_dim=300,input_shape=(15,300),return_sequences=True, init='glorot_normal', inner_init='glorot_normal', activation='sigmoid'))\n",
        "model2.add(LSTM(output_dim=300, input_shape=(15,300),init='glorot_normal', inner_init='glorot_normal',activation='sigmoid',return_sequences=True))\n",
        "model2.add(LSTM(output_dim=300, input_shape=(15,300), init='glorot_normal', inner_init='glorot_normal',activation='sigmoid',return_sequences=True))\n",
        "model2.add(LSTM(output_dim=300,input_shape=(15,300),init='glorot_normal', inner_init='glorot_normal', activation='sigmoid',return_sequences=True))\n",
        "model2.compile(loss='cosine_proximity', optimizer='adam', metrics=['accuracy'])\n",
        "model2.fit(x_train, y_train, nb_epoch=200,validation_data=(x_test, y_test))\n",
        "predictions=model2.predict(x_test)"
      ],
      "execution_count": 17,
      "outputs": [
        {
          "output_type": "stream",
          "text": [
            "WARNING:tensorflow:From /usr/local/lib/python3.6/dist-packages/keras/backend/tensorflow_backend.py:66: The name tf.get_default_graph is deprecated. Please use tf.compat.v1.get_default_graph instead.\n",
            "\n",
            "WARNING:tensorflow:From /usr/local/lib/python3.6/dist-packages/keras/backend/tensorflow_backend.py:541: The name tf.placeholder is deprecated. Please use tf.compat.v1.placeholder instead.\n",
            "\n",
            "WARNING:tensorflow:From /usr/local/lib/python3.6/dist-packages/keras/backend/tensorflow_backend.py:4479: The name tf.truncated_normal is deprecated. Please use tf.random.truncated_normal instead.\n",
            "\n"
          ],
          "name": "stdout"
        },
        {
          "output_type": "stream",
          "text": [
            "/usr/local/lib/python3.6/dist-packages/ipykernel_launcher.py:2: UserWarning: Update your `LSTM` call to the Keras 2 API: `LSTM(input_shape=(15, 300), return_sequences=True, activation=\"sigmoid\", units=300, kernel_initializer=\"glorot_normal\", recurrent_initializer=\"glorot_normal\")`\n",
            "  \n",
            "/usr/local/lib/python3.6/dist-packages/ipykernel_launcher.py:3: UserWarning: Update your `LSTM` call to the Keras 2 API: `LSTM(input_shape=(15, 300), activation=\"sigmoid\", return_sequences=True, units=300, kernel_initializer=\"glorot_normal\", recurrent_initializer=\"glorot_normal\")`\n",
            "  This is separate from the ipykernel package so we can avoid doing imports until\n",
            "/usr/local/lib/python3.6/dist-packages/ipykernel_launcher.py:4: UserWarning: Update your `LSTM` call to the Keras 2 API: `LSTM(input_shape=(15, 300), activation=\"sigmoid\", return_sequences=True, units=300, kernel_initializer=\"glorot_normal\", recurrent_initializer=\"glorot_normal\")`\n",
            "  after removing the cwd from sys.path.\n"
          ],
          "name": "stderr"
        },
        {
          "output_type": "stream",
          "text": [
            "WARNING:tensorflow:From /usr/local/lib/python3.6/dist-packages/keras/optimizers.py:793: The name tf.train.Optimizer is deprecated. Please use tf.compat.v1.train.Optimizer instead.\n",
            "\n"
          ],
          "name": "stdout"
        },
        {
          "output_type": "stream",
          "text": [
            "/usr/local/lib/python3.6/dist-packages/ipykernel_launcher.py:5: UserWarning: Update your `LSTM` call to the Keras 2 API: `LSTM(input_shape=(15, 300), activation=\"sigmoid\", return_sequences=True, units=300, kernel_initializer=\"glorot_normal\", recurrent_initializer=\"glorot_normal\")`\n",
            "  \"\"\"\n"
          ],
          "name": "stderr"
        },
        {
          "output_type": "stream",
          "text": [
            "WARNING:tensorflow:From /usr/local/lib/python3.6/dist-packages/tensorflow_core/python/ops/math_grad.py:1424: where (from tensorflow.python.ops.array_ops) is deprecated and will be removed in a future version.\n",
            "Instructions for updating:\n",
            "Use tf.where in 2.0, which has the same broadcast rule as np.where\n"
          ],
          "name": "stdout"
        },
        {
          "output_type": "stream",
          "text": [
            "/usr/local/lib/python3.6/dist-packages/ipykernel_launcher.py:7: UserWarning: The `nb_epoch` argument in `fit` has been renamed `epochs`.\n",
            "  import sys\n"
          ],
          "name": "stderr"
        },
        {
          "output_type": "stream",
          "text": [
            "WARNING:tensorflow:From /usr/local/lib/python3.6/dist-packages/keras/backend/tensorflow_backend.py:1033: The name tf.assign_add is deprecated. Please use tf.compat.v1.assign_add instead.\n",
            "\n",
            "WARNING:tensorflow:From /usr/local/lib/python3.6/dist-packages/keras/backend/tensorflow_backend.py:1020: The name tf.assign is deprecated. Please use tf.compat.v1.assign instead.\n",
            "\n",
            "WARNING:tensorflow:From /usr/local/lib/python3.6/dist-packages/keras/backend/tensorflow_backend.py:3005: The name tf.Session is deprecated. Please use tf.compat.v1.Session instead.\n",
            "\n",
            "Train on 68 samples, validate on 18 samples\n",
            "Epoch 1/200\n",
            "WARNING:tensorflow:From /usr/local/lib/python3.6/dist-packages/keras/backend/tensorflow_backend.py:190: The name tf.get_default_session is deprecated. Please use tf.compat.v1.get_default_session instead.\n",
            "\n",
            "WARNING:tensorflow:From /usr/local/lib/python3.6/dist-packages/keras/backend/tensorflow_backend.py:197: The name tf.ConfigProto is deprecated. Please use tf.compat.v1.ConfigProto instead.\n",
            "\n",
            "WARNING:tensorflow:From /usr/local/lib/python3.6/dist-packages/keras/backend/tensorflow_backend.py:207: The name tf.global_variables is deprecated. Please use tf.compat.v1.global_variables instead.\n",
            "\n",
            "WARNING:tensorflow:From /usr/local/lib/python3.6/dist-packages/keras/backend/tensorflow_backend.py:216: The name tf.is_variable_initialized is deprecated. Please use tf.compat.v1.is_variable_initialized instead.\n",
            "\n",
            "WARNING:tensorflow:From /usr/local/lib/python3.6/dist-packages/keras/backend/tensorflow_backend.py:223: The name tf.variables_initializer is deprecated. Please use tf.compat.v1.variables_initializer instead.\n",
            "\n",
            "68/68 [==============================] - 12s 174ms/step - loss: -0.6461 - acc: 0.0088 - val_loss: -0.6194 - val_acc: 0.0296\n",
            "Epoch 2/200\n",
            "68/68 [==============================] - 0s 5ms/step - loss: -0.6547 - acc: 0.0118 - val_loss: -0.6235 - val_acc: 0.0185\n",
            "Epoch 3/200\n",
            "68/68 [==============================] - 0s 5ms/step - loss: -0.6585 - acc: 0.0059 - val_loss: -0.6266 - val_acc: 0.0185\n",
            "Epoch 4/200\n",
            "68/68 [==============================] - 0s 5ms/step - loss: -0.6625 - acc: 0.0059 - val_loss: -0.6295 - val_acc: 0.0148\n",
            "Epoch 5/200\n",
            "68/68 [==============================] - 0s 5ms/step - loss: -0.6656 - acc: 0.0078 - val_loss: -0.6329 - val_acc: 0.0074\n",
            "Epoch 6/200\n",
            "68/68 [==============================] - 0s 5ms/step - loss: -0.6686 - acc: 0.0029 - val_loss: -0.6361 - val_acc: 0.0111\n",
            "Epoch 7/200\n",
            "68/68 [==============================] - 0s 5ms/step - loss: -0.6713 - acc: 0.0039 - val_loss: -0.6392 - val_acc: 0.0111\n",
            "Epoch 8/200\n",
            "68/68 [==============================] - 0s 5ms/step - loss: -0.6741 - acc: 0.0039 - val_loss: -0.6422 - val_acc: 0.0148\n",
            "Epoch 9/200\n",
            "68/68 [==============================] - 0s 5ms/step - loss: -0.6770 - acc: 0.0049 - val_loss: -0.6444 - val_acc: 0.0185\n",
            "Epoch 10/200\n",
            "68/68 [==============================] - 0s 5ms/step - loss: -0.6799 - acc: 0.0069 - val_loss: -0.6493 - val_acc: 0.0185\n",
            "Epoch 11/200\n",
            "68/68 [==============================] - 0s 5ms/step - loss: -0.6841 - acc: 0.0098 - val_loss: -0.6556 - val_acc: 0.0185\n",
            "Epoch 12/200\n",
            "68/68 [==============================] - 0s 5ms/step - loss: -0.6880 - acc: 0.0088 - val_loss: -0.6627 - val_acc: 0.0222\n",
            "Epoch 13/200\n",
            "68/68 [==============================] - 0s 5ms/step - loss: -0.6946 - acc: 0.0059 - val_loss: -0.6708 - val_acc: 0.0333\n",
            "Epoch 14/200\n",
            "68/68 [==============================] - 0s 5ms/step - loss: -0.6998 - acc: 0.0206 - val_loss: -0.6779 - val_acc: 0.0407\n",
            "Epoch 15/200\n",
            "68/68 [==============================] - 0s 5ms/step - loss: -0.7045 - acc: 0.0245 - val_loss: -0.6828 - val_acc: 0.0407\n",
            "Epoch 16/200\n",
            "68/68 [==============================] - 0s 5ms/step - loss: -0.7078 - acc: 0.0304 - val_loss: -0.6861 - val_acc: 0.0111\n",
            "Epoch 17/200\n",
            "68/68 [==============================] - 0s 5ms/step - loss: -0.7104 - acc: 0.0186 - val_loss: -0.6882 - val_acc: 0.0111\n",
            "Epoch 18/200\n",
            "68/68 [==============================] - 0s 5ms/step - loss: -0.7127 - acc: 0.0088 - val_loss: -0.6901 - val_acc: 0.0111\n",
            "Epoch 19/200\n",
            "68/68 [==============================] - 0s 5ms/step - loss: -0.7123 - acc: 0.0039 - val_loss: -0.6905 - val_acc: 0.0074\n",
            "Epoch 20/200\n",
            "68/68 [==============================] - 0s 5ms/step - loss: -0.7133 - acc: 0.0049 - val_loss: -0.6872 - val_acc: 0.0111\n",
            "Epoch 21/200\n",
            "68/68 [==============================] - 0s 5ms/step - loss: -0.7138 - acc: 0.0069 - val_loss: -0.6899 - val_acc: 0.0111\n",
            "Epoch 22/200\n",
            "68/68 [==============================] - 0s 5ms/step - loss: -0.7148 - acc: 0.0098 - val_loss: -0.6873 - val_acc: 0.0148\n",
            "Epoch 23/200\n",
            "68/68 [==============================] - 0s 5ms/step - loss: -0.7131 - acc: 0.0108 - val_loss: -0.6876 - val_acc: 0.0630\n",
            "Epoch 24/200\n",
            "68/68 [==============================] - 0s 5ms/step - loss: -0.7163 - acc: 0.0324 - val_loss: -0.6891 - val_acc: 0.0074\n",
            "Epoch 25/200\n",
            "68/68 [==============================] - 0s 5ms/step - loss: -0.7128 - acc: 0.0039 - val_loss: -0.6917 - val_acc: 0.0074\n",
            "Epoch 26/200\n",
            "68/68 [==============================] - 0s 5ms/step - loss: -0.7161 - acc: 0.0049 - val_loss: -0.6884 - val_acc: 0.0111\n",
            "Epoch 27/200\n",
            "68/68 [==============================] - 0s 5ms/step - loss: -0.7151 - acc: 0.0049 - val_loss: -0.6923 - val_acc: 0.0111\n",
            "Epoch 28/200\n",
            "68/68 [==============================] - 0s 5ms/step - loss: -0.7169 - acc: 0.0069 - val_loss: -0.6925 - val_acc: 0.0185\n",
            "Epoch 29/200\n",
            "68/68 [==============================] - 0s 5ms/step - loss: -0.7177 - acc: 0.0098 - val_loss: -0.6889 - val_acc: 0.0222\n",
            "Epoch 30/200\n",
            "68/68 [==============================] - 0s 5ms/step - loss: -0.7164 - acc: 0.0069 - val_loss: -0.6900 - val_acc: 0.0185\n",
            "Epoch 31/200\n",
            "68/68 [==============================] - 0s 5ms/step - loss: -0.7175 - acc: 0.0078 - val_loss: -0.6920 - val_acc: 0.0333\n",
            "Epoch 32/200\n",
            "68/68 [==============================] - 0s 5ms/step - loss: -0.7153 - acc: 0.0196 - val_loss: -0.6928 - val_acc: 0.0296\n",
            "Epoch 33/200\n",
            "68/68 [==============================] - 0s 5ms/step - loss: -0.7167 - acc: 0.0196 - val_loss: -0.6928 - val_acc: 0.0296\n",
            "Epoch 34/200\n",
            "68/68 [==============================] - 0s 5ms/step - loss: -0.7176 - acc: 0.0206 - val_loss: -0.6931 - val_acc: 0.0333\n",
            "Epoch 35/200\n",
            "68/68 [==============================] - 0s 5ms/step - loss: -0.7182 - acc: 0.0216 - val_loss: -0.6931 - val_acc: 0.0333\n",
            "Epoch 36/200\n",
            "68/68 [==============================] - 0s 5ms/step - loss: -0.7182 - acc: 0.0225 - val_loss: -0.6927 - val_acc: 0.0370\n",
            "Epoch 37/200\n",
            "68/68 [==============================] - 0s 5ms/step - loss: -0.7187 - acc: 0.0225 - val_loss: -0.6926 - val_acc: 0.0370\n",
            "Epoch 38/200\n",
            "68/68 [==============================] - 0s 5ms/step - loss: -0.7188 - acc: 0.0235 - val_loss: -0.6913 - val_acc: 0.0370\n",
            "Epoch 39/200\n",
            "68/68 [==============================] - 0s 5ms/step - loss: -0.7155 - acc: 0.0245 - val_loss: -0.6915 - val_acc: 0.0444\n",
            "Epoch 40/200\n",
            "68/68 [==============================] - 0s 5ms/step - loss: -0.7164 - acc: 0.0255 - val_loss: -0.6927 - val_acc: 0.0333\n",
            "Epoch 41/200\n",
            "68/68 [==============================] - 0s 5ms/step - loss: -0.7186 - acc: 0.0216 - val_loss: -0.6934 - val_acc: 0.0296\n",
            "Epoch 42/200\n",
            "68/68 [==============================] - 0s 5ms/step - loss: -0.7189 - acc: 0.0206 - val_loss: -0.6941 - val_acc: 0.0296\n",
            "Epoch 43/200\n",
            "68/68 [==============================] - 0s 5ms/step - loss: -0.7194 - acc: 0.0206 - val_loss: -0.6927 - val_acc: 0.0259\n",
            "Epoch 44/200\n",
            "68/68 [==============================] - 0s 5ms/step - loss: -0.7196 - acc: 0.0216 - val_loss: -0.6933 - val_acc: 0.0333\n",
            "Epoch 45/200\n",
            "68/68 [==============================] - 0s 5ms/step - loss: -0.7206 - acc: 0.0216 - val_loss: -0.6939 - val_acc: 0.0296\n",
            "Epoch 46/200\n",
            "68/68 [==============================] - 0s 5ms/step - loss: -0.7198 - acc: 0.0245 - val_loss: -0.6935 - val_acc: 0.0370\n",
            "Epoch 47/200\n",
            "68/68 [==============================] - 0s 5ms/step - loss: -0.7206 - acc: 0.0275 - val_loss: -0.6922 - val_acc: 0.0296\n",
            "Epoch 48/200\n",
            "68/68 [==============================] - 0s 5ms/step - loss: -0.7203 - acc: 0.0206 - val_loss: -0.6901 - val_acc: 0.0296\n",
            "Epoch 49/200\n",
            "68/68 [==============================] - 0s 5ms/step - loss: -0.7204 - acc: 0.0186 - val_loss: -0.6926 - val_acc: 0.0333\n",
            "Epoch 50/200\n",
            "68/68 [==============================] - 0s 5ms/step - loss: -0.7216 - acc: 0.0206 - val_loss: -0.6922 - val_acc: 0.0333\n",
            "Epoch 51/200\n",
            "68/68 [==============================] - 0s 5ms/step - loss: -0.7219 - acc: 0.0206 - val_loss: -0.6921 - val_acc: 0.0333\n",
            "Epoch 52/200\n",
            "68/68 [==============================] - 0s 5ms/step - loss: -0.7226 - acc: 0.0206 - val_loss: -0.6933 - val_acc: 0.0370\n",
            "Epoch 53/200\n",
            "68/68 [==============================] - 0s 5ms/step - loss: -0.7218 - acc: 0.0225 - val_loss: -0.6932 - val_acc: 0.0296\n",
            "Epoch 54/200\n",
            "68/68 [==============================] - 0s 5ms/step - loss: -0.7228 - acc: 0.0235 - val_loss: -0.6907 - val_acc: 0.0296\n",
            "Epoch 55/200\n",
            "68/68 [==============================] - 0s 5ms/step - loss: -0.7224 - acc: 0.0206 - val_loss: -0.6926 - val_acc: 0.0333\n",
            "Epoch 56/200\n",
            "68/68 [==============================] - 0s 5ms/step - loss: -0.7236 - acc: 0.0255 - val_loss: -0.6925 - val_acc: 0.0333\n",
            "Epoch 57/200\n",
            "68/68 [==============================] - 0s 5ms/step - loss: -0.7243 - acc: 0.0255 - val_loss: -0.6914 - val_acc: 0.0333\n",
            "Epoch 58/200\n",
            "68/68 [==============================] - 0s 5ms/step - loss: -0.7245 - acc: 0.0255 - val_loss: -0.6924 - val_acc: 0.0370\n",
            "Epoch 59/200\n",
            "68/68 [==============================] - 0s 5ms/step - loss: -0.7238 - acc: 0.0275 - val_loss: -0.6929 - val_acc: 0.0407\n",
            "Epoch 60/200\n",
            "68/68 [==============================] - 0s 5ms/step - loss: -0.7248 - acc: 0.0245 - val_loss: -0.6930 - val_acc: 0.0481\n",
            "Epoch 61/200\n",
            "68/68 [==============================] - 0s 5ms/step - loss: -0.7243 - acc: 0.0245 - val_loss: -0.6919 - val_acc: 0.0370\n",
            "Epoch 62/200\n",
            "68/68 [==============================] - 0s 5ms/step - loss: -0.7253 - acc: 0.0186 - val_loss: -0.6939 - val_acc: 0.0259\n",
            "Epoch 63/200\n",
            "68/68 [==============================] - 0s 5ms/step - loss: -0.7267 - acc: 0.0196 - val_loss: -0.6930 - val_acc: 0.0259\n",
            "Epoch 64/200\n",
            "68/68 [==============================] - 0s 5ms/step - loss: -0.7266 - acc: 0.0186 - val_loss: -0.6938 - val_acc: 0.0259\n",
            "Epoch 65/200\n",
            "68/68 [==============================] - 0s 5ms/step - loss: -0.7273 - acc: 0.0206 - val_loss: -0.6934 - val_acc: 0.0259\n",
            "Epoch 66/200\n",
            "68/68 [==============================] - 0s 5ms/step - loss: -0.7278 - acc: 0.0196 - val_loss: -0.6923 - val_acc: 0.0259\n",
            "Epoch 67/200\n",
            "68/68 [==============================] - 0s 5ms/step - loss: -0.7281 - acc: 0.0186 - val_loss: -0.6920 - val_acc: 0.0222\n",
            "Epoch 68/200\n",
            "68/68 [==============================] - 0s 5ms/step - loss: -0.7281 - acc: 0.0235 - val_loss: -0.6919 - val_acc: 0.0259\n",
            "Epoch 69/200\n",
            "68/68 [==============================] - 0s 5ms/step - loss: -0.7283 - acc: 0.0245 - val_loss: -0.6925 - val_acc: 0.0259\n",
            "Epoch 70/200\n",
            "68/68 [==============================] - 0s 5ms/step - loss: -0.7293 - acc: 0.0245 - val_loss: -0.6918 - val_acc: 0.0296\n",
            "Epoch 71/200\n",
            "68/68 [==============================] - 0s 5ms/step - loss: -0.7293 - acc: 0.0216 - val_loss: -0.6908 - val_acc: 0.0296\n",
            "Epoch 72/200\n",
            "68/68 [==============================] - 0s 5ms/step - loss: -0.7285 - acc: 0.0245 - val_loss: -0.6899 - val_acc: 0.0222\n",
            "Epoch 73/200\n",
            "68/68 [==============================] - 0s 5ms/step - loss: -0.7298 - acc: 0.0255 - val_loss: -0.6879 - val_acc: 0.0370\n",
            "Epoch 74/200\n",
            "68/68 [==============================] - 0s 5ms/step - loss: -0.7189 - acc: 0.0255 - val_loss: -0.6906 - val_acc: 0.0259\n",
            "Epoch 75/200\n",
            "68/68 [==============================] - 0s 5ms/step - loss: -0.7267 - acc: 0.0206 - val_loss: -0.6837 - val_acc: 0.0296\n",
            "Epoch 76/200\n",
            "68/68 [==============================] - 0s 5ms/step - loss: -0.7214 - acc: 0.0167 - val_loss: -0.6890 - val_acc: 0.0333\n",
            "Epoch 77/200\n",
            "68/68 [==============================] - 0s 5ms/step - loss: -0.7253 - acc: 0.0245 - val_loss: -0.6913 - val_acc: 0.0333\n",
            "Epoch 78/200\n",
            "68/68 [==============================] - 0s 5ms/step - loss: -0.7281 - acc: 0.0245 - val_loss: -0.6900 - val_acc: 0.0407\n",
            "Epoch 79/200\n",
            "68/68 [==============================] - 0s 5ms/step - loss: -0.7296 - acc: 0.0245 - val_loss: -0.6870 - val_acc: 0.0407\n",
            "Epoch 80/200\n",
            "68/68 [==============================] - 0s 5ms/step - loss: -0.7289 - acc: 0.0235 - val_loss: -0.6874 - val_acc: 0.0333\n",
            "Epoch 81/200\n",
            "68/68 [==============================] - 0s 5ms/step - loss: -0.7283 - acc: 0.0275 - val_loss: -0.6911 - val_acc: 0.0370\n",
            "Epoch 82/200\n",
            "68/68 [==============================] - 0s 5ms/step - loss: -0.7306 - acc: 0.0245 - val_loss: -0.6889 - val_acc: 0.0407\n",
            "Epoch 83/200\n",
            "68/68 [==============================] - 0s 5ms/step - loss: -0.7273 - acc: 0.0255 - val_loss: -0.6884 - val_acc: 0.0333\n",
            "Epoch 84/200\n",
            "68/68 [==============================] - 0s 5ms/step - loss: -0.7299 - acc: 0.0265 - val_loss: -0.6912 - val_acc: 0.0370\n",
            "Epoch 85/200\n",
            "68/68 [==============================] - 0s 5ms/step - loss: -0.7313 - acc: 0.0265 - val_loss: -0.6899 - val_acc: 0.0407\n",
            "Epoch 86/200\n",
            "68/68 [==============================] - 0s 5ms/step - loss: -0.7327 - acc: 0.0275 - val_loss: -0.6880 - val_acc: 0.0370\n",
            "Epoch 87/200\n",
            "68/68 [==============================] - 0s 5ms/step - loss: -0.7325 - acc: 0.0255 - val_loss: -0.6912 - val_acc: 0.0407\n",
            "Epoch 88/200\n",
            "68/68 [==============================] - 0s 5ms/step - loss: -0.7339 - acc: 0.0275 - val_loss: -0.6910 - val_acc: 0.0370\n",
            "Epoch 89/200\n",
            "68/68 [==============================] - 0s 5ms/step - loss: -0.7340 - acc: 0.0225 - val_loss: -0.6913 - val_acc: 0.0444\n",
            "Epoch 90/200\n",
            "68/68 [==============================] - 0s 5ms/step - loss: -0.7335 - acc: 0.0245 - val_loss: -0.6911 - val_acc: 0.0481\n",
            "Epoch 91/200\n",
            "68/68 [==============================] - 0s 5ms/step - loss: -0.7342 - acc: 0.0235 - val_loss: -0.6897 - val_acc: 0.0444\n",
            "Epoch 92/200\n",
            "68/68 [==============================] - 0s 5ms/step - loss: -0.7341 - acc: 0.0275 - val_loss: -0.6893 - val_acc: 0.0407\n",
            "Epoch 93/200\n",
            "68/68 [==============================] - 0s 5ms/step - loss: -0.7328 - acc: 0.0255 - val_loss: -0.6909 - val_acc: 0.0333\n",
            "Epoch 94/200\n",
            "68/68 [==============================] - 0s 5ms/step - loss: -0.7347 - acc: 0.0255 - val_loss: -0.6857 - val_acc: 0.0333\n",
            "Epoch 95/200\n",
            "68/68 [==============================] - 0s 5ms/step - loss: -0.7338 - acc: 0.0255 - val_loss: -0.6912 - val_acc: 0.0333\n",
            "Epoch 96/200\n",
            "68/68 [==============================] - 0s 5ms/step - loss: -0.7341 - acc: 0.0284 - val_loss: -0.6905 - val_acc: 0.0333\n",
            "Epoch 97/200\n",
            "68/68 [==============================] - 0s 5ms/step - loss: -0.7351 - acc: 0.0245 - val_loss: -0.6880 - val_acc: 0.0296\n",
            "Epoch 98/200\n",
            "68/68 [==============================] - 0s 5ms/step - loss: -0.7357 - acc: 0.0265 - val_loss: -0.6906 - val_acc: 0.0296\n",
            "Epoch 99/200\n",
            "68/68 [==============================] - 0s 5ms/step - loss: -0.7371 - acc: 0.0245 - val_loss: -0.6905 - val_acc: 0.0333\n",
            "Epoch 100/200\n",
            "68/68 [==============================] - 0s 5ms/step - loss: -0.7366 - acc: 0.0235 - val_loss: -0.6907 - val_acc: 0.0370\n",
            "Epoch 101/200\n",
            "68/68 [==============================] - 0s 5ms/step - loss: -0.7366 - acc: 0.0255 - val_loss: -0.6889 - val_acc: 0.0407\n",
            "Epoch 102/200\n",
            "68/68 [==============================] - 0s 5ms/step - loss: -0.7360 - acc: 0.0235 - val_loss: -0.6907 - val_acc: 0.0407\n",
            "Epoch 103/200\n",
            "68/68 [==============================] - 0s 5ms/step - loss: -0.7368 - acc: 0.0225 - val_loss: -0.6904 - val_acc: 0.0444\n",
            "Epoch 104/200\n",
            "68/68 [==============================] - 0s 5ms/step - loss: -0.7370 - acc: 0.0196 - val_loss: -0.6888 - val_acc: 0.0222\n",
            "Epoch 105/200\n",
            "68/68 [==============================] - 0s 5ms/step - loss: -0.7353 - acc: 0.0186 - val_loss: -0.6908 - val_acc: 0.0111\n",
            "Epoch 106/200\n",
            "68/68 [==============================] - 0s 5ms/step - loss: -0.7370 - acc: 0.0059 - val_loss: -0.6882 - val_acc: 0.0148\n",
            "Epoch 107/200\n",
            "68/68 [==============================] - 0s 5ms/step - loss: -0.7377 - acc: 0.0118 - val_loss: -0.6855 - val_acc: 0.0296\n",
            "Epoch 108/200\n",
            "68/68 [==============================] - 0s 5ms/step - loss: -0.7345 - acc: 0.0206 - val_loss: -0.6887 - val_acc: 0.0296\n",
            "Epoch 109/200\n",
            "68/68 [==============================] - 0s 5ms/step - loss: -0.7383 - acc: 0.0216 - val_loss: -0.6882 - val_acc: 0.0407\n",
            "Epoch 110/200\n",
            "68/68 [==============================] - 0s 5ms/step - loss: -0.7373 - acc: 0.0235 - val_loss: -0.6884 - val_acc: 0.0481\n",
            "Epoch 111/200\n",
            "68/68 [==============================] - 0s 5ms/step - loss: -0.7385 - acc: 0.0245 - val_loss: -0.6875 - val_acc: 0.0481\n",
            "Epoch 112/200\n",
            "68/68 [==============================] - 0s 5ms/step - loss: -0.7389 - acc: 0.0245 - val_loss: -0.6885 - val_acc: 0.0370\n",
            "Epoch 113/200\n",
            "68/68 [==============================] - 0s 5ms/step - loss: -0.7399 - acc: 0.0235 - val_loss: -0.6882 - val_acc: 0.0370\n",
            "Epoch 114/200\n",
            "68/68 [==============================] - 0s 5ms/step - loss: -0.7400 - acc: 0.0206 - val_loss: -0.6883 - val_acc: 0.0333\n",
            "Epoch 115/200\n",
            "68/68 [==============================] - 0s 5ms/step - loss: -0.7402 - acc: 0.0186 - val_loss: -0.6887 - val_acc: 0.0333\n",
            "Epoch 116/200\n",
            "68/68 [==============================] - 0s 5ms/step - loss: -0.7410 - acc: 0.0167 - val_loss: -0.6893 - val_acc: 0.0370\n",
            "Epoch 117/200\n",
            "68/68 [==============================] - 0s 5ms/step - loss: -0.7409 - acc: 0.0147 - val_loss: -0.6889 - val_acc: 0.0370\n",
            "Epoch 118/200\n",
            "68/68 [==============================] - 0s 5ms/step - loss: -0.7408 - acc: 0.0108 - val_loss: -0.6888 - val_acc: 0.0444\n",
            "Epoch 119/200\n",
            "68/68 [==============================] - 0s 5ms/step - loss: -0.7416 - acc: 0.0186 - val_loss: -0.6888 - val_acc: 0.0481\n",
            "Epoch 120/200\n",
            "68/68 [==============================] - 0s 5ms/step - loss: -0.7417 - acc: 0.0206 - val_loss: -0.6886 - val_acc: 0.0407\n",
            "Epoch 121/200\n",
            "68/68 [==============================] - 0s 5ms/step - loss: -0.7417 - acc: 0.0235 - val_loss: -0.6887 - val_acc: 0.0407\n",
            "Epoch 122/200\n",
            "68/68 [==============================] - 0s 5ms/step - loss: -0.7423 - acc: 0.0235 - val_loss: -0.6888 - val_acc: 0.0407\n",
            "Epoch 123/200\n",
            "68/68 [==============================] - 0s 5ms/step - loss: -0.7426 - acc: 0.0255 - val_loss: -0.6884 - val_acc: 0.0370\n",
            "Epoch 124/200\n",
            "68/68 [==============================] - 0s 5ms/step - loss: -0.7412 - acc: 0.0245 - val_loss: -0.6880 - val_acc: 0.0333\n",
            "Epoch 125/200\n",
            "68/68 [==============================] - 0s 5ms/step - loss: -0.7419 - acc: 0.0235 - val_loss: -0.6894 - val_acc: 0.0370\n",
            "Epoch 126/200\n",
            "68/68 [==============================] - 0s 5ms/step - loss: -0.7390 - acc: 0.0245 - val_loss: -0.6898 - val_acc: 0.0370\n",
            "Epoch 127/200\n",
            "68/68 [==============================] - 0s 5ms/step - loss: -0.7425 - acc: 0.0245 - val_loss: -0.6857 - val_acc: 0.0333\n",
            "Epoch 128/200\n",
            "68/68 [==============================] - 0s 5ms/step - loss: -0.7411 - acc: 0.0206 - val_loss: -0.6880 - val_acc: 0.0333\n",
            "Epoch 129/200\n",
            "68/68 [==============================] - 0s 5ms/step - loss: -0.7421 - acc: 0.0245 - val_loss: -0.6812 - val_acc: 0.0333\n",
            "Epoch 130/200\n",
            "68/68 [==============================] - 0s 5ms/step - loss: -0.7388 - acc: 0.0245 - val_loss: -0.6865 - val_acc: 0.0296\n",
            "Epoch 131/200\n",
            "68/68 [==============================] - 0s 5ms/step - loss: -0.7431 - acc: 0.0235 - val_loss: -0.6848 - val_acc: 0.0407\n",
            "Epoch 132/200\n",
            "68/68 [==============================] - 0s 5ms/step - loss: -0.7426 - acc: 0.0225 - val_loss: -0.6855 - val_acc: 0.0370\n",
            "Epoch 133/200\n",
            "68/68 [==============================] - 0s 5ms/step - loss: -0.7379 - acc: 0.0216 - val_loss: -0.6850 - val_acc: 0.0370\n",
            "Epoch 134/200\n",
            "68/68 [==============================] - 0s 5ms/step - loss: -0.7386 - acc: 0.0235 - val_loss: -0.6819 - val_acc: 0.0333\n",
            "Epoch 135/200\n",
            "68/68 [==============================] - 0s 5ms/step - loss: -0.7386 - acc: 0.0235 - val_loss: -0.6848 - val_acc: 0.0333\n",
            "Epoch 136/200\n",
            "68/68 [==============================] - 0s 5ms/step - loss: -0.7442 - acc: 0.0235 - val_loss: -0.6819 - val_acc: 0.0407\n",
            "Epoch 137/200\n",
            "68/68 [==============================] - 0s 5ms/step - loss: -0.7416 - acc: 0.0245 - val_loss: -0.6808 - val_acc: 0.0333\n",
            "Epoch 138/200\n",
            "68/68 [==============================] - 0s 5ms/step - loss: -0.7410 - acc: 0.0216 - val_loss: -0.6834 - val_acc: 0.0296\n",
            "Epoch 139/200\n",
            "68/68 [==============================] - 0s 5ms/step - loss: -0.7428 - acc: 0.0167 - val_loss: -0.6838 - val_acc: 0.0333\n",
            "Epoch 140/200\n",
            "68/68 [==============================] - 0s 5ms/step - loss: -0.7446 - acc: 0.0216 - val_loss: -0.6861 - val_acc: 0.0296\n",
            "Epoch 141/200\n",
            "68/68 [==============================] - 0s 5ms/step - loss: -0.7454 - acc: 0.0255 - val_loss: -0.6846 - val_acc: 0.0333\n",
            "Epoch 142/200\n",
            "68/68 [==============================] - 0s 5ms/step - loss: -0.7437 - acc: 0.0265 - val_loss: -0.6849 - val_acc: 0.0370\n",
            "Epoch 143/200\n",
            "68/68 [==============================] - 0s 5ms/step - loss: -0.7453 - acc: 0.0275 - val_loss: -0.6843 - val_acc: 0.0333\n",
            "Epoch 144/200\n",
            "68/68 [==============================] - 0s 5ms/step - loss: -0.7464 - acc: 0.0294 - val_loss: -0.6829 - val_acc: 0.0370\n",
            "Epoch 145/200\n",
            "68/68 [==============================] - 0s 5ms/step - loss: -0.7460 - acc: 0.0294 - val_loss: -0.6863 - val_acc: 0.0333\n",
            "Epoch 146/200\n",
            "68/68 [==============================] - 0s 5ms/step - loss: -0.7446 - acc: 0.0245 - val_loss: -0.6858 - val_acc: 0.0333\n",
            "Epoch 147/200\n",
            "68/68 [==============================] - 0s 5ms/step - loss: -0.7460 - acc: 0.0235 - val_loss: -0.6855 - val_acc: 0.0407\n",
            "Epoch 148/200\n",
            "68/68 [==============================] - 0s 5ms/step - loss: -0.7442 - acc: 0.0235 - val_loss: -0.6848 - val_acc: 0.0407\n",
            "Epoch 149/200\n",
            "68/68 [==============================] - 0s 5ms/step - loss: -0.7434 - acc: 0.0225 - val_loss: -0.6754 - val_acc: 0.0370\n",
            "Epoch 150/200\n",
            "68/68 [==============================] - 0s 5ms/step - loss: -0.7375 - acc: 0.0225 - val_loss: -0.6860 - val_acc: 0.0296\n",
            "Epoch 151/200\n",
            "68/68 [==============================] - 0s 5ms/step - loss: -0.7413 - acc: 0.0245 - val_loss: -0.6860 - val_acc: 0.0333\n",
            "Epoch 152/200\n",
            "68/68 [==============================] - 0s 5ms/step - loss: -0.7383 - acc: 0.0245 - val_loss: -0.6867 - val_acc: 0.0296\n",
            "Epoch 153/200\n",
            "68/68 [==============================] - 0s 5ms/step - loss: -0.7458 - acc: 0.0235 - val_loss: -0.6854 - val_acc: 0.0296\n",
            "Epoch 154/200\n",
            "68/68 [==============================] - 0s 5ms/step - loss: -0.7458 - acc: 0.0235 - val_loss: -0.6861 - val_acc: 0.0370\n",
            "Epoch 155/200\n",
            "68/68 [==============================] - 0s 5ms/step - loss: -0.7453 - acc: 0.0225 - val_loss: -0.6841 - val_acc: 0.0333\n",
            "Epoch 156/200\n",
            "68/68 [==============================] - 0s 5ms/step - loss: -0.7470 - acc: 0.0225 - val_loss: -0.6847 - val_acc: 0.0370\n",
            "Epoch 157/200\n",
            "68/68 [==============================] - 0s 5ms/step - loss: -0.7465 - acc: 0.0235 - val_loss: -0.6841 - val_acc: 0.0333\n",
            "Epoch 158/200\n",
            "68/68 [==============================] - 0s 5ms/step - loss: -0.7467 - acc: 0.0216 - val_loss: -0.6805 - val_acc: 0.0407\n",
            "Epoch 159/200\n",
            "68/68 [==============================] - 0s 5ms/step - loss: -0.7438 - acc: 0.0245 - val_loss: -0.6844 - val_acc: 0.0481\n",
            "Epoch 160/200\n",
            "68/68 [==============================] - 0s 5ms/step - loss: -0.7379 - acc: 0.0255 - val_loss: -0.6840 - val_acc: 0.0407\n",
            "Epoch 161/200\n",
            "68/68 [==============================] - 0s 5ms/step - loss: -0.7285 - acc: 0.0206 - val_loss: -0.6873 - val_acc: 0.0370\n",
            "Epoch 162/200\n",
            "68/68 [==============================] - 0s 5ms/step - loss: -0.7422 - acc: 0.0255 - val_loss: -0.6773 - val_acc: 0.0444\n",
            "Epoch 163/200\n",
            "68/68 [==============================] - 0s 5ms/step - loss: -0.7356 - acc: 0.0255 - val_loss: -0.6865 - val_acc: 0.0333\n",
            "Epoch 164/200\n",
            "68/68 [==============================] - 0s 5ms/step - loss: -0.7430 - acc: 0.0235 - val_loss: -0.6834 - val_acc: 0.0333\n",
            "Epoch 165/200\n",
            "68/68 [==============================] - 0s 5ms/step - loss: -0.7337 - acc: 0.0196 - val_loss: -0.6863 - val_acc: 0.0370\n",
            "Epoch 166/200\n",
            "68/68 [==============================] - 0s 5ms/step - loss: -0.7441 - acc: 0.0235 - val_loss: -0.6789 - val_acc: 0.0370\n",
            "Epoch 167/200\n",
            "68/68 [==============================] - 0s 5ms/step - loss: -0.7383 - acc: 0.0216 - val_loss: -0.6863 - val_acc: 0.0296\n",
            "Epoch 168/200\n",
            "68/68 [==============================] - 0s 5ms/step - loss: -0.7440 - acc: 0.0245 - val_loss: -0.6842 - val_acc: 0.0259\n",
            "Epoch 169/200\n",
            "68/68 [==============================] - 0s 5ms/step - loss: -0.7348 - acc: 0.0186 - val_loss: -0.6852 - val_acc: 0.0296\n",
            "Epoch 170/200\n",
            "68/68 [==============================] - 0s 5ms/step - loss: -0.7417 - acc: 0.0245 - val_loss: -0.6837 - val_acc: 0.0407\n",
            "Epoch 171/200\n",
            "68/68 [==============================] - 0s 5ms/step - loss: -0.7461 - acc: 0.0245 - val_loss: -0.6837 - val_acc: 0.0407\n",
            "Epoch 172/200\n",
            "68/68 [==============================] - 0s 5ms/step - loss: -0.7480 - acc: 0.0265 - val_loss: -0.6843 - val_acc: 0.0333\n",
            "Epoch 173/200\n",
            "68/68 [==============================] - 0s 5ms/step - loss: -0.7473 - acc: 0.0245 - val_loss: -0.6812 - val_acc: 0.0370\n",
            "Epoch 174/200\n",
            "68/68 [==============================] - 0s 5ms/step - loss: -0.7476 - acc: 0.0255 - val_loss: -0.6821 - val_acc: 0.0333\n",
            "Epoch 175/200\n",
            "68/68 [==============================] - 0s 5ms/step - loss: -0.7481 - acc: 0.0265 - val_loss: -0.6839 - val_acc: 0.0333\n",
            "Epoch 176/200\n",
            "68/68 [==============================] - 0s 5ms/step - loss: -0.7485 - acc: 0.0255 - val_loss: -0.6804 - val_acc: 0.0333\n",
            "Epoch 177/200\n",
            "68/68 [==============================] - 0s 5ms/step - loss: -0.7456 - acc: 0.0235 - val_loss: -0.6837 - val_acc: 0.0370\n",
            "Epoch 178/200\n",
            "68/68 [==============================] - 0s 5ms/step - loss: -0.7471 - acc: 0.0255 - val_loss: -0.6834 - val_acc: 0.0407\n",
            "Epoch 179/200\n",
            "68/68 [==============================] - 0s 5ms/step - loss: -0.7480 - acc: 0.0235 - val_loss: -0.6812 - val_acc: 0.0370\n",
            "Epoch 180/200\n",
            "68/68 [==============================] - 0s 5ms/step - loss: -0.7470 - acc: 0.0235 - val_loss: -0.6841 - val_acc: 0.0333\n",
            "Epoch 181/200\n",
            "68/68 [==============================] - 0s 5ms/step - loss: -0.7467 - acc: 0.0245 - val_loss: -0.6814 - val_acc: 0.0296\n",
            "Epoch 182/200\n",
            "68/68 [==============================] - 0s 5ms/step - loss: -0.7471 - acc: 0.0225 - val_loss: -0.6818 - val_acc: 0.0296\n",
            "Epoch 183/200\n",
            "68/68 [==============================] - 0s 5ms/step - loss: -0.7491 - acc: 0.0255 - val_loss: -0.6832 - val_acc: 0.0333\n",
            "Epoch 184/200\n",
            "68/68 [==============================] - 0s 5ms/step - loss: -0.7479 - acc: 0.0235 - val_loss: -0.6807 - val_acc: 0.0296\n",
            "Epoch 185/200\n",
            "68/68 [==============================] - 0s 5ms/step - loss: -0.7476 - acc: 0.0265 - val_loss: -0.6803 - val_acc: 0.0296\n",
            "Epoch 186/200\n",
            "68/68 [==============================] - 0s 5ms/step - loss: -0.7491 - acc: 0.0265 - val_loss: -0.6814 - val_acc: 0.0296\n",
            "Epoch 187/200\n",
            "68/68 [==============================] - 0s 5ms/step - loss: -0.7501 - acc: 0.0265 - val_loss: -0.6815 - val_acc: 0.0333\n",
            "Epoch 188/200\n",
            "68/68 [==============================] - 0s 5ms/step - loss: -0.7504 - acc: 0.0284 - val_loss: -0.6806 - val_acc: 0.0444\n",
            "Epoch 189/200\n",
            "68/68 [==============================] - 0s 5ms/step - loss: -0.7491 - acc: 0.0275 - val_loss: -0.6829 - val_acc: 0.0407\n",
            "Epoch 190/200\n",
            "68/68 [==============================] - 0s 5ms/step - loss: -0.7475 - acc: 0.0255 - val_loss: -0.6829 - val_acc: 0.0407\n",
            "Epoch 191/200\n",
            "68/68 [==============================] - 0s 5ms/step - loss: -0.7455 - acc: 0.0284 - val_loss: -0.6821 - val_acc: 0.0444\n",
            "Epoch 192/200\n",
            "68/68 [==============================] - 0s 5ms/step - loss: -0.7500 - acc: 0.0294 - val_loss: -0.6778 - val_acc: 0.0370\n",
            "Epoch 193/200\n",
            "68/68 [==============================] - 0s 5ms/step - loss: -0.7456 - acc: 0.0294 - val_loss: -0.6818 - val_acc: 0.0333\n",
            "Epoch 194/200\n",
            "68/68 [==============================] - 0s 5ms/step - loss: -0.7494 - acc: 0.0265 - val_loss: -0.6811 - val_acc: 0.0333\n",
            "Epoch 195/200\n",
            "68/68 [==============================] - 0s 5ms/step - loss: -0.7508 - acc: 0.0265 - val_loss: -0.6808 - val_acc: 0.0333\n",
            "Epoch 196/200\n",
            "68/68 [==============================] - 0s 5ms/step - loss: -0.7499 - acc: 0.0245 - val_loss: -0.6812 - val_acc: 0.0370\n",
            "Epoch 197/200\n",
            "68/68 [==============================] - 0s 5ms/step - loss: -0.7510 - acc: 0.0235 - val_loss: -0.6805 - val_acc: 0.0370\n",
            "Epoch 198/200\n",
            "68/68 [==============================] - 0s 5ms/step - loss: -0.7507 - acc: 0.0245 - val_loss: -0.6815 - val_acc: 0.0407\n",
            "Epoch 199/200\n",
            "68/68 [==============================] - 1s 7ms/step - loss: -0.7523 - acc: 0.0275 - val_loss: -0.6793 - val_acc: 0.0481\n",
            "Epoch 200/200\n",
            "68/68 [==============================] - 0s 5ms/step - loss: -0.7518 - acc: 0.0275 - val_loss: -0.6810 - val_acc: 0.0370\n"
          ],
          "name": "stdout"
        }
      ]
    },
    {
      "cell_type": "code",
      "metadata": {
        "id": "6lS7dpBirsOT",
        "colab_type": "code",
        "colab": {
          "base_uri": "https://localhost:8080/",
          "height": 326
        },
        "outputId": "9d3b49f3-aea4-4aa4-d448-727f11aae0a6"
      },
      "source": [
        "[model.most_similar([predictions[10][i]])[0] for i in range(15)]\n"
      ],
      "execution_count": 41,
      "outputs": [
        {
          "output_type": "stream",
          "text": [
            "/usr/local/lib/python3.6/dist-packages/gensim/matutils.py:737: FutureWarning: Conversion of the second argument of issubdtype from `int` to `np.signedinteger` is deprecated. In future, it will be treated as `np.int64 == np.dtype(int).type`.\n",
            "  if np.issubdtype(vec.dtype, np.int):\n"
          ],
          "name": "stderr"
        },
        {
          "output_type": "execute_result",
          "data": {
            "text/plain": [
              "[('supose', 0.503160297870636),\n",
              " ('is', 0.5825797319412231),\n",
              " ('do', 0.531836211681366),\n",
              " ('Circumstances_dictate', 0.4936249554157257),\n",
              " (\"l'_Affaire\", 0.257721483707428),\n",
              " (\"l'_Affaire\", 0.241354301571846),\n",
              " (\"l'_Affaire\", 0.23994538187980652),\n",
              " (\"l'_Affaire\", 0.23784194886684418),\n",
              " (\"l'_Affaire\", 0.2372058629989624),\n",
              " (\"l'_Affaire\", 0.2370615154504776),\n",
              " (\"l'_Affaire\", 0.2369934618473053),\n",
              " (\"l'_Affaire\", 0.23697099089622498),\n",
              " (\"l'_Affaire\", 0.23696526885032654),\n",
              " (\"l'_Affaire\", 0.23700056970119476),\n",
              " (\"l'_Affaire\", 0.23700818419456482)]"
            ]
          },
          "metadata": {
            "tags": []
          },
          "execution_count": 41
        }
      ]
    },
    {
      "cell_type": "code",
      "metadata": {
        "id": "9mWxLWzbsMH9",
        "colab_type": "code",
        "colab": {
          "base_uri": "https://localhost:8080/",
          "height": 34
        },
        "outputId": "fb7f8e5a-b544-4e58-bc81-f09d3a0d1685"
      },
      "source": [
        "predictions.shape"
      ],
      "execution_count": 42,
      "outputs": [
        {
          "output_type": "execute_result",
          "data": {
            "text/plain": [
              "(18, 15, 300)"
            ]
          },
          "metadata": {
            "tags": []
          },
          "execution_count": 42
        }
      ]
    },
    {
      "cell_type": "code",
      "metadata": {
        "id": "XYsNjx7IsCsd",
        "colab_type": "code",
        "colab": {
          "base_uri": "https://localhost:8080/",
          "height": 326
        },
        "outputId": "962b6ecc-f6c3-4a74-e99a-16c053035fbf"
      },
      "source": [
        "[model.most_similar([y_test[11][i]])[0] for i in range(15)]"
      ],
      "execution_count": 46,
      "outputs": [
        {
          "output_type": "stream",
          "text": [
            "/usr/local/lib/python3.6/dist-packages/gensim/matutils.py:737: FutureWarning: Conversion of the second argument of issubdtype from `int` to `np.signedinteger` is deprecated. In future, it will be treated as `np.int64 == np.dtype(int).type`.\n",
            "  if np.issubdtype(vec.dtype, np.int):\n"
          ],
          "name": "stderr"
        },
        {
          "output_type": "execute_result",
          "data": {
            "text/plain": [
              "[('beautiful', 1.0),\n",
              " ('is', 1.0000001192092896),\n",
              " ('better', 1.0),\n",
              " ('than', 1.0),\n",
              " ('ugly', 1.0),\n",
              " (\"l'_Affaire\", 0.24067771434783936),\n",
              " (\"l'_Affaire\", 0.24067771434783936),\n",
              " (\"l'_Affaire\", 0.24067771434783936),\n",
              " (\"l'_Affaire\", 0.24067771434783936),\n",
              " (\"l'_Affaire\", 0.24067771434783936),\n",
              " (\"l'_Affaire\", 0.24067771434783936),\n",
              " (\"l'_Affaire\", 0.24067771434783936),\n",
              " (\"l'_Affaire\", 0.24067771434783936),\n",
              " (\"l'_Affaire\", 0.24067771434783936),\n",
              " (\"l'_Affaire\", 0.24067771434783936)]"
            ]
          },
          "metadata": {
            "tags": []
          },
          "execution_count": 46
        }
      ]
    },
    {
      "cell_type": "code",
      "metadata": {
        "id": "YAYsIOgAJlM7",
        "colab_type": "code",
        "colab": {}
      },
      "source": [
        "#model2.save('./drive/My Drive/LSTM chatbot.h5')\n",
        "#os.path.exists"
      ],
      "execution_count": 0,
      "outputs": []
    },
    {
      "cell_type": "code",
      "metadata": {
        "id": "ULwm4sUMh-z-",
        "colab_type": "code",
        "colab": {
          "base_uri": "https://localhost:8080/",
          "height": 173
        },
        "outputId": "64f59263-4f37-491e-a55a-e80822a19a3f"
      },
      "source": [
        "for _ in range(3):\n",
        "    mssg=input(\"Enter the message:\")\n",
        "    x=mssg#x_test[0]\n",
        "    sentend=np.ones((300,),dtype=np.float32)\n",
        "    sent=nltk.word_tokenize(x.lower())\n",
        "    sentvec = [model[w] for w in sent if w in model.vocab]\n",
        "\n",
        "    sentvec[14:]=[]\n",
        "    sentvec.append(sentend)\n",
        "    if len(sentvec)<15:\n",
        "        for i in range(15-len(sentvec)):\n",
        "            sentvec.append(sentend) \n",
        "\n",
        "    sentvec=np.array([sentvec])\n",
        "    predictions = model2.predict(sentvec)\n",
        "    print([model.most_similar([predictions[0][i]])[0][0] for i in range(15)])"
      ],
      "execution_count": 50,
      "outputs": [
        {
          "output_type": "stream",
          "text": [
            "Enter the message:hello i am boy\n"
          ],
          "name": "stdout"
        },
        {
          "output_type": "stream",
          "text": [
            "/usr/local/lib/python3.6/dist-packages/gensim/matutils.py:737: FutureWarning: Conversion of the second argument of issubdtype from `int` to `np.signedinteger` is deprecated. In future, it will be treated as `np.int64 == np.dtype(int).type`.\n",
            "  if np.issubdtype(vec.dtype, np.int):\n"
          ],
          "name": "stderr"
        },
        {
          "output_type": "stream",
          "text": [
            "['supose', 'is', \"l'_Affaire\", \"l'_Affaire\", \"l'_Affaire\", \"l'_Affaire\", \"l'_Affaire\", \"l'_Affaire\", \"l'_Affaire\", \"l'_Affaire\", \"l'_Affaire\", \"l'_Affaire\", \"l'_Affaire\", \"l'_Affaire\", \"l'_Affaire\"]\n",
            "Enter the message:how are you?\n",
            "['supose', 'is', 'do', 'do', 'RUSH_Okay', \"l'_Affaire\", \"l'_Affaire\", \"l'_Affaire\", \"l'_Affaire\", \"l'_Affaire\", \"l'_Affaire\", \"l'_Affaire\", \"l'_Affaire\", \"l'_Affaire\", \"l'_Affaire\"]\n",
            "Enter the message:thank you\n",
            "['supose', 'is', \"l'_Affaire\", \"l'_Affaire\", \"l'_Affaire\", \"l'_Affaire\", \"l'_Affaire\", \"l'_Affaire\", \"l'_Affaire\", \"l'_Affaire\", \"l'_Affaire\", \"l'_Affaire\", \"l'_Affaire\", \"l'_Affaire\", \"l'_Affaire\"]\n"
          ],
          "name": "stdout"
        }
      ]
    },
    {
      "cell_type": "code",
      "metadata": {
        "id": "LaOh-_n8XsaY",
        "colab_type": "code",
        "colab": {
          "base_uri": "https://localhost:8080/",
          "height": 105
        },
        "outputId": "b1aac052-da77-49b4-9ce5-1525bd6fc689"
      },
      "source": [
        "xp=x_test[1].reshape(1,15,300)\n",
        "yp=y_test[1].reshape(1,15,300)\n",
        "pred=model2.predict(xp)\n",
        "print(\"prediction \",model.most_similar(pred[0]))\n",
        "print(\"actual \",model.most_similar(yp[0]))"
      ],
      "execution_count": 37,
      "outputs": [
        {
          "output_type": "stream",
          "text": [
            "/usr/local/lib/python3.6/dist-packages/gensim/matutils.py:737: FutureWarning: Conversion of the second argument of issubdtype from `int` to `np.signedinteger` is deprecated. In future, it will be treated as `np.int64 == np.dtype(int).type`.\n",
            "  if np.issubdtype(vec.dtype, np.int):\n"
          ],
          "name": "stderr"
        },
        {
          "output_type": "stream",
          "text": [
            "prediction  [('wish_washy', 0.2750976085662842), (\"l'_Affaire\", 0.2700481414794922), ('reallllly', 0.261417031288147), ('relevations', 0.25948765873908997), ('aide_Melanie_Fonder', 0.24947303533554077), ('utterly_repulsive', 0.24779541790485382), ('constitutional_amendments', 0.24728330969810486), ('Australian_sheepskin_boots', 0.24708551168441772), ('Cindy_Crawford', 0.24577397108078003), ('opera_Elaine_Padmore', 0.24496468901634216)]\n",
            "actual  [(\"l'_Affaire\", 0.2522413730621338), ('relevations', 0.23910337686538696), ('Ovidiu_Rom', 0.23834006488323212), ('Cindy_Crawford', 0.2333430051803589), ('Australian_sheepskin_boots', 0.23041939735412598), ('opera_Elaine_Padmore', 0.22765450179576874), ('constitutional_amendments', 0.22741520404815674), ('AP_HOCKEY_NEWS', 0.22420454025268555), ('lawsuit_Patricia_Conradt', 0.22418904304504395), ('aide_Melanie_Fonder', 0.22354507446289062)]\n"
          ],
          "name": "stdout"
        }
      ]
    },
    {
      "cell_type": "code",
      "metadata": {
        "id": "pp6Jp6bEdenV",
        "colab_type": "code",
        "colab": {}
      },
      "source": [
        ""
      ],
      "execution_count": 0,
      "outputs": []
    }
  ]
}