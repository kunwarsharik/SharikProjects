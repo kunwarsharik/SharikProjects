{
  "nbformat": 4,
  "nbformat_minor": 0,
  "metadata": {
    "colab": {
      "name": "LSTM Basics",
      "provenance": [],
      "collapsed_sections": [],
      "authorship_tag": "ABX9TyPgcow7ANAx1UktjAEAMPIg",
      "include_colab_link": true
    },
    "kernelspec": {
      "name": "python3",
      "display_name": "Python 3"
    }
  },
  "cells": [
    {
      "cell_type": "markdown",
      "metadata": {
        "id": "view-in-github",
        "colab_type": "text"
      },
      "source": [
        "<a href=\"https://colab.research.google.com/github/kunwarsharik/SharikProjects/blob/master/LSTM_Basics.ipynb\" target=\"_parent\"><img src=\"https://colab.research.google.com/assets/colab-badge.svg\" alt=\"Open In Colab\"/></a>"
      ]
    },
    {
      "cell_type": "code",
      "metadata": {
        "id": "dbso-nV4M81z",
        "colab_type": "code",
        "outputId": "09be53cb-5f5c-451d-aeed-91f3347b6347",
        "colab": {
          "base_uri": "https://localhost:8080/",
          "height": 80
        }
      },
      "source": [
        "import numpy as np\n",
        "from keras.layers import Dense,LSTM,Bidirectional,TimeDistributed,ConvLSTM2D,Flatten,RepeatVector\n",
        "from keras.layers.convolutional import MaxPooling1D,Conv1D\n",
        "from keras.models import Sequential"
      ],
      "execution_count": 0,
      "outputs": [
        {
          "output_type": "stream",
          "text": [
            "Using TensorFlow backend.\n"
          ],
          "name": "stderr"
        },
        {
          "output_type": "display_data",
          "data": {
            "text/html": [
              "<p style=\"color: red;\">\n",
              "The default version of TensorFlow in Colab will soon switch to TensorFlow 2.x.<br>\n",
              "We recommend you <a href=\"https://www.tensorflow.org/guide/migrate\" target=\"_blank\">upgrade</a> now \n",
              "or ensure your notebook will continue to use TensorFlow 1.x via the <code>%tensorflow_version 1.x</code> magic:\n",
              "<a href=\"https://colab.research.google.com/notebooks/tensorflow_version.ipynb\" target=\"_blank\">more info</a>.</p>\n"
            ],
            "text/plain": [
              "<IPython.core.display.HTML object>"
            ]
          },
          "metadata": {
            "tags": []
          }
        }
      ]
    },
    {
      "cell_type": "code",
      "metadata": {
        "id": "y-mBm5JFUA0E",
        "colab_type": "code",
        "outputId": "b4f87381-2871-4a03-bf82-a26fe5bae83b",
        "colab": {
          "base_uri": "https://localhost:8080/",
          "height": 1000
        }
      },
      "source": [
        "raw_seq = np.linspace(10,109,100)\n",
        "x,y=[],[]\n",
        "s=3\n",
        "for i in range(len(raw_seq)-s):\n",
        "    x2=[]\n",
        "    for j in range(s):\n",
        "        x2.append(raw_seq[i+j])\n",
        "    x.append(x2)\n",
        "    y.append(raw_seq[i+j+1])\n",
        "x,y=np.array(x),np.array(y)\n",
        "for i in range(100-s):\n",
        "    print(x[i],y[i])\n",
        "#ye univariate(feature), s(timesteps)\n",
        "#input_shape=n_samples,timesteps,feature(n_variate)\n",
        "x3=np.reshape(x,(len(x),3, 1))\n",
        "\n",
        "model = Sequential()\n",
        "model.add(LSTM(50, activation='relu', input_shape=(3, 1)))#input_shape=(n_steps, n_features)\n",
        "model.add(Dense(1))\n",
        "model.compile(optimizer='adam', loss='mse')\n",
        "model.fit(x3, y, epochs=500, verbose=0)\n",
        "b=np.array([234.0,235.0,236.0])\n",
        "b=b.reshape(1,3,1)\n",
        "model.predict(b)"
      ],
      "execution_count": 0,
      "outputs": [
        {
          "output_type": "stream",
          "text": [
            "[10. 11. 12.] 13.0\n",
            "[11. 12. 13.] 14.0\n",
            "[12. 13. 14.] 15.0\n",
            "[13. 14. 15.] 16.0\n",
            "[14. 15. 16.] 17.0\n",
            "[15. 16. 17.] 18.0\n",
            "[16. 17. 18.] 19.0\n",
            "[17. 18. 19.] 20.0\n",
            "[18. 19. 20.] 21.0\n",
            "[19. 20. 21.] 22.0\n",
            "[20. 21. 22.] 23.0\n",
            "[21. 22. 23.] 24.0\n",
            "[22. 23. 24.] 25.0\n",
            "[23. 24. 25.] 26.0\n",
            "[24. 25. 26.] 27.0\n",
            "[25. 26. 27.] 28.0\n",
            "[26. 27. 28.] 29.0\n",
            "[27. 28. 29.] 30.0\n",
            "[28. 29. 30.] 31.0\n",
            "[29. 30. 31.] 32.0\n",
            "[30. 31. 32.] 33.0\n",
            "[31. 32. 33.] 34.0\n",
            "[32. 33. 34.] 35.0\n",
            "[33. 34. 35.] 36.0\n",
            "[34. 35. 36.] 37.0\n",
            "[35. 36. 37.] 38.0\n",
            "[36. 37. 38.] 39.0\n",
            "[37. 38. 39.] 40.0\n",
            "[38. 39. 40.] 41.0\n",
            "[39. 40. 41.] 42.0\n",
            "[40. 41. 42.] 43.0\n",
            "[41. 42. 43.] 44.0\n",
            "[42. 43. 44.] 45.0\n",
            "[43. 44. 45.] 46.0\n",
            "[44. 45. 46.] 47.0\n",
            "[45. 46. 47.] 48.0\n",
            "[46. 47. 48.] 49.0\n",
            "[47. 48. 49.] 50.0\n",
            "[48. 49. 50.] 51.0\n",
            "[49. 50. 51.] 52.0\n",
            "[50. 51. 52.] 53.0\n",
            "[51. 52. 53.] 54.0\n",
            "[52. 53. 54.] 55.0\n",
            "[53. 54. 55.] 56.0\n",
            "[54. 55. 56.] 57.0\n",
            "[55. 56. 57.] 58.0\n",
            "[56. 57. 58.] 59.0\n",
            "[57. 58. 59.] 60.0\n",
            "[58. 59. 60.] 61.0\n",
            "[59. 60. 61.] 62.0\n",
            "[60. 61. 62.] 63.0\n",
            "[61. 62. 63.] 64.0\n",
            "[62. 63. 64.] 65.0\n",
            "[63. 64. 65.] 66.0\n",
            "[64. 65. 66.] 67.0\n",
            "[65. 66. 67.] 68.0\n",
            "[66. 67. 68.] 69.0\n",
            "[67. 68. 69.] 70.0\n",
            "[68. 69. 70.] 71.0\n",
            "[69. 70. 71.] 72.0\n",
            "[70. 71. 72.] 73.0\n",
            "[71. 72. 73.] 74.0\n",
            "[72. 73. 74.] 75.0\n",
            "[73. 74. 75.] 76.0\n",
            "[74. 75. 76.] 77.0\n",
            "[75. 76. 77.] 78.0\n",
            "[76. 77. 78.] 79.0\n",
            "[77. 78. 79.] 80.0\n",
            "[78. 79. 80.] 81.0\n",
            "[79. 80. 81.] 82.0\n",
            "[80. 81. 82.] 83.0\n",
            "[81. 82. 83.] 84.0\n",
            "[82. 83. 84.] 85.0\n",
            "[83. 84. 85.] 86.0\n",
            "[84. 85. 86.] 87.0\n",
            "[85. 86. 87.] 88.0\n",
            "[86. 87. 88.] 89.0\n",
            "[87. 88. 89.] 90.0\n",
            "[88. 89. 90.] 91.0\n",
            "[89. 90. 91.] 92.0\n",
            "[90. 91. 92.] 93.0\n",
            "[91. 92. 93.] 94.0\n",
            "[92. 93. 94.] 95.0\n",
            "[93. 94. 95.] 96.0\n",
            "[94. 95. 96.] 97.0\n",
            "[95. 96. 97.] 98.0\n",
            "[96. 97. 98.] 99.0\n",
            "[97. 98. 99.] 100.0\n",
            "[ 98.  99. 100.] 101.0\n",
            "[ 99. 100. 101.] 102.0\n",
            "[100. 101. 102.] 103.0\n",
            "[101. 102. 103.] 104.0\n",
            "[102. 103. 104.] 105.0\n",
            "[103. 104. 105.] 106.0\n",
            "[104. 105. 106.] 107.0\n",
            "[105. 106. 107.] 108.0\n",
            "[106. 107. 108.] 109.0\n",
            "WARNING:tensorflow:From /usr/local/lib/python3.6/dist-packages/keras/backend/tensorflow_backend.py:66: The name tf.get_default_graph is deprecated. Please use tf.compat.v1.get_default_graph instead.\n",
            "\n",
            "WARNING:tensorflow:From /usr/local/lib/python3.6/dist-packages/keras/backend/tensorflow_backend.py:541: The name tf.placeholder is deprecated. Please use tf.compat.v1.placeholder instead.\n",
            "\n",
            "WARNING:tensorflow:From /usr/local/lib/python3.6/dist-packages/keras/backend/tensorflow_backend.py:4432: The name tf.random_uniform is deprecated. Please use tf.random.uniform instead.\n",
            "\n",
            "WARNING:tensorflow:From /usr/local/lib/python3.6/dist-packages/keras/optimizers.py:793: The name tf.train.Optimizer is deprecated. Please use tf.compat.v1.train.Optimizer instead.\n",
            "\n",
            "WARNING:tensorflow:From /usr/local/lib/python3.6/dist-packages/tensorflow_core/python/ops/math_grad.py:1424: where (from tensorflow.python.ops.array_ops) is deprecated and will be removed in a future version.\n",
            "Instructions for updating:\n",
            "Use tf.where in 2.0, which has the same broadcast rule as np.where\n",
            "WARNING:tensorflow:From /usr/local/lib/python3.6/dist-packages/keras/backend/tensorflow_backend.py:1033: The name tf.assign_add is deprecated. Please use tf.compat.v1.assign_add instead.\n",
            "\n",
            "WARNING:tensorflow:From /usr/local/lib/python3.6/dist-packages/keras/backend/tensorflow_backend.py:1020: The name tf.assign is deprecated. Please use tf.compat.v1.assign instead.\n",
            "\n",
            "WARNING:tensorflow:From /usr/local/lib/python3.6/dist-packages/keras/backend/tensorflow_backend.py:3005: The name tf.Session is deprecated. Please use tf.compat.v1.Session instead.\n",
            "\n",
            "WARNING:tensorflow:From /usr/local/lib/python3.6/dist-packages/keras/backend/tensorflow_backend.py:190: The name tf.get_default_session is deprecated. Please use tf.compat.v1.get_default_session instead.\n",
            "\n",
            "WARNING:tensorflow:From /usr/local/lib/python3.6/dist-packages/keras/backend/tensorflow_backend.py:197: The name tf.ConfigProto is deprecated. Please use tf.compat.v1.ConfigProto instead.\n",
            "\n",
            "WARNING:tensorflow:From /usr/local/lib/python3.6/dist-packages/keras/backend/tensorflow_backend.py:207: The name tf.global_variables is deprecated. Please use tf.compat.v1.global_variables instead.\n",
            "\n",
            "WARNING:tensorflow:From /usr/local/lib/python3.6/dist-packages/keras/backend/tensorflow_backend.py:216: The name tf.is_variable_initialized is deprecated. Please use tf.compat.v1.is_variable_initialized instead.\n",
            "\n",
            "WARNING:tensorflow:From /usr/local/lib/python3.6/dist-packages/keras/backend/tensorflow_backend.py:223: The name tf.variables_initializer is deprecated. Please use tf.compat.v1.variables_initializer instead.\n",
            "\n"
          ],
          "name": "stdout"
        },
        {
          "output_type": "execute_result",
          "data": {
            "text/plain": [
              "array([[240.0785]], dtype=float32)"
            ]
          },
          "metadata": {
            "tags": []
          },
          "execution_count": 2
        }
      ]
    },
    {
      "cell_type": "markdown",
      "metadata": {
        "id": "ATS5JeUVfTdf",
        "colab_type": "text"
      },
      "source": [
        "lstm input is 3d but output is 2d interpretation. return_sequence=True 3d output"
      ]
    },
    {
      "cell_type": "code",
      "metadata": {
        "id": "BLaaN8Kidtt2",
        "colab_type": "code",
        "outputId": "c3917e59-f695-4b6a-b3e8-8b8426d20577",
        "colab": {
          "base_uri": "https://localhost:8080/",
          "height": 34
        }
      },
      "source": [
        "model = Sequential()\n",
        "model.add(LSTM(50, activation='relu', return_sequences=True,input_shape=(3, 1)))#input_shape=(n_steps, n_features)\n",
        "model.add(LSTM(50, activation='relu'))\n",
        "model.add(Dense(1))\n",
        "model.compile(optimizer='adam', loss='mse')\n",
        "model.fit(x3, y, epochs=500, verbose=0)\n",
        "b=np.array([234.0,235.0,236.0])\n",
        "b=b.reshape(1,3,1)\n",
        "model.predict(b)"
      ],
      "execution_count": 0,
      "outputs": [
        {
          "output_type": "execute_result",
          "data": {
            "text/plain": [
              "array([[235.17403]], dtype=float32)"
            ]
          },
          "metadata": {
            "tags": []
          },
          "execution_count": 3
        }
      ]
    },
    {
      "cell_type": "markdown",
      "metadata": {
        "id": "vHE4uwfZgl4J",
        "colab_type": "text"
      },
      "source": [
        "bidirectional lstm learn input fromm both forward and backward. and concatenate the output. use if you think it can benifit. wrap the first layer in bidir. wrapper."
      ]
    },
    {
      "cell_type": "code",
      "metadata": {
        "id": "fN9Cdk0Sgk9_",
        "colab_type": "code",
        "outputId": "6881b752-967c-43f6-f5ab-27da9ae10597",
        "colab": {
          "base_uri": "https://localhost:8080/",
          "height": 34
        }
      },
      "source": [
        "model = Sequential()\n",
        "model.add(Bidirectional(LSTM(50, activation='relu'), input_shape=(3, 1)))#input_shape=(n_steps, n_features)\n",
        "model.add(Dense(1))\n",
        "model.compile(optimizer='adam', loss='mse')\n",
        "model.fit(x3, y, epochs=500, verbose=0)\n",
        "b=np.array([234.0,235.0,236.0])\n",
        "b=b.reshape(1,3,1)\n",
        "model.predict(b)"
      ],
      "execution_count": 0,
      "outputs": [
        {
          "output_type": "execute_result",
          "data": {
            "text/plain": [
              "array([[237.73886]], dtype=float32)"
            ]
          },
          "metadata": {
            "tags": []
          },
          "execution_count": 4
        }
      ]
    },
    {
      "cell_type": "markdown",
      "metadata": {
        "id": "qDUW7KyQjLQu",
        "colab_type": "text"
      },
      "source": [
        "in \"cnn lstm\". cnn u to 2d pr kaam krta h. pr 1-d data like univariate series me bi effectively feature extract kr sakta h. iska output lstm process krta h.\n",
        "n_samples,n_subseq,timesteps,feature(n_variate)"
      ]
    },
    {
      "cell_type": "code",
      "metadata": {
        "id": "M5HoiY3Rf4Ae",
        "colab_type": "code",
        "colab": {}
      },
      "source": [
        "raw_seq = np.linspace(10,109,100)\n",
        "x,y=[],[]\n",
        "s=4\n",
        "for i in range(len(raw_seq)-s):\n",
        "    x2=[]\n",
        "    for j in range(s):\n",
        "        x2.append(raw_seq[i+j])\n",
        "    x.append(x2)\n",
        "    y.append(raw_seq[i+j+1])\n",
        "x,y=np.array(x),np.array(y)\n",
        "for i in range(100-s):\n",
        "    print(x[i],y[i])\n",
        "x4=x.reshape(len(x),2,2,1)"
      ],
      "execution_count": 0,
      "outputs": []
    },
    {
      "cell_type": "markdown",
      "metadata": {
        "id": "BVa91kC8M0Me",
        "colab_type": "text"
      },
      "source": [
        "cnn layer use krte h timedistr. wrapper m. timesteps, feature input m dalte h. hr subseq pr cnn chalta h sepeartly."
      ]
    },
    {
      "cell_type": "code",
      "metadata": {
        "id": "GAbB2AOEPLMC",
        "colab_type": "code",
        "outputId": "0b540134-58b9-488e-ce85-777c94557538",
        "colab": {
          "base_uri": "https://localhost:8080/",
          "height": 68
        }
      },
      "source": [
        "model = Sequential()\n",
        "model.add(TimeDistributed(Conv1D(filters=64, kernel_size=1, activation='relu'), input_shape=(None, 2, 1)))\n",
        "model.add(TimeDistributed(MaxPooling1D(pool_size=2)))\n",
        "model.add(TimeDistributed(Flatten()))\n",
        "model.add(LSTM(50, activation='relu'))\n",
        "model.add(Dense(1))\n",
        "model.compile(optimizer='adam', loss='mse')\n",
        "model.fit(x4, y, epochs=500, verbose=0)\n",
        "b=np.array([234.0,235.0,236.0,237.0])\n",
        "b=b.reshape(1,2,2,1)\n",
        "model.predict(b)"
      ],
      "execution_count": 0,
      "outputs": [
        {
          "output_type": "stream",
          "text": [
            "WARNING:tensorflow:From /usr/local/lib/python3.6/dist-packages/keras/backend/tensorflow_backend.py:4267: The name tf.nn.max_pool is deprecated. Please use tf.nn.max_pool2d instead.\n",
            "\n"
          ],
          "name": "stdout"
        },
        {
          "output_type": "execute_result",
          "data": {
            "text/plain": [
              "array([[240.411]], dtype=float32)"
            ]
          },
          "metadata": {
            "tags": []
          },
          "execution_count": 6
        }
      ]
    },
    {
      "cell_type": "markdown",
      "metadata": {
        "id": "KQzh3-ozUcDl",
        "colab_type": "text"
      },
      "source": [
        "ConvLSTM me conv jo read krta h input LSTM layer me diya h. phle cnn part baad me lstm part. u to 2d spatio temporal data k liye h. pr timeseries m bi use kr sakte h. yha 2d ki form mm dena h. Upar ki tarah yaha 1d conv alag se ni laga sakte."
      ]
    },
    {
      "cell_type": "code",
      "metadata": {
        "id": "wkxVqqGykK68",
        "colab_type": "code",
        "colab": {}
      },
      "source": [
        "#input (sample,timesteps,row,col,feature)\n",
        "raw_seq = np.linspace(10,109,100)\n",
        "x,y=[],[]\n",
        "s=4\n",
        "for i in range(len(raw_seq)-s):\n",
        "    x2=[]\n",
        "    for j in range(s):\n",
        "        x2.append(raw_seq[i+j])\n",
        "    x.append(x2)\n",
        "    y.append(raw_seq[i+j+1])\n",
        "x,y=np.array(x),np.array(y)\n",
        "x4=x.reshape(len(x),2,1,2,1)#1row,2col,in 2timstep, 1 feature"
      ],
      "execution_count": 0,
      "outputs": []
    },
    {
      "cell_type": "code",
      "metadata": {
        "id": "PShfm7hDlHz4",
        "colab_type": "code",
        "outputId": "492b9525-685b-44f1-a2e7-cde92436ba37",
        "colab": {
          "base_uri": "https://localhost:8080/",
          "height": 34
        }
      },
      "source": [
        "model = Sequential()\n",
        "model.add(ConvLSTM2D(filters=64,kernel_size=(1,2),activation='relu',input_shape=(2,1,2,1)))\n",
        "model.add(Flatten())\n",
        "model.add(Dense(1))\n",
        "model.compile(optimizer='adam', loss='mse')\n",
        "model.fit(x4, y, epochs=500, verbose=0)\n",
        "b=np.array([234.0,235.0,236.0,237.0])\n",
        "b=b.reshape(1,2,1,2,1)\n",
        "model.predict(b)"
      ],
      "execution_count": 0,
      "outputs": [
        {
          "output_type": "execute_result",
          "data": {
            "text/plain": [
              "array([[234.28487]], dtype=float32)"
            ]
          },
          "metadata": {
            "tags": []
          },
          "execution_count": 10
        }
      ]
    },
    {
      "cell_type": "markdown",
      "metadata": {
        "id": "UJ9-8VSXHXR5",
        "colab_type": "text"
      },
      "source": [
        "o1 ki row 1 timestep h. col 1 seq tha."
      ]
    },
    {
      "cell_type": "code",
      "metadata": {
        "id": "QJjA0VTVXbMU",
        "colab_type": "code",
        "outputId": "bd7417cf-48fc-441b-dacd-e59e625b3cae",
        "colab": {
          "base_uri": "https://localhost:8080/",
          "height": 272
        }
      },
      "source": [
        "#multivariate data, when we have more than observation in a timestep.\n",
        "s1=np.linspace(10,109,100)\n",
        "s2=np.linspace(110,209,100)\n",
        "o1=[[i,j,i+j] for i,j in zip(s1,s2)]\n",
        "no1=np.array(o1)\n",
        "x,y=[],[]#among 2 types of multivariate series this format is 1st called muliple input series \n",
        "s=3\n",
        "e=2\n",
        "for i in range(100-s):\n",
        "    x2=[]\n",
        "    for j in range(s):\n",
        "        x3=[]\n",
        "        for k in range(2):\n",
        "            x3.append(no1[i+j][k])\n",
        "        x2.append(x3)\n",
        "    y.append(no1[i+j][k+1])\n",
        "    x.append(x2)\n",
        "x,y=np.array(x),np.array(y)\n",
        "for i in range(5):\n",
        "    print(x[i],y[i])\n"
      ],
      "execution_count": 0,
      "outputs": [
        {
          "output_type": "stream",
          "text": [
            "[[ 10. 110.]\n",
            " [ 11. 111.]\n",
            " [ 12. 112.]] 124.0\n",
            "[[ 11. 111.]\n",
            " [ 12. 112.]\n",
            " [ 13. 113.]] 126.0\n",
            "[[ 12. 112.]\n",
            " [ 13. 113.]\n",
            " [ 14. 114.]] 128.0\n",
            "[[ 13. 113.]\n",
            " [ 14. 114.]\n",
            " [ 15. 115.]] 130.0\n",
            "[[ 14. 114.]\n",
            " [ 15. 115.]\n",
            " [ 16. 116.]] 132.0\n"
          ],
          "name": "stdout"
        }
      ]
    },
    {
      "cell_type": "code",
      "metadata": {
        "id": "lvcjAm6Nd5wA",
        "colab_type": "code",
        "outputId": "a6d9be39-febb-42af-c476-82cb5e080582",
        "colab": {
          "base_uri": "https://localhost:8080/",
          "height": 34
        }
      },
      "source": [
        "model = Sequential()\n",
        "model.add(LSTM(50, activation='relu',return_sequences=True, input_shape=(3, 2)))#input_shape=(n_steps, n_features)\n",
        "model.add(LSTM(50, activation='relu',return_sequences=True))\n",
        "model.add(LSTM(50, activation='relu'))\n",
        "model.add(Dense(1))\n",
        "model.compile(optimizer='adam', loss='mse')\n",
        "model.fit(x, y, epochs=500, verbose=0)\n",
        "b=np.array([[234.0,334.0],[235.0,335.0],[236.0,336.0]])\n",
        "b=b.reshape(1,3,2)\n",
        "model.predict(b)"
      ],
      "execution_count": 0,
      "outputs": [
        {
          "output_type": "execute_result",
          "data": {
            "text/plain": [
              "array([[487.99536]], dtype=float32)"
            ]
          },
          "metadata": {
            "tags": []
          },
          "execution_count": 49
        }
      ]
    },
    {
      "cell_type": "code",
      "metadata": {
        "id": "BRPGLGVle-bn",
        "colab_type": "code",
        "outputId": "e516d58b-4508-489e-996b-7ffa13a58acc",
        "colab": {
          "base_uri": "https://localhost:8080/",
          "height": 272
        }
      },
      "source": [
        "s1=np.linspace(10,109,100)#2nd type of multivariate the parallel series\n",
        "s2=np.linspace(110,209,100)\n",
        "o1=[i+j for i,j in zip(s1,s2)]\n",
        "no1=np.array(o1)\n",
        "x,y=[],[]\n",
        "s=3\n",
        "for i in range(100-s):\n",
        "    x2,y2=[],[]\n",
        "    for d in [s1,s2,o1]:\n",
        "        x3=[]\n",
        "        for j in range(s):        \n",
        "            \n",
        "            x3.append(d[i+j])\n",
        "        x2.append(x3)\n",
        "        y2.append(d[i+j+1])\n",
        "    x.append(x2)\n",
        "    y.append(y2)\n",
        "x,y=np.array(x),np.array(y)\n",
        "for i in range(5):\n",
        "    print(x[i],y[i])"
      ],
      "execution_count": 0,
      "outputs": [
        {
          "output_type": "stream",
          "text": [
            "[[ 10.  11.  12.]\n",
            " [110. 111. 112.]\n",
            " [120. 122. 124.]] [ 13. 113. 126.]\n",
            "[[ 11.  12.  13.]\n",
            " [111. 112. 113.]\n",
            " [122. 124. 126.]] [ 14. 114. 128.]\n",
            "[[ 12.  13.  14.]\n",
            " [112. 113. 114.]\n",
            " [124. 126. 128.]] [ 15. 115. 130.]\n",
            "[[ 13.  14.  15.]\n",
            " [113. 114. 115.]\n",
            " [126. 128. 130.]] [ 16. 116. 132.]\n",
            "[[ 14.  15.  16.]\n",
            " [114. 115. 116.]\n",
            " [128. 130. 132.]] [ 17. 117. 134.]\n"
          ],
          "name": "stdout"
        }
      ]
    },
    {
      "cell_type": "code",
      "metadata": {
        "id": "CzbgXB2qK5Y4",
        "colab_type": "code",
        "outputId": "e74cecc2-ce86-4cc2-84f9-b0bafc93192d",
        "colab": {
          "base_uri": "https://localhost:8080/",
          "height": 34
        }
      },
      "source": [
        "model = Sequential()\n",
        "model.add(LSTM(100, activation='relu',return_sequences=True, input_shape=(3, 3)))#input_shape=(n_steps, n_features)\n",
        "#model.add(LSTM(50, activation='relu',return_sequences=True))\n",
        "model.add(LSTM(100, activation='relu'))\n",
        "model.add(Dense(3))\n",
        "model.compile(optimizer='adam', loss='mse')\n",
        "model.fit(x, y, epochs=1000, verbose=0)\n",
        "b=np.array([[234.0,334.0,568.0],[235.0,335.0,570.0],[236.0,336.0,572.0]])\n",
        "b=np.transpose(b).reshape(1,3,3)\n",
        "model.predict(b)"
      ],
      "execution_count": 0,
      "outputs": [
        {
          "output_type": "execute_result",
          "data": {
            "text/plain": [
              "array([[223.68715, 392.7526 , 603.4076 ]], dtype=float32)"
            ]
          },
          "metadata": {
            "tags": []
          },
          "execution_count": 51
        }
      ]
    },
    {
      "cell_type": "markdown",
      "metadata": {
        "id": "Jcmb-TOwg4pZ",
        "colab_type": "text"
      },
      "source": [
        "multistep lstm is used to obtaining the prediction multiple time step forward."
      ]
    },
    {
      "cell_type": "code",
      "metadata": {
        "id": "oMwLbznBM8ls",
        "colab_type": "code",
        "outputId": "ec49df10-e4b7-42f2-dd8b-6365ee0e1cb0",
        "colab": {
          "base_uri": "https://localhost:8080/",
          "height": 102
        }
      },
      "source": [
        "#two type of models 1st vector output model\n",
        "s1=np.linspace(10,109,100)\n",
        "x,y=[],[]\n",
        "s,o=3,2\n",
        "for i in range(100-s-o):\n",
        "    x2,y2=[],[]\n",
        "    for j in range(s):\n",
        "        x2.append(s1[i+j])\n",
        "    for j in range(o):\n",
        "        y2.append(s1[i+j+o+1])\n",
        "    x.append(x2)\n",
        "    y.append(y2)\n",
        "x,y=np.array(x),np.array(y)\n",
        "for i in range(5):\n",
        "    print(x[i],y[i])"
      ],
      "execution_count": 0,
      "outputs": [
        {
          "output_type": "stream",
          "text": [
            "[10. 11. 12.] [13. 14.]\n",
            "[11. 12. 13.] [14. 15.]\n",
            "[12. 13. 14.] [15. 16.]\n",
            "[13. 14. 15.] [16. 17.]\n",
            "[14. 15. 16.] [17. 18.]\n"
          ],
          "name": "stdout"
        }
      ]
    },
    {
      "cell_type": "code",
      "metadata": {
        "id": "f3nuXazokgex",
        "colab_type": "code",
        "colab": {}
      },
      "source": [
        "x=x.reshape(len(x),3,1)"
      ],
      "execution_count": 0,
      "outputs": []
    },
    {
      "cell_type": "code",
      "metadata": {
        "id": "zFmrrH0jjVFu",
        "colab_type": "code",
        "outputId": "3d7b469b-1465-4521-ab62-319bf02bc747",
        "colab": {
          "base_uri": "https://localhost:8080/",
          "height": 34
        }
      },
      "source": [
        "model = Sequential()\n",
        "model.add(LSTM(100, activation='relu',return_sequences=True, input_shape=(3, 1)))#input_shape=(n_steps, n_features)\n",
        "model.add(LSTM(100, activation='relu'))\n",
        "model.add(Dense(2))\n",
        "model.compile(optimizer='adam', loss='mse')\n",
        "model.fit(x, y, epochs=1000, verbose=0)\n",
        "b=np.array([200.0,201.0,202.0])\n",
        "b=b.reshape(1,3,1)\n",
        "model.predict(b)"
      ],
      "execution_count": 0,
      "outputs": [
        {
          "output_type": "execute_result",
          "data": {
            "text/plain": [
              "array([[205.4869 , 206.55602]], dtype=float32)"
            ]
          },
          "metadata": {
            "tags": []
          },
          "execution_count": 59
        }
      ]
    },
    {
      "cell_type": "markdown",
      "metadata": {
        "id": "kJl8YDicsCBp",
        "colab_type": "text"
      },
      "source": [
        "encoder decoder model: esp. developed for problem, where i/o is sequence. also helpful in variable output cases. "
      ]
    },
    {
      "cell_type": "markdown",
      "metadata": {
        "id": "MRrBlHPpA0q9",
        "colab_type": "text"
      },
      "source": [
        "2 sub models will be developed. 1 for reading and interoreting input which gives a fixed len output. this is passed to 2nd model. First this input is repeated no_of_step times to get used once with each step. this is passed to 2nd model, each is convetred into output_seq by 2nd model LSTM. 1st model is  encoder 2nd is decoder."
      ]
    },
    {
      "cell_type": "markdown",
      "metadata": {
        "id": "mZ87-rnwJLrK",
        "colab_type": "text"
      },
      "source": [
        "All these repeated seq, after processing from lSTm layer are processed, by using a single layer wrapped in timedistributed layer. "
      ]
    },
    {
      "cell_type": "code",
      "metadata": {
        "id": "MFHGksUEJqZv",
        "colab_type": "code",
        "outputId": "d1f8487b-9a00-4a1c-f774-df664d623174",
        "colab": {
          "base_uri": "https://localhost:8080/",
          "height": 34
        }
      },
      "source": [
        "x.shape"
      ],
      "execution_count": 0,
      "outputs": [
        {
          "output_type": "execute_result",
          "data": {
            "text/plain": [
              "(95, 3, 1)"
            ]
          },
          "metadata": {
            "tags": []
          },
          "execution_count": 60
        }
      ]
    },
    {
      "cell_type": "code",
      "metadata": {
        "id": "yjL60okxKVuV",
        "colab_type": "code",
        "colab": {}
      },
      "source": [
        "y=y.reshape(len(y),2,1)"
      ],
      "execution_count": 0,
      "outputs": []
    },
    {
      "cell_type": "code",
      "metadata": {
        "id": "bwaFLlKpkPn7",
        "colab_type": "code",
        "outputId": "b4001eb9-33ce-4877-f0a6-7989e9a8d9e5",
        "colab": {
          "base_uri": "https://localhost:8080/",
          "height": 51
        }
      },
      "source": [
        "model=Sequential()\n",
        "model.add(LSTM(100,activation='relu', input_shape=(3,1)))\n",
        "model.add(RepeatVector(2))\n",
        "model.add(LSTM(100, activation='relu', return_sequences=True))\n",
        "model.add(TimeDistributed(Dense(1)))\n",
        "model.compile(optimizer='adam', loss='mse')\n",
        "model.fit(x, y, epochs=100, verbose=0)\n",
        "b=np.array([200.0,201.0,202.0])\n",
        "b=b.reshape(1,3,1)\n",
        "model.predict(b)"
      ],
      "execution_count": 0,
      "outputs": [
        {
          "output_type": "execute_result",
          "data": {
            "text/plain": [
              "array([[[202.72725],\n",
              "        [204.03429]]], dtype=float32)"
            ]
          },
          "metadata": {
            "tags": []
          },
          "execution_count": 65
        }
      ]
    },
    {
      "cell_type": "markdown",
      "metadata": {
        "id": "mpx8I5s0N6WP",
        "colab_type": "text"
      },
      "source": [
        "multiple input multi-step output. "
      ]
    },
    {
      "cell_type": "code",
      "metadata": {
        "id": "7m56ibLwJ_8J",
        "colab_type": "code",
        "outputId": "cf692f51-edea-4cac-8e11-0c488b9c5a91",
        "colab": {
          "base_uri": "https://localhost:8080/",
          "height": 272
        }
      },
      "source": [
        "s1=np.linspace(10,109,100)#2nd type of multivariate the parallel series\n",
        "s2=np.linspace(110,209,100)\n",
        "o1=[i+j for i,j in zip(s1,s2)]\n",
        "no1=np.array(o1)\n",
        "x,y=[],[]\n",
        "s,e=3,3\n",
        "for i in range(100-s-e):\n",
        "    x2,y2=[],[]\n",
        "    for d in [s1,s2]:\n",
        "        x3=[]\n",
        "        for j in range(e):\n",
        "            x3.append(d[i+j])\n",
        "        x2.append(x3)\n",
        "    for j in range(2):\n",
        "        y2.append(o1[i+e+j-1])\n",
        "    y.append(y2)\n",
        "    x2=np.transpose(x2).reshape(e,2)\n",
        "    x.append(x2)\n",
        "x,y=np.array(x),np.array(y)\n",
        "for i in range(5):\n",
        "    print(x[i],y[i])"
      ],
      "execution_count": 0,
      "outputs": [
        {
          "output_type": "stream",
          "text": [
            "[[ 10. 110.]\n",
            " [ 11. 111.]\n",
            " [ 12. 112.]] [124. 126.]\n",
            "[[ 11. 111.]\n",
            " [ 12. 112.]\n",
            " [ 13. 113.]] [126. 128.]\n",
            "[[ 12. 112.]\n",
            " [ 13. 113.]\n",
            " [ 14. 114.]] [128. 130.]\n",
            "[[ 13. 113.]\n",
            " [ 14. 114.]\n",
            " [ 15. 115.]] [130. 132.]\n",
            "[[ 14. 114.]\n",
            " [ 15. 115.]\n",
            " [ 16. 116.]] [132. 134.]\n"
          ],
          "name": "stdout"
        }
      ]
    },
    {
      "cell_type": "code",
      "metadata": {
        "id": "wqPCjYTqScVL",
        "colab_type": "code",
        "outputId": "044c8cfb-bb8e-4881-8408-5c9099211a00",
        "colab": {
          "base_uri": "https://localhost:8080/",
          "height": 34
        }
      },
      "source": [
        "model=Sequential()\n",
        "model.add(LSTM(100,activation='relu',return_sequences=True, input_shape=(3,2)))\n",
        "model.add(LSTM(100, activation='relu'))\n",
        "model.add(Dense(2))\n",
        "model.compile(optimizer='adam', loss='mse')\n",
        "model.fit(x, y, epochs=200, verbose=0)\n",
        "b=np.array([[234.0,334.0],[235.0,335.0],[236.0,336.0]])\n",
        "b=b.reshape(1,3,2)\n",
        "model.predict(b)"
      ],
      "execution_count": 0,
      "outputs": [
        {
          "output_type": "execute_result",
          "data": {
            "text/plain": [
              "array([[537.49884, 550.0373 ]], dtype=float32)"
            ]
          },
          "metadata": {
            "tags": []
          },
          "execution_count": 70
        }
      ]
    },
    {
      "cell_type": "code",
      "metadata": {
        "id": "rPWWb93lXYef",
        "colab_type": "code",
        "outputId": "cd8556c9-196c-4252-97a6-f6f06fa893e7",
        "colab": {
          "base_uri": "https://localhost:8080/",
          "height": 357
        }
      },
      "source": [
        "s1=np.linspace(10,109,100)\n",
        "s2=np.linspace(110,209,100)\n",
        "o1=[i+j for i,j in zip(s1,s2)]\n",
        "no1=np.array(o1)\n",
        "x,y=[],[]\n",
        "s,e=3,3\n",
        "for i in range(100-s-e-2):\n",
        "    x2=[]\n",
        "    for j in range(e):\n",
        "        x3=[]\n",
        "        for d in [s1,s2,o1]:\n",
        "            x3.append(d[i+j])\n",
        "        x2.append(x3)\n",
        "    \n",
        "    y2=[]\n",
        "    for j in range(e,e+2):\n",
        "        y3=[]\n",
        "        for d in [s1,s2,o1]:\n",
        "            y3.append(d[i+j])\n",
        "        y2.append(y3)\n",
        "    \n",
        "    x.append(x2)\n",
        "    y.append(y2)\n",
        "x,y=np.array(x),np.array(y)\n",
        "for i in range(5):\n",
        "    print(x[i],y[i])"
      ],
      "execution_count": 0,
      "outputs": [
        {
          "output_type": "stream",
          "text": [
            "[[ 10. 110. 120.]\n",
            " [ 11. 111. 122.]\n",
            " [ 12. 112. 124.]] [[ 13. 113. 126.]\n",
            " [ 14. 114. 128.]]\n",
            "[[ 11. 111. 122.]\n",
            " [ 12. 112. 124.]\n",
            " [ 13. 113. 126.]] [[ 14. 114. 128.]\n",
            " [ 15. 115. 130.]]\n",
            "[[ 12. 112. 124.]\n",
            " [ 13. 113. 126.]\n",
            " [ 14. 114. 128.]] [[ 15. 115. 130.]\n",
            " [ 16. 116. 132.]]\n",
            "[[ 13. 113. 126.]\n",
            " [ 14. 114. 128.]\n",
            " [ 15. 115. 130.]] [[ 16. 116. 132.]\n",
            " [ 17. 117. 134.]]\n",
            "[[ 14. 114. 128.]\n",
            " [ 15. 115. 130.]\n",
            " [ 16. 116. 132.]] [[ 17. 117. 134.]\n",
            " [ 18. 118. 136.]]\n"
          ],
          "name": "stdout"
        }
      ]
    },
    {
      "cell_type": "code",
      "metadata": {
        "id": "c1592agvb8jm",
        "colab_type": "code",
        "outputId": "2e3c2920-b597-494e-b7b1-afebf775ed89",
        "colab": {
          "base_uri": "https://localhost:8080/",
          "height": 51
        }
      },
      "source": [
        "model=Sequential()\n",
        "model.add(LSTM(100,activation='relu', input_shape=(3,3)))\n",
        "model.add(RepeatVector(2))#no_steps_out\n",
        "model.add(LSTM(100, activation='relu',return_sequences=True))\n",
        "model.add(Dense(3))#variables in out_step\n",
        "model.compile(optimizer='adam', loss='mse')\n",
        "model.fit(x, y, epochs=200, verbose=0)\n",
        "b=np.array([[234.0,334.0,568.0],[235.0,335.0,570.0],[236.0,336.0,572.0]])\n",
        "b=b.reshape(1,3,3)\n",
        "model.predict(b)"
      ],
      "execution_count": 0,
      "outputs": [
        {
          "output_type": "execute_result",
          "data": {
            "text/plain": [
              "array([[[189.1986 , 373.82214, 569.0712 ],\n",
              "        [188.64691, 371.90997, 570.39545]]], dtype=float32)"
            ]
          },
          "metadata": {
            "tags": []
          },
          "execution_count": 76
        }
      ]
    },
    {
      "cell_type": "code",
      "metadata": {
        "id": "KytzCi6sdjU1",
        "colab_type": "code",
        "colab": {}
      },
      "source": [
        ""
      ],
      "execution_count": 0,
      "outputs": []
    }
  ]
}