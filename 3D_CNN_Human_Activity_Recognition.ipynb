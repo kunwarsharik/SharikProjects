{
  "nbformat": 4,
  "nbformat_minor": 0,
  "metadata": {
    "colab": {
      "name": "3D CNN Human Activity Recognition.ipynb",
      "provenance": [],
      "collapsed_sections": [],
      "include_colab_link": true
    },
    "kernelspec": {
      "name": "python3",
      "display_name": "Python 3"
    },
    "accelerator": "GPU"
  },
  "cells": [
    {
      "cell_type": "markdown",
      "metadata": {
        "id": "view-in-github",
        "colab_type": "text"
      },
      "source": [
        "<a href=\"https://colab.research.google.com/github/kunwarsharik/SharikProjects/blob/master/3D_CNN_Human_Activity_Recognition.ipynb\" target=\"_parent\"><img src=\"https://colab.research.google.com/assets/colab-badge.svg\" alt=\"Open In Colab\"/></a>"
      ]
    },
    {
      "cell_type": "code",
      "metadata": {
        "id": "2fyThaqdz02B",
        "colab_type": "code",
        "colab": {}
      },
      "source": [
        "!wget http://www.nada.kth.se/cvap/actions/walking.zip\n",
        "!wget http://www.nada.kth.se/cvap/actions/jogging.zip\n",
        "!wget http://www.nada.kth.se/cvap/actions/running.zip\n",
        "!wget http://www.nada.kth.se/cvap/actions/boxing.zip\n",
        "!wget http://www.nada.kth.se/cvap/actions/handwaving.zip\n",
        "!wget http://www.nada.kth.se/cvap/actions/handclapping.zip"
      ],
      "execution_count": 0,
      "outputs": []
    },
    {
      "cell_type": "code",
      "metadata": {
        "id": "tkmPjHyI0MI_",
        "colab_type": "code",
        "outputId": "ff891fd0-1682-4b89-92be-bf103e0c2109",
        "colab": {
          "base_uri": "https://localhost:8080/",
          "height": 52
        }
      },
      "source": [
        "ls"
      ],
      "execution_count": 0,
      "outputs": [
        {
          "output_type": "stream",
          "text": [
            "boxing.zip        handwaving.zip  running.zip   walking.zip\n",
            "handclapping.zip  jogging.zip     \u001b[0m\u001b[01;34msample_data\u001b[0m/\n"
          ],
          "name": "stdout"
        }
      ]
    },
    {
      "cell_type": "code",
      "metadata": {
        "id": "bmO-3rmL30VP",
        "colab_type": "code",
        "outputId": "40a34b77-13dc-4ece-e1b4-72f225a0edc3",
        "colab": {
          "base_uri": "https://localhost:8080/",
          "height": 10665
        }
      },
      "source": [
        "!unzip walking.zip\n",
        "!unzip jogging.zip\n",
        "!unzip running.zip\n",
        "!unzip boxing.zip\n",
        "!unzip handwaving.zip\n",
        "!unzip handclapping.zip"
      ],
      "execution_count": 0,
      "outputs": [
        {
          "output_type": "stream",
          "text": [
            "Archive:  walking.zip\n",
            "  inflating: person01_walking_d1_uncomp.avi  \n",
            "  inflating: person01_walking_d2_uncomp.avi  \n",
            "  inflating: person01_walking_d3_uncomp.avi  \n",
            "  inflating: person01_walking_d4_uncomp.avi  \n",
            "  inflating: person02_walking_d1_uncomp.avi  \n",
            "  inflating: person02_walking_d2_uncomp.avi  \n",
            "  inflating: person02_walking_d3_uncomp.avi  \n",
            "  inflating: person02_walking_d4_uncomp.avi  \n",
            "  inflating: person03_walking_d1_uncomp.avi  \n",
            "  inflating: person03_walking_d2_uncomp.avi  \n",
            "  inflating: person03_walking_d3_uncomp.avi  \n",
            "  inflating: person03_walking_d4_uncomp.avi  \n",
            "  inflating: person04_walking_d1_uncomp.avi  \n",
            "  inflating: person04_walking_d2_uncomp.avi  \n",
            "  inflating: person04_walking_d3_uncomp.avi  \n",
            "  inflating: person04_walking_d4_uncomp.avi  \n",
            "  inflating: person05_walking_d1_uncomp.avi  \n",
            "  inflating: person05_walking_d2_uncomp.avi  \n",
            "  inflating: person05_walking_d3_uncomp.avi  \n",
            "  inflating: person05_walking_d4_uncomp.avi  \n",
            "  inflating: person06_walking_d1_uncomp.avi  \n",
            "  inflating: person06_walking_d2_uncomp.avi  \n",
            "  inflating: person06_walking_d3_uncomp.avi  \n",
            "  inflating: person06_walking_d4_uncomp.avi  \n",
            "  inflating: person07_walking_d1_uncomp.avi  \n",
            "  inflating: person07_walking_d2_uncomp.avi  \n",
            "  inflating: person07_walking_d3_uncomp.avi  \n",
            "  inflating: person07_walking_d4_uncomp.avi  \n",
            "  inflating: person08_walking_d1_uncomp.avi  \n",
            "  inflating: person08_walking_d2_uncomp.avi  \n",
            "  inflating: person08_walking_d3_uncomp.avi  \n",
            "  inflating: person08_walking_d4_uncomp.avi  \n",
            "  inflating: person09_walking_d1_uncomp.avi  \n",
            "  inflating: person09_walking_d2_uncomp.avi  \n",
            "  inflating: person09_walking_d3_uncomp.avi  \n",
            "  inflating: person09_walking_d4_uncomp.avi  \n",
            "  inflating: person10_walking_d1_uncomp.avi  \n",
            "  inflating: person10_walking_d2_uncomp.avi  \n",
            "  inflating: person10_walking_d3_uncomp.avi  \n",
            "  inflating: person10_walking_d4_uncomp.avi  \n",
            "  inflating: person11_walking_d1_uncomp.avi  \n",
            "  inflating: person11_walking_d2_uncomp.avi  \n",
            "  inflating: person11_walking_d3_uncomp.avi  \n",
            "  inflating: person11_walking_d4_uncomp.avi  \n",
            "  inflating: person12_walking_d1_uncomp.avi  \n",
            "  inflating: person12_walking_d2_uncomp.avi  \n",
            "  inflating: person12_walking_d3_uncomp.avi  \n",
            "  inflating: person12_walking_d4_uncomp.avi  \n",
            "  inflating: person13_walking_d1_uncomp.avi  \n",
            "  inflating: person13_walking_d2_uncomp.avi  \n",
            "  inflating: person13_walking_d3_uncomp.avi  \n",
            "  inflating: person13_walking_d4_uncomp.avi  \n",
            "  inflating: person14_walking_d1_uncomp.avi  \n",
            "  inflating: person14_walking_d2_uncomp.avi  \n",
            "  inflating: person14_walking_d3_uncomp.avi  \n",
            "  inflating: person14_walking_d4_uncomp.avi  \n",
            "  inflating: person15_walking_d1_uncomp.avi  \n",
            "  inflating: person15_walking_d2_uncomp.avi  \n",
            "  inflating: person15_walking_d3_uncomp.avi  \n",
            "  inflating: person15_walking_d4_uncomp.avi  \n",
            "  inflating: person16_walking_d1_uncomp.avi  \n",
            "  inflating: person16_walking_d2_uncomp.avi  \n",
            "  inflating: person16_walking_d3_uncomp.avi  \n",
            "  inflating: person16_walking_d4_uncomp.avi  \n",
            "  inflating: person17_walking_d1_uncomp.avi  \n",
            "  inflating: person17_walking_d2_uncomp.avi  \n",
            "  inflating: person17_walking_d3_uncomp.avi  \n",
            "  inflating: person17_walking_d4_uncomp.avi  \n",
            "  inflating: person18_walking_d1_uncomp.avi  \n",
            "  inflating: person18_walking_d2_uncomp.avi  \n",
            "  inflating: person18_walking_d3_uncomp.avi  \n",
            "  inflating: person18_walking_d4_uncomp.avi  \n",
            "  inflating: person19_walking_d1_uncomp.avi  \n",
            "  inflating: person19_walking_d2_uncomp.avi  \n",
            "  inflating: person19_walking_d3_uncomp.avi  \n",
            "  inflating: person19_walking_d4_uncomp.avi  \n",
            "  inflating: person20_walking_d1_uncomp.avi  \n",
            "  inflating: person20_walking_d2_uncomp.avi  \n",
            "  inflating: person20_walking_d3_uncomp.avi  \n",
            "  inflating: person20_walking_d4_uncomp.avi  \n",
            "  inflating: person21_walking_d1_uncomp.avi  \n",
            "  inflating: person21_walking_d2_uncomp.avi  \n",
            "  inflating: person21_walking_d3_uncomp.avi  \n",
            "  inflating: person21_walking_d4_uncomp.avi  \n",
            "  inflating: person22_walking_d1_uncomp.avi  \n",
            "  inflating: person22_walking_d2_uncomp.avi  \n",
            "  inflating: person22_walking_d3_uncomp.avi  \n",
            "  inflating: person22_walking_d4_uncomp.avi  \n",
            "  inflating: person23_walking_d1_uncomp.avi  \n",
            "  inflating: person23_walking_d2_uncomp.avi  \n",
            "  inflating: person23_walking_d3_uncomp.avi  \n",
            "  inflating: person23_walking_d4_uncomp.avi  \n",
            "  inflating: person24_walking_d1_uncomp.avi  \n",
            "  inflating: person24_walking_d2_uncomp.avi  \n",
            "  inflating: person24_walking_d3_uncomp.avi  \n",
            "  inflating: person24_walking_d4_uncomp.avi  \n",
            "  inflating: person25_walking_d1_uncomp.avi  \n",
            "  inflating: person25_walking_d2_uncomp.avi  \n",
            "  inflating: person25_walking_d3_uncomp.avi  \n",
            "  inflating: person25_walking_d4_uncomp.avi  \n",
            "Archive:  jogging.zip\n",
            "  inflating: person01_jogging_d1_uncomp.avi  \n",
            "  inflating: person01_jogging_d2_uncomp.avi  \n",
            "  inflating: person01_jogging_d3_uncomp.avi  \n",
            "  inflating: person01_jogging_d4_uncomp.avi  \n",
            "  inflating: person02_jogging_d1_uncomp.avi  \n",
            "  inflating: person02_jogging_d2_uncomp.avi  \n",
            "  inflating: person02_jogging_d3_uncomp.avi  \n",
            "  inflating: person02_jogging_d4_uncomp.avi  \n",
            "  inflating: person03_jogging_d1_uncomp.avi  \n",
            "  inflating: person03_jogging_d2_uncomp.avi  \n",
            "  inflating: person03_jogging_d3_uncomp.avi  \n",
            "  inflating: person03_jogging_d4_uncomp.avi  \n",
            "  inflating: person04_jogging_d1_uncomp.avi  \n",
            "  inflating: person04_jogging_d2_uncomp.avi  \n",
            "  inflating: person04_jogging_d3_uncomp.avi  \n",
            "  inflating: person04_jogging_d4_uncomp.avi  \n",
            "  inflating: person05_jogging_d1_uncomp.avi  \n",
            "  inflating: person05_jogging_d2_uncomp.avi  \n",
            "  inflating: person05_jogging_d3_uncomp.avi  \n",
            "  inflating: person05_jogging_d4_uncomp.avi  \n",
            "  inflating: person06_jogging_d1_uncomp.avi  \n",
            "  inflating: person06_jogging_d2_uncomp.avi  \n",
            "  inflating: person06_jogging_d3_uncomp.avi  \n",
            "  inflating: person06_jogging_d4_uncomp.avi  \n",
            "  inflating: person07_jogging_d1_uncomp.avi  \n",
            "  inflating: person07_jogging_d2_uncomp.avi  \n",
            "  inflating: person07_jogging_d3_uncomp.avi  \n",
            "  inflating: person07_jogging_d4_uncomp.avi  \n",
            "  inflating: person08_jogging_d1_uncomp.avi  \n",
            "  inflating: person08_jogging_d2_uncomp.avi  \n",
            "  inflating: person08_jogging_d3_uncomp.avi  \n",
            "  inflating: person08_jogging_d4_uncomp.avi  \n",
            "  inflating: person09_jogging_d1_uncomp.avi  \n",
            "  inflating: person09_jogging_d2_uncomp.avi  \n",
            "  inflating: person09_jogging_d3_uncomp.avi  \n",
            "  inflating: person09_jogging_d4_uncomp.avi  \n",
            "  inflating: person10_jogging_d1_uncomp.avi  \n",
            "  inflating: person10_jogging_d2_uncomp.avi  \n",
            "  inflating: person10_jogging_d3_uncomp.avi  \n",
            "  inflating: person10_jogging_d4_uncomp.avi  \n",
            "  inflating: person11_jogging_d1_uncomp.avi  \n",
            "  inflating: person11_jogging_d2_uncomp.avi  \n",
            "  inflating: person11_jogging_d3_uncomp.avi  \n",
            "  inflating: person11_jogging_d4_uncomp.avi  \n",
            "  inflating: person12_jogging_d1_uncomp.avi  \n",
            "  inflating: person12_jogging_d2_uncomp.avi  \n",
            "  inflating: person12_jogging_d3_uncomp.avi  \n",
            "  inflating: person12_jogging_d4_uncomp.avi  \n",
            "  inflating: person13_jogging_d1_uncomp.avi  \n",
            "  inflating: person13_jogging_d2_uncomp.avi  \n",
            "  inflating: person13_jogging_d3_uncomp.avi  \n",
            "  inflating: person13_jogging_d4_uncomp.avi  \n",
            "  inflating: person14_jogging_d1_uncomp.avi  \n",
            "  inflating: person14_jogging_d2_uncomp.avi  \n",
            "  inflating: person14_jogging_d3_uncomp.avi  \n",
            "  inflating: person14_jogging_d4_uncomp.avi  \n",
            "  inflating: person15_jogging_d1_uncomp.avi  \n",
            "  inflating: person15_jogging_d2_uncomp.avi  \n",
            "  inflating: person15_jogging_d3_uncomp.avi  \n",
            "  inflating: person15_jogging_d4_uncomp.avi  \n",
            "  inflating: person16_jogging_d1_uncomp.avi  \n",
            "  inflating: person16_jogging_d2_uncomp.avi  \n",
            "  inflating: person16_jogging_d3_uncomp.avi  \n",
            "  inflating: person16_jogging_d4_uncomp.avi  \n",
            "  inflating: person17_jogging_d1_uncomp.avi  \n",
            "  inflating: person17_jogging_d2_uncomp.avi  \n",
            "  inflating: person17_jogging_d3_uncomp.avi  \n",
            "  inflating: person17_jogging_d4_uncomp.avi  \n",
            "  inflating: person18_jogging_d1_uncomp.avi  \n",
            "  inflating: person18_jogging_d2_uncomp.avi  \n",
            "  inflating: person18_jogging_d3_uncomp.avi  \n",
            "  inflating: person18_jogging_d4_uncomp.avi  \n",
            "  inflating: person19_jogging_d1_uncomp.avi  \n",
            "  inflating: person19_jogging_d2_uncomp.avi  \n",
            "  inflating: person19_jogging_d3_uncomp.avi  \n",
            "  inflating: person19_jogging_d4_uncomp.avi  \n",
            "  inflating: person20_jogging_d1_uncomp.avi  \n",
            "  inflating: person20_jogging_d2_uncomp.avi  \n",
            "  inflating: person20_jogging_d3_uncomp.avi  \n",
            "  inflating: person20_jogging_d4_uncomp.avi  \n",
            "  inflating: person21_jogging_d1_uncomp.avi  \n",
            "  inflating: person21_jogging_d2_uncomp.avi  \n",
            "  inflating: person21_jogging_d3_uncomp.avi  \n",
            "  inflating: person21_jogging_d4_uncomp.avi  \n",
            "  inflating: person22_jogging_d1_uncomp.avi  \n",
            "  inflating: person22_jogging_d2_uncomp.avi  \n",
            "  inflating: person22_jogging_d3_uncomp.avi  \n",
            "  inflating: person22_jogging_d4_uncomp.avi  \n",
            "  inflating: person23_jogging_d1_uncomp.avi  \n",
            "  inflating: person23_jogging_d2_uncomp.avi  \n",
            "  inflating: person23_jogging_d3_uncomp.avi  \n",
            "  inflating: person23_jogging_d4_uncomp.avi  \n",
            "  inflating: person24_jogging_d1_uncomp.avi  \n",
            "  inflating: person24_jogging_d2_uncomp.avi  \n",
            "  inflating: person24_jogging_d3_uncomp.avi  \n",
            "  inflating: person24_jogging_d4_uncomp.avi  \n",
            "  inflating: person25_jogging_d1_uncomp.avi  \n",
            "  inflating: person25_jogging_d2_uncomp.avi  \n",
            "  inflating: person25_jogging_d3_uncomp.avi  \n",
            "  inflating: person25_jogging_d4_uncomp.avi  \n",
            "Archive:  running.zip\n",
            "  inflating: person01_running_d1_uncomp.avi  \n",
            "  inflating: person01_running_d2_uncomp.avi  \n",
            "  inflating: person01_running_d3_uncomp.avi  \n",
            "  inflating: person01_running_d4_uncomp.avi  \n",
            "  inflating: person02_running_d1_uncomp.avi  \n",
            "  inflating: person02_running_d2_uncomp.avi  \n",
            "  inflating: person02_running_d3_uncomp.avi  \n",
            "  inflating: person02_running_d4_uncomp.avi  \n",
            "  inflating: person03_running_d1_uncomp.avi  \n",
            "  inflating: person03_running_d2_uncomp.avi  \n",
            "  inflating: person03_running_d3_uncomp.avi  \n",
            "  inflating: person03_running_d4_uncomp.avi  \n",
            "  inflating: person04_running_d1_uncomp.avi  \n",
            "  inflating: person04_running_d2_uncomp.avi  \n",
            "  inflating: person04_running_d3_uncomp.avi  \n",
            "  inflating: person04_running_d4_uncomp.avi  \n",
            "  inflating: person05_running_d1_uncomp.avi  \n",
            "  inflating: person05_running_d2_uncomp.avi  \n",
            "  inflating: person05_running_d3_uncomp.avi  \n",
            "  inflating: person05_running_d4_uncomp.avi  \n",
            "  inflating: person06_running_d1_uncomp.avi  \n",
            "  inflating: person06_running_d2_uncomp.avi  \n",
            "  inflating: person06_running_d3_uncomp.avi  \n",
            "  inflating: person06_running_d4_uncomp.avi  \n",
            "  inflating: person07_running_d1_uncomp.avi  \n",
            "  inflating: person07_running_d2_uncomp.avi  \n",
            "  inflating: person07_running_d3_uncomp.avi  \n",
            "  inflating: person07_running_d4_uncomp.avi  \n",
            "  inflating: person08_running_d1_uncomp.avi  \n",
            "  inflating: person08_running_d2_uncomp.avi  \n",
            "  inflating: person08_running_d3_uncomp.avi  \n",
            "  inflating: person08_running_d4_uncomp.avi  \n",
            "  inflating: person09_running_d1_uncomp.avi  \n",
            "  inflating: person09_running_d2_uncomp.avi  \n",
            "  inflating: person09_running_d3_uncomp.avi  \n",
            "  inflating: person09_running_d4_uncomp.avi  \n",
            "  inflating: person10_running_d1_uncomp.avi  \n",
            "  inflating: person10_running_d2_uncomp.avi  \n",
            "  inflating: person10_running_d3_uncomp.avi  \n",
            "  inflating: person10_running_d4_uncomp.avi  \n",
            "  inflating: person11_running_d1_uncomp.avi  \n",
            "  inflating: person11_running_d2_uncomp.avi  \n",
            "  inflating: person11_running_d3_uncomp.avi  \n",
            "  inflating: person11_running_d4_uncomp.avi  \n",
            "  inflating: person12_running_d1_uncomp.avi  \n",
            "  inflating: person12_running_d2_uncomp.avi  \n",
            "  inflating: person12_running_d3_uncomp.avi  \n",
            "  inflating: person12_running_d4_uncomp.avi  \n",
            "  inflating: person13_running_d1_uncomp.avi  \n",
            "  inflating: person13_running_d2_uncomp.avi  \n",
            "  inflating: person13_running_d3_uncomp.avi  \n",
            "  inflating: person13_running_d4_uncomp.avi  \n",
            "  inflating: person14_running_d1_uncomp.avi  \n",
            "  inflating: person14_running_d2_uncomp.avi  \n",
            "  inflating: person14_running_d3_uncomp.avi  \n",
            "  inflating: person14_running_d4_uncomp.avi  \n",
            "  inflating: person15_running_d1_uncomp.avi  \n",
            "  inflating: person15_running_d2_uncomp.avi  \n",
            "  inflating: person15_running_d3_uncomp.avi  \n",
            "  inflating: person15_running_d4_uncomp.avi  \n",
            "  inflating: person16_running_d1_uncomp.avi  \n",
            "  inflating: person16_running_d2_uncomp.avi  \n",
            "  inflating: person16_running_d3_uncomp.avi  \n",
            "  inflating: person16_running_d4_uncomp.avi  \n",
            "  inflating: person17_running_d1_uncomp.avi  \n",
            "  inflating: person17_running_d2_uncomp.avi  \n",
            "  inflating: person17_running_d3_uncomp.avi  \n",
            "  inflating: person17_running_d4_uncomp.avi  \n",
            "  inflating: person18_running_d1_uncomp.avi  \n",
            "  inflating: person18_running_d2_uncomp.avi  \n",
            "  inflating: person18_running_d3_uncomp.avi  \n",
            "  inflating: person18_running_d4_uncomp.avi  \n",
            "  inflating: person19_running_d1_uncomp.avi  \n",
            "  inflating: person19_running_d2_uncomp.avi  \n",
            "  inflating: person19_running_d3_uncomp.avi  \n",
            "  inflating: person19_running_d4_uncomp.avi  \n",
            "  inflating: person20_running_d1_uncomp.avi  \n",
            "  inflating: person20_running_d2_uncomp.avi  \n",
            "  inflating: person20_running_d3_uncomp.avi  \n",
            "  inflating: person20_running_d4_uncomp.avi  \n",
            "  inflating: person21_running_d1_uncomp.avi  \n",
            "  inflating: person21_running_d2_uncomp.avi  \n",
            "  inflating: person21_running_d3_uncomp.avi  \n",
            "  inflating: person21_running_d4_uncomp.avi  \n",
            "  inflating: person22_running_d1_uncomp.avi  \n",
            "  inflating: person22_running_d2_uncomp.avi  \n",
            "  inflating: person22_running_d3_uncomp.avi  \n",
            "  inflating: person22_running_d4_uncomp.avi  \n",
            "  inflating: person23_running_d1_uncomp.avi  \n",
            "  inflating: person23_running_d2_uncomp.avi  \n",
            "  inflating: person23_running_d3_uncomp.avi  \n",
            "  inflating: person23_running_d4_uncomp.avi  \n",
            "  inflating: person24_running_d1_uncomp.avi  \n",
            "  inflating: person24_running_d2_uncomp.avi  \n",
            "  inflating: person24_running_d3_uncomp.avi  \n",
            "  inflating: person24_running_d4_uncomp.avi  \n",
            "  inflating: person25_running_d1_uncomp.avi  \n",
            "  inflating: person25_running_d2_uncomp.avi  \n",
            "  inflating: person25_running_d3_uncomp.avi  \n",
            "  inflating: person25_running_d4_uncomp.avi  \n",
            "Archive:  boxing.zip\n",
            "  inflating: person01_boxing_d1_uncomp.avi  \n",
            "  inflating: person01_boxing_d2_uncomp.avi  \n",
            "  inflating: person01_boxing_d3_uncomp.avi  \n",
            "  inflating: person01_boxing_d4_uncomp.avi  \n",
            "  inflating: person02_boxing_d1_uncomp.avi  \n",
            "  inflating: person02_boxing_d2_uncomp.avi  \n",
            "  inflating: person02_boxing_d3_uncomp.avi  \n",
            "  inflating: person02_boxing_d4_uncomp.avi  \n",
            "  inflating: person03_boxing_d1_uncomp.avi  \n",
            "  inflating: person03_boxing_d2_uncomp.avi  \n",
            "  inflating: person03_boxing_d3_uncomp.avi  \n",
            "  inflating: person03_boxing_d4_uncomp.avi  \n",
            "  inflating: person04_boxing_d1_uncomp.avi  \n",
            "  inflating: person04_boxing_d2_uncomp.avi  \n",
            "  inflating: person04_boxing_d3_uncomp.avi  \n",
            "  inflating: person04_boxing_d4_uncomp.avi  \n",
            "  inflating: person05_boxing_d1_uncomp.avi  \n",
            "  inflating: person05_boxing_d2_uncomp.avi  \n",
            "  inflating: person05_boxing_d3_uncomp.avi  \n",
            "  inflating: person05_boxing_d4_uncomp.avi  \n",
            "  inflating: person06_boxing_d1_uncomp.avi  \n",
            "  inflating: person06_boxing_d2_uncomp.avi  \n",
            "  inflating: person06_boxing_d3_uncomp.avi  \n",
            "  inflating: person06_boxing_d4_uncomp.avi  \n",
            "  inflating: person07_boxing_d1_uncomp.avi  \n",
            "  inflating: person07_boxing_d2_uncomp.avi  \n",
            "  inflating: person07_boxing_d3_uncomp.avi  \n",
            "  inflating: person07_boxing_d4_uncomp.avi  \n",
            "  inflating: person08_boxing_d1_uncomp.avi  \n",
            "  inflating: person08_boxing_d2_uncomp.avi  \n",
            "  inflating: person08_boxing_d3_uncomp.avi  \n",
            "  inflating: person08_boxing_d4_uncomp.avi  \n",
            "  inflating: person09_boxing_d1_uncomp.avi  \n",
            "  inflating: person09_boxing_d2_uncomp.avi  \n",
            "  inflating: person09_boxing_d3_uncomp.avi  \n",
            "  inflating: person09_boxing_d4_uncomp.avi  \n",
            "  inflating: person10_boxing_d1_uncomp.avi  \n",
            "  inflating: person10_boxing_d2_uncomp.avi  \n",
            "  inflating: person10_boxing_d3_uncomp.avi  \n",
            "  inflating: person10_boxing_d4_uncomp.avi  \n",
            "  inflating: person11_boxing_d1_uncomp.avi  \n",
            "  inflating: person11_boxing_d2_uncomp.avi  \n",
            "  inflating: person11_boxing_d3_uncomp.avi  \n",
            "  inflating: person11_boxing_d4_uncomp.avi  \n",
            "  inflating: person12_boxing_d1_uncomp.avi  \n",
            "  inflating: person12_boxing_d2_uncomp.avi  \n",
            "  inflating: person12_boxing_d3_uncomp.avi  \n",
            "  inflating: person12_boxing_d4_uncomp.avi  \n",
            "  inflating: person13_boxing_d1_uncomp.avi  \n",
            "  inflating: person13_boxing_d2_uncomp.avi  \n",
            "  inflating: person13_boxing_d3_uncomp.avi  \n",
            "  inflating: person13_boxing_d4_uncomp.avi  \n",
            "  inflating: person14_boxing_d1_uncomp.avi  \n",
            "  inflating: person14_boxing_d2_uncomp.avi  \n",
            "  inflating: person14_boxing_d3_uncomp.avi  \n",
            "  inflating: person14_boxing_d4_uncomp.avi  \n",
            "  inflating: person15_boxing_d1_uncomp.avi  \n",
            "  inflating: person15_boxing_d2_uncomp.avi  \n",
            "  inflating: person15_boxing_d3_uncomp.avi  \n",
            "  inflating: person15_boxing_d4_uncomp.avi  \n",
            "  inflating: person16_boxing_d1_uncomp.avi  \n",
            "  inflating: person16_boxing_d2_uncomp.avi  \n",
            "  inflating: person16_boxing_d3_uncomp.avi  \n",
            "  inflating: person16_boxing_d4_uncomp.avi  \n",
            "  inflating: person17_boxing_d1_uncomp.avi  \n",
            "  inflating: person17_boxing_d2_uncomp.avi  \n",
            "  inflating: person17_boxing_d3_uncomp.avi  \n",
            "  inflating: person17_boxing_d4_uncomp.avi  \n",
            "  inflating: person18_boxing_d1_uncomp.avi  \n",
            "  inflating: person18_boxing_d2_uncomp.avi  \n",
            "  inflating: person18_boxing_d3_uncomp.avi  \n",
            "  inflating: person18_boxing_d4_uncomp.avi  \n",
            "  inflating: person19_boxing_d1_uncomp.avi  \n",
            "  inflating: person19_boxing_d2_uncomp.avi  \n",
            "  inflating: person19_boxing_d3_uncomp.avi  \n",
            "  inflating: person19_boxing_d4_uncomp.avi  \n",
            "  inflating: person20_boxing_d1_uncomp.avi  \n",
            "  inflating: person20_boxing_d2_uncomp.avi  \n",
            "  inflating: person20_boxing_d3_uncomp.avi  \n",
            "  inflating: person20_boxing_d4_uncomp.avi  \n",
            "  inflating: person21_boxing_d1_uncomp.avi  \n",
            "  inflating: person21_boxing_d2_uncomp.avi  \n",
            "  inflating: person21_boxing_d3_uncomp.avi  \n",
            "  inflating: person21_boxing_d4_uncomp.avi  \n",
            "  inflating: person22_boxing_d1_uncomp.avi  \n",
            "  inflating: person22_boxing_d2_uncomp.avi  \n",
            "  inflating: person22_boxing_d3_uncomp.avi  \n",
            "  inflating: person22_boxing_d4_uncomp.avi  \n",
            "  inflating: person23_boxing_d1_uncomp.avi  \n",
            "  inflating: person23_boxing_d2_uncomp.avi  \n",
            "  inflating: person23_boxing_d3_uncomp.avi  \n",
            "  inflating: person23_boxing_d4_uncomp.avi  \n",
            "  inflating: person24_boxing_d1_uncomp.avi  \n",
            "  inflating: person24_boxing_d2_uncomp.avi  \n",
            "  inflating: person24_boxing_d3_uncomp.avi  \n",
            "  inflating: person24_boxing_d4_uncomp.avi  \n",
            "  inflating: person25_boxing_d1_uncomp.avi  \n",
            "  inflating: person25_boxing_d2_uncomp.avi  \n",
            "  inflating: person25_boxing_d3_uncomp.avi  \n",
            "  inflating: person25_boxing_d4_uncomp.avi  \n",
            "Archive:  handwaving.zip\n",
            "  inflating: person01_handwaving_d1_uncomp.avi  \n",
            "  inflating: person01_handwaving_d2_uncomp.avi  \n",
            "  inflating: person01_handwaving_d3_uncomp.avi  \n",
            "  inflating: person01_handwaving_d4_uncomp.avi  \n",
            "  inflating: person02_handwaving_d1_uncomp.avi  \n",
            "  inflating: person02_handwaving_d2_uncomp.avi  \n",
            "  inflating: person02_handwaving_d3_uncomp.avi  \n",
            "  inflating: person02_handwaving_d4_uncomp.avi  \n",
            "  inflating: person03_handwaving_d1_uncomp.avi  \n",
            "  inflating: person03_handwaving_d2_uncomp.avi  \n",
            "  inflating: person03_handwaving_d3_uncomp.avi  \n",
            "  inflating: person03_handwaving_d4_uncomp.avi  \n",
            "  inflating: person04_handwaving_d1_uncomp.avi  \n",
            "  inflating: person04_handwaving_d2_uncomp.avi  \n",
            "  inflating: person04_handwaving_d3_uncomp.avi  \n",
            "  inflating: person04_handwaving_d4_uncomp.avi  \n",
            "  inflating: person05_handwaving_d1_uncomp.avi  \n",
            "  inflating: person05_handwaving_d2_uncomp.avi  \n",
            "  inflating: person05_handwaving_d3_uncomp.avi  \n",
            "  inflating: person05_handwaving_d4_uncomp.avi  \n",
            "  inflating: person06_handwaving_d1_uncomp.avi  \n",
            "  inflating: person06_handwaving_d2_uncomp.avi  \n",
            "  inflating: person06_handwaving_d3_uncomp.avi  \n",
            "  inflating: person06_handwaving_d4_uncomp.avi  \n",
            "  inflating: person07_handwaving_d1_uncomp.avi  \n",
            "  inflating: person07_handwaving_d2_uncomp.avi  \n",
            "  inflating: person07_handwaving_d3_uncomp.avi  \n",
            "  inflating: person07_handwaving_d4_uncomp.avi  \n",
            "  inflating: person08_handwaving_d1_uncomp.avi  \n",
            "  inflating: person08_handwaving_d2_uncomp.avi  \n",
            "  inflating: person08_handwaving_d3_uncomp.avi  \n",
            "  inflating: person08_handwaving_d4_uncomp.avi  \n",
            "  inflating: person09_handwaving_d1_uncomp.avi  \n",
            "  inflating: person09_handwaving_d2_uncomp.avi  \n",
            "  inflating: person09_handwaving_d3_uncomp.avi  \n",
            "  inflating: person09_handwaving_d4_uncomp.avi  \n",
            "  inflating: person10_handwaving_d1_uncomp.avi  \n",
            "  inflating: person10_handwaving_d2_uncomp.avi  \n",
            "  inflating: person10_handwaving_d3_uncomp.avi  \n",
            "  inflating: person10_handwaving_d4_uncomp.avi  \n",
            "  inflating: person11_handwaving_d1_uncomp.avi  \n",
            "  inflating: person11_handwaving_d2_uncomp.avi  \n",
            "  inflating: person11_handwaving_d3_uncomp.avi  \n",
            "  inflating: person11_handwaving_d4_uncomp.avi  \n",
            "  inflating: person12_handwaving_d1_uncomp.avi  \n",
            "  inflating: person12_handwaving_d2_uncomp.avi  \n",
            "  inflating: person12_handwaving_d3_uncomp.avi  \n",
            "  inflating: person12_handwaving_d4_uncomp.avi  \n",
            "  inflating: person13_handwaving_d1_uncomp.avi  \n",
            "  inflating: person13_handwaving_d2_uncomp.avi  \n",
            "  inflating: person13_handwaving_d3_uncomp.avi  \n",
            "  inflating: person13_handwaving_d4_uncomp.avi  \n",
            "  inflating: person14_handwaving_d1_uncomp.avi  \n",
            "  inflating: person14_handwaving_d2_uncomp.avi  \n",
            "  inflating: person14_handwaving_d3_uncomp.avi  \n",
            "  inflating: person14_handwaving_d4_uncomp.avi  \n",
            "  inflating: person15_handwaving_d1_uncomp.avi  \n",
            "  inflating: person15_handwaving_d2_uncomp.avi  \n",
            "  inflating: person15_handwaving_d3_uncomp.avi  \n",
            "  inflating: person15_handwaving_d4_uncomp.avi  \n",
            "  inflating: person16_handwaving_d1_uncomp.avi  \n",
            "  inflating: person16_handwaving_d2_uncomp.avi  \n",
            "  inflating: person16_handwaving_d3_uncomp.avi  \n",
            "  inflating: person16_handwaving_d4_uncomp.avi  \n",
            "  inflating: person17_handwaving_d1_uncomp.avi  \n",
            "  inflating: person17_handwaving_d2_uncomp.avi  \n",
            "  inflating: person17_handwaving_d3_uncomp.avi  \n",
            "  inflating: person17_handwaving_d4_uncomp.avi  \n",
            "  inflating: person18_handwaving_d1_uncomp.avi  \n",
            "  inflating: person18_handwaving_d2_uncomp.avi  \n",
            "  inflating: person18_handwaving_d3_uncomp.avi  \n",
            "  inflating: person18_handwaving_d4_uncomp.avi  \n",
            "  inflating: person19_handwaving_d1_uncomp.avi  \n",
            "  inflating: person19_handwaving_d2_uncomp.avi  \n",
            "  inflating: person19_handwaving_d3_uncomp.avi  \n",
            "  inflating: person19_handwaving_d4_uncomp.avi  \n",
            "  inflating: person20_handwaving_d1_uncomp.avi  \n",
            "  inflating: person20_handwaving_d2_uncomp.avi  \n",
            "  inflating: person20_handwaving_d3_uncomp.avi  \n",
            "  inflating: person20_handwaving_d4_uncomp.avi  \n",
            "  inflating: person21_handwaving_d1_uncomp.avi  \n",
            "  inflating: person21_handwaving_d2_uncomp.avi  \n",
            "  inflating: person21_handwaving_d3_uncomp.avi  \n",
            "  inflating: person21_handwaving_d4_uncomp.avi  \n",
            "  inflating: person22_handwaving_d1_uncomp.avi  \n",
            "  inflating: person22_handwaving_d2_uncomp.avi  \n",
            "  inflating: person22_handwaving_d3_uncomp.avi  \n",
            "  inflating: person22_handwaving_d4_uncomp.avi  \n",
            "  inflating: person23_handwaving_d1_uncomp.avi  \n",
            "  inflating: person23_handwaving_d2_uncomp.avi  \n",
            "  inflating: person23_handwaving_d3_uncomp.avi  \n",
            "  inflating: person23_handwaving_d4_uncomp.avi  \n",
            "  inflating: person24_handwaving_d1_uncomp.avi  \n",
            "  inflating: person24_handwaving_d2_uncomp.avi  \n",
            "  inflating: person24_handwaving_d3_uncomp.avi  \n",
            "  inflating: person24_handwaving_d4_uncomp.avi  \n",
            "  inflating: person25_handwaving_d1_uncomp.avi  \n",
            "  inflating: person25_handwaving_d2_uncomp.avi  \n",
            "  inflating: person25_handwaving_d3_uncomp.avi  \n",
            "  inflating: person25_handwaving_d4_uncomp.avi  \n",
            "Archive:  handclapping.zip\n",
            "  inflating: person01_handclapping_d1_uncomp.avi  \n",
            "  inflating: person01_handclapping_d2_uncomp.avi  \n",
            "  inflating: person01_handclapping_d3_uncomp.avi  \n",
            "  inflating: person01_handclapping_d4_uncomp.avi  \n",
            "  inflating: person02_handclapping_d1_uncomp.avi  \n",
            "  inflating: person02_handclapping_d2_uncomp.avi  \n",
            "  inflating: person02_handclapping_d3_uncomp.avi  \n",
            "  inflating: person02_handclapping_d4_uncomp.avi  \n",
            "  inflating: person03_handclapping_d1_uncomp.avi  \n",
            "  inflating: person03_handclapping_d2_uncomp.avi  \n",
            "  inflating: person03_handclapping_d3_uncomp.avi  \n",
            "  inflating: person03_handclapping_d4_uncomp.avi  \n",
            "  inflating: person04_handclapping_d1_uncomp.avi  \n",
            "  inflating: person04_handclapping_d2_uncomp.avi  \n",
            "  inflating: person04_handclapping_d3_uncomp.avi  \n",
            "  inflating: person04_handclapping_d4_uncomp.avi  \n",
            "  inflating: person05_handclapping_d1_uncomp.avi  \n",
            "  inflating: person05_handclapping_d2_uncomp.avi  \n",
            "  inflating: person05_handclapping_d3_uncomp.avi  \n",
            "  inflating: person05_handclapping_d4_uncomp.avi  \n",
            "  inflating: person06_handclapping_d1_uncomp.avi  \n",
            "  inflating: person06_handclapping_d2_uncomp.avi  \n",
            "  inflating: person06_handclapping_d3_uncomp.avi  \n",
            "  inflating: person06_handclapping_d4_uncomp.avi  \n",
            "  inflating: person07_handclapping_d1_uncomp.avi  \n",
            "  inflating: person07_handclapping_d2_uncomp.avi  \n",
            "  inflating: person07_handclapping_d3_uncomp.avi  \n",
            "  inflating: person07_handclapping_d4_uncomp.avi  \n",
            "  inflating: person08_handclapping_d1_uncomp.avi  \n",
            "  inflating: person08_handclapping_d2_uncomp.avi  \n",
            "  inflating: person08_handclapping_d3_uncomp.avi  \n",
            "  inflating: person08_handclapping_d4_uncomp.avi  \n",
            "  inflating: person09_handclapping_d1_uncomp.avi  \n",
            "  inflating: person09_handclapping_d2_uncomp.avi  \n",
            "  inflating: person09_handclapping_d3_uncomp.avi  \n",
            "  inflating: person09_handclapping_d4_uncomp.avi  \n",
            "  inflating: person10_handclapping_d1_uncomp.avi  \n",
            "  inflating: person10_handclapping_d2_uncomp.avi  \n",
            "  inflating: person10_handclapping_d3_uncomp.avi  \n",
            "  inflating: person10_handclapping_d4_uncomp.avi  \n",
            "  inflating: person11_handclapping_d1_uncomp.avi  \n",
            "  inflating: person11_handclapping_d2_uncomp.avi  \n",
            "  inflating: person11_handclapping_d3_uncomp.avi  \n",
            "  inflating: person11_handclapping_d4_uncomp.avi  \n",
            "  inflating: person12_handclapping_d1_uncomp.avi  \n",
            "  inflating: person12_handclapping_d2_uncomp.avi  \n",
            "  inflating: person12_handclapping_d3_uncomp.avi  \n",
            "  inflating: person12_handclapping_d4_uncomp.avi  \n",
            "  inflating: person13_handclapping_d1_uncomp.avi  \n",
            "  inflating: person13_handclapping_d2_uncomp.avi  \n",
            "  inflating: person13_handclapping_d4_uncomp.avi  \n",
            "  inflating: person14_handclapping_d1_uncomp.avi  \n",
            "  inflating: person14_handclapping_d2_uncomp.avi  \n",
            "  inflating: person14_handclapping_d3_uncomp.avi  \n",
            "  inflating: person14_handclapping_d4_uncomp.avi  \n",
            "  inflating: person15_handclapping_d1_uncomp.avi  \n",
            "  inflating: person15_handclapping_d2_uncomp.avi  \n",
            "  inflating: person15_handclapping_d3_uncomp.avi  \n",
            "  inflating: person15_handclapping_d4_uncomp.avi  \n",
            "  inflating: person16_handclapping_d1_uncomp.avi  \n",
            "  inflating: person16_handclapping_d2_uncomp.avi  \n",
            "  inflating: person16_handclapping_d3_uncomp.avi  \n",
            "  inflating: person16_handclapping_d4_uncomp.avi  \n",
            "  inflating: person17_handclapping_d1_uncomp.avi  \n",
            "  inflating: person17_handclapping_d2_uncomp.avi  \n",
            "  inflating: person17_handclapping_d3_uncomp.avi  \n",
            "  inflating: person17_handclapping_d4_uncomp.avi  \n",
            "  inflating: person18_handclapping_d1_uncomp.avi  \n",
            "  inflating: person18_handclapping_d2_uncomp.avi  \n",
            "  inflating: person18_handclapping_d3_uncomp.avi  \n",
            "  inflating: person18_handclapping_d4_uncomp.avi  \n",
            "  inflating: person19_handclapping_d1_uncomp.avi  \n",
            "  inflating: person19_handclapping_d2_uncomp.avi  \n",
            "  inflating: person19_handclapping_d3_uncomp.avi  \n",
            "  inflating: person19_handclapping_d4_uncomp.avi  \n",
            "  inflating: person20_handclapping_d1_uncomp.avi  \n",
            "  inflating: person20_handclapping_d2_uncomp.avi  \n",
            "  inflating: person20_handclapping_d3_uncomp.avi  \n",
            "  inflating: person20_handclapping_d4_uncomp.avi  \n",
            "  inflating: person21_handclapping_d1_uncomp.avi  \n",
            "  inflating: person21_handclapping_d2_uncomp.avi  \n",
            "  inflating: person21_handclapping_d3_uncomp.avi  \n",
            "  inflating: person21_handclapping_d4_uncomp.avi  \n",
            "  inflating: person22_handclapping_d1_uncomp.avi  \n",
            "  inflating: person22_handclapping_d2_uncomp.avi  \n",
            "  inflating: person22_handclapping_d3_uncomp.avi  \n",
            "  inflating: person22_handclapping_d4_uncomp.avi  \n",
            "  inflating: person23_handclapping_d1_uncomp.avi  \n",
            "  inflating: person23_handclapping_d2_uncomp.avi  \n",
            "  inflating: person23_handclapping_d3_uncomp.avi  \n",
            "  inflating: person23_handclapping_d4_uncomp.avi  \n",
            "  inflating: person24_handclapping_d1_uncomp.avi  \n",
            "  inflating: person24_handclapping_d2_uncomp.avi  \n",
            "  inflating: person24_handclapping_d3_uncomp.avi  \n",
            "  inflating: person24_handclapping_d4_uncomp.avi  \n",
            "  inflating: person25_handclapping_d1_uncomp.avi  \n",
            "  inflating: person25_handclapping_d2_uncomp.avi  \n",
            "  inflating: person25_handclapping_d3_uncomp.avi  \n",
            "  inflating: person25_handclapping_d4_uncomp.avi  \n"
          ],
          "name": "stdout"
        }
      ]
    },
    {
      "cell_type": "code",
      "metadata": {
        "id": "3FnL0leaBQcl",
        "colab_type": "code",
        "outputId": "c49f7753-a517-4a59-db7f-9033b65cc918",
        "colab": {
          "base_uri": "https://localhost:8080/",
          "height": 5350
        }
      },
      "source": [
        "ls"
      ],
      "execution_count": 0,
      "outputs": [
        {
          "output_type": "stream",
          "text": [
            "boxing.zip                            \u001b[0m\u001b[01;32mperson13_jogging_d1_uncomp.avi\u001b[0m*\n",
            "handclapping.zip                      \u001b[01;32mperson13_jogging_d2_uncomp.avi\u001b[0m*\n",
            "handwaving.zip                        \u001b[01;32mperson13_jogging_d3_uncomp.avi\u001b[0m*\n",
            "jogging.zip                           \u001b[01;32mperson13_jogging_d4_uncomp.avi\u001b[0m*\n",
            "\u001b[01;32mperson01_boxing_d1_uncomp.avi\u001b[0m*        \u001b[01;32mperson13_running_d1_uncomp.avi\u001b[0m*\n",
            "\u001b[01;32mperson01_boxing_d2_uncomp.avi\u001b[0m*        \u001b[01;32mperson13_running_d2_uncomp.avi\u001b[0m*\n",
            "\u001b[01;32mperson01_boxing_d3_uncomp.avi\u001b[0m*        \u001b[01;32mperson13_running_d3_uncomp.avi\u001b[0m*\n",
            "\u001b[01;32mperson01_boxing_d4_uncomp.avi\u001b[0m*        \u001b[01;32mperson13_running_d4_uncomp.avi\u001b[0m*\n",
            "\u001b[01;32mperson01_handclapping_d1_uncomp.avi\u001b[0m*  \u001b[01;32mperson13_walking_d1_uncomp.avi\u001b[0m*\n",
            "\u001b[01;32mperson01_handclapping_d2_uncomp.avi\u001b[0m*  \u001b[01;32mperson13_walking_d2_uncomp.avi\u001b[0m*\n",
            "\u001b[01;32mperson01_handclapping_d3_uncomp.avi\u001b[0m*  \u001b[01;32mperson13_walking_d3_uncomp.avi\u001b[0m*\n",
            "\u001b[01;32mperson01_handclapping_d4_uncomp.avi\u001b[0m*  \u001b[01;32mperson13_walking_d4_uncomp.avi\u001b[0m*\n",
            "\u001b[01;32mperson01_handwaving_d1_uncomp.avi\u001b[0m*    \u001b[01;32mperson14_boxing_d1_uncomp.avi\u001b[0m*\n",
            "\u001b[01;32mperson01_handwaving_d2_uncomp.avi\u001b[0m*    \u001b[01;32mperson14_boxing_d2_uncomp.avi\u001b[0m*\n",
            "\u001b[01;32mperson01_handwaving_d3_uncomp.avi\u001b[0m*    \u001b[01;32mperson14_boxing_d3_uncomp.avi\u001b[0m*\n",
            "\u001b[01;32mperson01_handwaving_d4_uncomp.avi\u001b[0m*    \u001b[01;32mperson14_boxing_d4_uncomp.avi\u001b[0m*\n",
            "\u001b[01;32mperson01_jogging_d1_uncomp.avi\u001b[0m*       \u001b[01;32mperson14_handclapping_d1_uncomp.avi\u001b[0m*\n",
            "\u001b[01;32mperson01_jogging_d2_uncomp.avi\u001b[0m*       \u001b[01;32mperson14_handclapping_d2_uncomp.avi\u001b[0m*\n",
            "\u001b[01;32mperson01_jogging_d3_uncomp.avi\u001b[0m*       \u001b[01;32mperson14_handclapping_d3_uncomp.avi\u001b[0m*\n",
            "\u001b[01;32mperson01_jogging_d4_uncomp.avi\u001b[0m*       \u001b[01;32mperson14_handclapping_d4_uncomp.avi\u001b[0m*\n",
            "\u001b[01;32mperson01_running_d1_uncomp.avi\u001b[0m*       \u001b[01;32mperson14_handwaving_d1_uncomp.avi\u001b[0m*\n",
            "\u001b[01;32mperson01_running_d2_uncomp.avi\u001b[0m*       \u001b[01;32mperson14_handwaving_d2_uncomp.avi\u001b[0m*\n",
            "\u001b[01;32mperson01_running_d3_uncomp.avi\u001b[0m*       \u001b[01;32mperson14_handwaving_d3_uncomp.avi\u001b[0m*\n",
            "\u001b[01;32mperson01_running_d4_uncomp.avi\u001b[0m*       \u001b[01;32mperson14_handwaving_d4_uncomp.avi\u001b[0m*\n",
            "\u001b[01;32mperson01_walking_d1_uncomp.avi\u001b[0m*       \u001b[01;32mperson14_jogging_d1_uncomp.avi\u001b[0m*\n",
            "\u001b[01;32mperson01_walking_d2_uncomp.avi\u001b[0m*       \u001b[01;32mperson14_jogging_d2_uncomp.avi\u001b[0m*\n",
            "\u001b[01;32mperson01_walking_d3_uncomp.avi\u001b[0m*       \u001b[01;32mperson14_jogging_d3_uncomp.avi\u001b[0m*\n",
            "\u001b[01;32mperson01_walking_d4_uncomp.avi\u001b[0m*       \u001b[01;32mperson14_jogging_d4_uncomp.avi\u001b[0m*\n",
            "\u001b[01;32mperson02_boxing_d1_uncomp.avi\u001b[0m*        \u001b[01;32mperson14_running_d1_uncomp.avi\u001b[0m*\n",
            "\u001b[01;32mperson02_boxing_d2_uncomp.avi\u001b[0m*        \u001b[01;32mperson14_running_d2_uncomp.avi\u001b[0m*\n",
            "\u001b[01;32mperson02_boxing_d3_uncomp.avi\u001b[0m*        \u001b[01;32mperson14_running_d3_uncomp.avi\u001b[0m*\n",
            "\u001b[01;32mperson02_boxing_d4_uncomp.avi\u001b[0m*        \u001b[01;32mperson14_running_d4_uncomp.avi\u001b[0m*\n",
            "\u001b[01;32mperson02_handclapping_d1_uncomp.avi\u001b[0m*  \u001b[01;32mperson14_walking_d1_uncomp.avi\u001b[0m*\n",
            "\u001b[01;32mperson02_handclapping_d2_uncomp.avi\u001b[0m*  \u001b[01;32mperson14_walking_d2_uncomp.avi\u001b[0m*\n",
            "\u001b[01;32mperson02_handclapping_d3_uncomp.avi\u001b[0m*  \u001b[01;32mperson14_walking_d3_uncomp.avi\u001b[0m*\n",
            "\u001b[01;32mperson02_handclapping_d4_uncomp.avi\u001b[0m*  \u001b[01;32mperson14_walking_d4_uncomp.avi\u001b[0m*\n",
            "\u001b[01;32mperson02_handwaving_d1_uncomp.avi\u001b[0m*    \u001b[01;32mperson15_boxing_d1_uncomp.avi\u001b[0m*\n",
            "\u001b[01;32mperson02_handwaving_d2_uncomp.avi\u001b[0m*    \u001b[01;32mperson15_boxing_d2_uncomp.avi\u001b[0m*\n",
            "\u001b[01;32mperson02_handwaving_d3_uncomp.avi\u001b[0m*    \u001b[01;32mperson15_boxing_d3_uncomp.avi\u001b[0m*\n",
            "\u001b[01;32mperson02_handwaving_d4_uncomp.avi\u001b[0m*    \u001b[01;32mperson15_boxing_d4_uncomp.avi\u001b[0m*\n",
            "\u001b[01;32mperson02_jogging_d1_uncomp.avi\u001b[0m*       \u001b[01;32mperson15_handclapping_d1_uncomp.avi\u001b[0m*\n",
            "\u001b[01;32mperson02_jogging_d2_uncomp.avi\u001b[0m*       \u001b[01;32mperson15_handclapping_d2_uncomp.avi\u001b[0m*\n",
            "\u001b[01;32mperson02_jogging_d3_uncomp.avi\u001b[0m*       \u001b[01;32mperson15_handclapping_d3_uncomp.avi\u001b[0m*\n",
            "\u001b[01;32mperson02_jogging_d4_uncomp.avi\u001b[0m*       \u001b[01;32mperson15_handclapping_d4_uncomp.avi\u001b[0m*\n",
            "\u001b[01;32mperson02_running_d1_uncomp.avi\u001b[0m*       \u001b[01;32mperson15_handwaving_d1_uncomp.avi\u001b[0m*\n",
            "\u001b[01;32mperson02_running_d2_uncomp.avi\u001b[0m*       \u001b[01;32mperson15_handwaving_d2_uncomp.avi\u001b[0m*\n",
            "\u001b[01;32mperson02_running_d3_uncomp.avi\u001b[0m*       \u001b[01;32mperson15_handwaving_d3_uncomp.avi\u001b[0m*\n",
            "\u001b[01;32mperson02_running_d4_uncomp.avi\u001b[0m*       \u001b[01;32mperson15_handwaving_d4_uncomp.avi\u001b[0m*\n",
            "\u001b[01;32mperson02_walking_d1_uncomp.avi\u001b[0m*       \u001b[01;32mperson15_jogging_d1_uncomp.avi\u001b[0m*\n",
            "\u001b[01;32mperson02_walking_d2_uncomp.avi\u001b[0m*       \u001b[01;32mperson15_jogging_d2_uncomp.avi\u001b[0m*\n",
            "\u001b[01;32mperson02_walking_d3_uncomp.avi\u001b[0m*       \u001b[01;32mperson15_jogging_d3_uncomp.avi\u001b[0m*\n",
            "\u001b[01;32mperson02_walking_d4_uncomp.avi\u001b[0m*       \u001b[01;32mperson15_jogging_d4_uncomp.avi\u001b[0m*\n",
            "\u001b[01;32mperson03_boxing_d1_uncomp.avi\u001b[0m*        \u001b[01;32mperson15_running_d1_uncomp.avi\u001b[0m*\n",
            "\u001b[01;32mperson03_boxing_d2_uncomp.avi\u001b[0m*        \u001b[01;32mperson15_running_d2_uncomp.avi\u001b[0m*\n",
            "\u001b[01;32mperson03_boxing_d3_uncomp.avi\u001b[0m*        \u001b[01;32mperson15_running_d3_uncomp.avi\u001b[0m*\n",
            "\u001b[01;32mperson03_boxing_d4_uncomp.avi\u001b[0m*        \u001b[01;32mperson15_running_d4_uncomp.avi\u001b[0m*\n",
            "\u001b[01;32mperson03_handclapping_d1_uncomp.avi\u001b[0m*  \u001b[01;32mperson15_walking_d1_uncomp.avi\u001b[0m*\n",
            "\u001b[01;32mperson03_handclapping_d2_uncomp.avi\u001b[0m*  \u001b[01;32mperson15_walking_d2_uncomp.avi\u001b[0m*\n",
            "\u001b[01;32mperson03_handclapping_d3_uncomp.avi\u001b[0m*  \u001b[01;32mperson15_walking_d3_uncomp.avi\u001b[0m*\n",
            "\u001b[01;32mperson03_handclapping_d4_uncomp.avi\u001b[0m*  \u001b[01;32mperson15_walking_d4_uncomp.avi\u001b[0m*\n",
            "\u001b[01;32mperson03_handwaving_d1_uncomp.avi\u001b[0m*    \u001b[01;32mperson16_boxing_d1_uncomp.avi\u001b[0m*\n",
            "\u001b[01;32mperson03_handwaving_d2_uncomp.avi\u001b[0m*    \u001b[01;32mperson16_boxing_d2_uncomp.avi\u001b[0m*\n",
            "\u001b[01;32mperson03_handwaving_d3_uncomp.avi\u001b[0m*    \u001b[01;32mperson16_boxing_d3_uncomp.avi\u001b[0m*\n",
            "\u001b[01;32mperson03_handwaving_d4_uncomp.avi\u001b[0m*    \u001b[01;32mperson16_boxing_d4_uncomp.avi\u001b[0m*\n",
            "\u001b[01;32mperson03_jogging_d1_uncomp.avi\u001b[0m*       \u001b[01;32mperson16_handclapping_d1_uncomp.avi\u001b[0m*\n",
            "\u001b[01;32mperson03_jogging_d2_uncomp.avi\u001b[0m*       \u001b[01;32mperson16_handclapping_d2_uncomp.avi\u001b[0m*\n",
            "\u001b[01;32mperson03_jogging_d3_uncomp.avi\u001b[0m*       \u001b[01;32mperson16_handclapping_d3_uncomp.avi\u001b[0m*\n",
            "\u001b[01;32mperson03_jogging_d4_uncomp.avi\u001b[0m*       \u001b[01;32mperson16_handclapping_d4_uncomp.avi\u001b[0m*\n",
            "\u001b[01;32mperson03_running_d1_uncomp.avi\u001b[0m*       \u001b[01;32mperson16_handwaving_d1_uncomp.avi\u001b[0m*\n",
            "\u001b[01;32mperson03_running_d2_uncomp.avi\u001b[0m*       \u001b[01;32mperson16_handwaving_d2_uncomp.avi\u001b[0m*\n",
            "\u001b[01;32mperson03_running_d3_uncomp.avi\u001b[0m*       \u001b[01;32mperson16_handwaving_d3_uncomp.avi\u001b[0m*\n",
            "\u001b[01;32mperson03_running_d4_uncomp.avi\u001b[0m*       \u001b[01;32mperson16_handwaving_d4_uncomp.avi\u001b[0m*\n",
            "\u001b[01;32mperson03_walking_d1_uncomp.avi\u001b[0m*       \u001b[01;32mperson16_jogging_d1_uncomp.avi\u001b[0m*\n",
            "\u001b[01;32mperson03_walking_d2_uncomp.avi\u001b[0m*       \u001b[01;32mperson16_jogging_d2_uncomp.avi\u001b[0m*\n",
            "\u001b[01;32mperson03_walking_d3_uncomp.avi\u001b[0m*       \u001b[01;32mperson16_jogging_d3_uncomp.avi\u001b[0m*\n",
            "\u001b[01;32mperson03_walking_d4_uncomp.avi\u001b[0m*       \u001b[01;32mperson16_jogging_d4_uncomp.avi\u001b[0m*\n",
            "\u001b[01;32mperson04_boxing_d1_uncomp.avi\u001b[0m*        \u001b[01;32mperson16_running_d1_uncomp.avi\u001b[0m*\n",
            "\u001b[01;32mperson04_boxing_d2_uncomp.avi\u001b[0m*        \u001b[01;32mperson16_running_d2_uncomp.avi\u001b[0m*\n",
            "\u001b[01;32mperson04_boxing_d3_uncomp.avi\u001b[0m*        \u001b[01;32mperson16_running_d3_uncomp.avi\u001b[0m*\n",
            "\u001b[01;32mperson04_boxing_d4_uncomp.avi\u001b[0m*        \u001b[01;32mperson16_running_d4_uncomp.avi\u001b[0m*\n",
            "\u001b[01;32mperson04_handclapping_d1_uncomp.avi\u001b[0m*  \u001b[01;32mperson16_walking_d1_uncomp.avi\u001b[0m*\n",
            "\u001b[01;32mperson04_handclapping_d2_uncomp.avi\u001b[0m*  \u001b[01;32mperson16_walking_d2_uncomp.avi\u001b[0m*\n",
            "\u001b[01;32mperson04_handclapping_d3_uncomp.avi\u001b[0m*  \u001b[01;32mperson16_walking_d3_uncomp.avi\u001b[0m*\n",
            "\u001b[01;32mperson04_handclapping_d4_uncomp.avi\u001b[0m*  \u001b[01;32mperson16_walking_d4_uncomp.avi\u001b[0m*\n",
            "\u001b[01;32mperson04_handwaving_d1_uncomp.avi\u001b[0m*    \u001b[01;32mperson17_boxing_d1_uncomp.avi\u001b[0m*\n",
            "\u001b[01;32mperson04_handwaving_d2_uncomp.avi\u001b[0m*    \u001b[01;32mperson17_boxing_d2_uncomp.avi\u001b[0m*\n",
            "\u001b[01;32mperson04_handwaving_d3_uncomp.avi\u001b[0m*    \u001b[01;32mperson17_boxing_d3_uncomp.avi\u001b[0m*\n",
            "\u001b[01;32mperson04_handwaving_d4_uncomp.avi\u001b[0m*    \u001b[01;32mperson17_boxing_d4_uncomp.avi\u001b[0m*\n",
            "\u001b[01;32mperson04_jogging_d1_uncomp.avi\u001b[0m*       \u001b[01;32mperson17_handclapping_d1_uncomp.avi\u001b[0m*\n",
            "\u001b[01;32mperson04_jogging_d2_uncomp.avi\u001b[0m*       \u001b[01;32mperson17_handclapping_d2_uncomp.avi\u001b[0m*\n",
            "\u001b[01;32mperson04_jogging_d3_uncomp.avi\u001b[0m*       \u001b[01;32mperson17_handclapping_d3_uncomp.avi\u001b[0m*\n",
            "\u001b[01;32mperson04_jogging_d4_uncomp.avi\u001b[0m*       \u001b[01;32mperson17_handclapping_d4_uncomp.avi\u001b[0m*\n",
            "\u001b[01;32mperson04_running_d1_uncomp.avi\u001b[0m*       \u001b[01;32mperson17_handwaving_d1_uncomp.avi\u001b[0m*\n",
            "\u001b[01;32mperson04_running_d2_uncomp.avi\u001b[0m*       \u001b[01;32mperson17_handwaving_d2_uncomp.avi\u001b[0m*\n",
            "\u001b[01;32mperson04_running_d3_uncomp.avi\u001b[0m*       \u001b[01;32mperson17_handwaving_d3_uncomp.avi\u001b[0m*\n",
            "\u001b[01;32mperson04_running_d4_uncomp.avi\u001b[0m*       \u001b[01;32mperson17_handwaving_d4_uncomp.avi\u001b[0m*\n",
            "\u001b[01;32mperson04_walking_d1_uncomp.avi\u001b[0m*       \u001b[01;32mperson17_jogging_d1_uncomp.avi\u001b[0m*\n",
            "\u001b[01;32mperson04_walking_d2_uncomp.avi\u001b[0m*       \u001b[01;32mperson17_jogging_d2_uncomp.avi\u001b[0m*\n",
            "\u001b[01;32mperson04_walking_d3_uncomp.avi\u001b[0m*       \u001b[01;32mperson17_jogging_d3_uncomp.avi\u001b[0m*\n",
            "\u001b[01;32mperson04_walking_d4_uncomp.avi\u001b[0m*       \u001b[01;32mperson17_jogging_d4_uncomp.avi\u001b[0m*\n",
            "\u001b[01;32mperson05_boxing_d1_uncomp.avi\u001b[0m*        \u001b[01;32mperson17_running_d1_uncomp.avi\u001b[0m*\n",
            "\u001b[01;32mperson05_boxing_d2_uncomp.avi\u001b[0m*        \u001b[01;32mperson17_running_d2_uncomp.avi\u001b[0m*\n",
            "\u001b[01;32mperson05_boxing_d3_uncomp.avi\u001b[0m*        \u001b[01;32mperson17_running_d3_uncomp.avi\u001b[0m*\n",
            "\u001b[01;32mperson05_boxing_d4_uncomp.avi\u001b[0m*        \u001b[01;32mperson17_running_d4_uncomp.avi\u001b[0m*\n",
            "\u001b[01;32mperson05_handclapping_d1_uncomp.avi\u001b[0m*  \u001b[01;32mperson17_walking_d1_uncomp.avi\u001b[0m*\n",
            "\u001b[01;32mperson05_handclapping_d2_uncomp.avi\u001b[0m*  \u001b[01;32mperson17_walking_d2_uncomp.avi\u001b[0m*\n",
            "\u001b[01;32mperson05_handclapping_d3_uncomp.avi\u001b[0m*  \u001b[01;32mperson17_walking_d3_uncomp.avi\u001b[0m*\n",
            "\u001b[01;32mperson05_handclapping_d4_uncomp.avi\u001b[0m*  \u001b[01;32mperson17_walking_d4_uncomp.avi\u001b[0m*\n",
            "\u001b[01;32mperson05_handwaving_d1_uncomp.avi\u001b[0m*    \u001b[01;32mperson18_boxing_d1_uncomp.avi\u001b[0m*\n",
            "\u001b[01;32mperson05_handwaving_d2_uncomp.avi\u001b[0m*    \u001b[01;32mperson18_boxing_d2_uncomp.avi\u001b[0m*\n",
            "\u001b[01;32mperson05_handwaving_d3_uncomp.avi\u001b[0m*    \u001b[01;32mperson18_boxing_d3_uncomp.avi\u001b[0m*\n",
            "\u001b[01;32mperson05_handwaving_d4_uncomp.avi\u001b[0m*    \u001b[01;32mperson18_boxing_d4_uncomp.avi\u001b[0m*\n",
            "\u001b[01;32mperson05_jogging_d1_uncomp.avi\u001b[0m*       \u001b[01;32mperson18_handclapping_d1_uncomp.avi\u001b[0m*\n",
            "\u001b[01;32mperson05_jogging_d2_uncomp.avi\u001b[0m*       \u001b[01;32mperson18_handclapping_d2_uncomp.avi\u001b[0m*\n",
            "\u001b[01;32mperson05_jogging_d3_uncomp.avi\u001b[0m*       \u001b[01;32mperson18_handclapping_d3_uncomp.avi\u001b[0m*\n",
            "\u001b[01;32mperson05_jogging_d4_uncomp.avi\u001b[0m*       \u001b[01;32mperson18_handclapping_d4_uncomp.avi\u001b[0m*\n",
            "\u001b[01;32mperson05_running_d1_uncomp.avi\u001b[0m*       \u001b[01;32mperson18_handwaving_d1_uncomp.avi\u001b[0m*\n",
            "\u001b[01;32mperson05_running_d2_uncomp.avi\u001b[0m*       \u001b[01;32mperson18_handwaving_d2_uncomp.avi\u001b[0m*\n",
            "\u001b[01;32mperson05_running_d3_uncomp.avi\u001b[0m*       \u001b[01;32mperson18_handwaving_d3_uncomp.avi\u001b[0m*\n",
            "\u001b[01;32mperson05_running_d4_uncomp.avi\u001b[0m*       \u001b[01;32mperson18_handwaving_d4_uncomp.avi\u001b[0m*\n",
            "\u001b[01;32mperson05_walking_d1_uncomp.avi\u001b[0m*       \u001b[01;32mperson18_jogging_d1_uncomp.avi\u001b[0m*\n",
            "\u001b[01;32mperson05_walking_d2_uncomp.avi\u001b[0m*       \u001b[01;32mperson18_jogging_d2_uncomp.avi\u001b[0m*\n",
            "\u001b[01;32mperson05_walking_d3_uncomp.avi\u001b[0m*       \u001b[01;32mperson18_jogging_d3_uncomp.avi\u001b[0m*\n",
            "\u001b[01;32mperson05_walking_d4_uncomp.avi\u001b[0m*       \u001b[01;32mperson18_jogging_d4_uncomp.avi\u001b[0m*\n",
            "\u001b[01;32mperson06_boxing_d1_uncomp.avi\u001b[0m*        \u001b[01;32mperson18_running_d1_uncomp.avi\u001b[0m*\n",
            "\u001b[01;32mperson06_boxing_d2_uncomp.avi\u001b[0m*        \u001b[01;32mperson18_running_d2_uncomp.avi\u001b[0m*\n",
            "\u001b[01;32mperson06_boxing_d3_uncomp.avi\u001b[0m*        \u001b[01;32mperson18_running_d3_uncomp.avi\u001b[0m*\n",
            "\u001b[01;32mperson06_boxing_d4_uncomp.avi\u001b[0m*        \u001b[01;32mperson18_running_d4_uncomp.avi\u001b[0m*\n",
            "\u001b[01;32mperson06_handclapping_d1_uncomp.avi\u001b[0m*  \u001b[01;32mperson18_walking_d1_uncomp.avi\u001b[0m*\n",
            "\u001b[01;32mperson06_handclapping_d2_uncomp.avi\u001b[0m*  \u001b[01;32mperson18_walking_d2_uncomp.avi\u001b[0m*\n",
            "\u001b[01;32mperson06_handclapping_d3_uncomp.avi\u001b[0m*  \u001b[01;32mperson18_walking_d3_uncomp.avi\u001b[0m*\n",
            "\u001b[01;32mperson06_handclapping_d4_uncomp.avi\u001b[0m*  \u001b[01;32mperson18_walking_d4_uncomp.avi\u001b[0m*\n",
            "\u001b[01;32mperson06_handwaving_d1_uncomp.avi\u001b[0m*    \u001b[01;32mperson19_boxing_d1_uncomp.avi\u001b[0m*\n",
            "\u001b[01;32mperson06_handwaving_d2_uncomp.avi\u001b[0m*    \u001b[01;32mperson19_boxing_d2_uncomp.avi\u001b[0m*\n",
            "\u001b[01;32mperson06_handwaving_d3_uncomp.avi\u001b[0m*    \u001b[01;32mperson19_boxing_d3_uncomp.avi\u001b[0m*\n",
            "\u001b[01;32mperson06_handwaving_d4_uncomp.avi\u001b[0m*    \u001b[01;32mperson19_boxing_d4_uncomp.avi\u001b[0m*\n",
            "\u001b[01;32mperson06_jogging_d1_uncomp.avi\u001b[0m*       \u001b[01;32mperson19_handclapping_d1_uncomp.avi\u001b[0m*\n",
            "\u001b[01;32mperson06_jogging_d2_uncomp.avi\u001b[0m*       \u001b[01;32mperson19_handclapping_d2_uncomp.avi\u001b[0m*\n",
            "\u001b[01;32mperson06_jogging_d3_uncomp.avi\u001b[0m*       \u001b[01;32mperson19_handclapping_d3_uncomp.avi\u001b[0m*\n",
            "\u001b[01;32mperson06_jogging_d4_uncomp.avi\u001b[0m*       \u001b[01;32mperson19_handclapping_d4_uncomp.avi\u001b[0m*\n",
            "\u001b[01;32mperson06_running_d1_uncomp.avi\u001b[0m*       \u001b[01;32mperson19_handwaving_d1_uncomp.avi\u001b[0m*\n",
            "\u001b[01;32mperson06_running_d2_uncomp.avi\u001b[0m*       \u001b[01;32mperson19_handwaving_d2_uncomp.avi\u001b[0m*\n",
            "\u001b[01;32mperson06_running_d3_uncomp.avi\u001b[0m*       \u001b[01;32mperson19_handwaving_d3_uncomp.avi\u001b[0m*\n",
            "\u001b[01;32mperson06_running_d4_uncomp.avi\u001b[0m*       \u001b[01;32mperson19_handwaving_d4_uncomp.avi\u001b[0m*\n",
            "\u001b[01;32mperson06_walking_d1_uncomp.avi\u001b[0m*       \u001b[01;32mperson19_jogging_d1_uncomp.avi\u001b[0m*\n",
            "\u001b[01;32mperson06_walking_d2_uncomp.avi\u001b[0m*       \u001b[01;32mperson19_jogging_d2_uncomp.avi\u001b[0m*\n",
            "\u001b[01;32mperson06_walking_d3_uncomp.avi\u001b[0m*       \u001b[01;32mperson19_jogging_d3_uncomp.avi\u001b[0m*\n",
            "\u001b[01;32mperson06_walking_d4_uncomp.avi\u001b[0m*       \u001b[01;32mperson19_jogging_d4_uncomp.avi\u001b[0m*\n",
            "\u001b[01;32mperson07_boxing_d1_uncomp.avi\u001b[0m*        \u001b[01;32mperson19_running_d1_uncomp.avi\u001b[0m*\n",
            "\u001b[01;32mperson07_boxing_d2_uncomp.avi\u001b[0m*        \u001b[01;32mperson19_running_d2_uncomp.avi\u001b[0m*\n",
            "\u001b[01;32mperson07_boxing_d3_uncomp.avi\u001b[0m*        \u001b[01;32mperson19_running_d3_uncomp.avi\u001b[0m*\n",
            "\u001b[01;32mperson07_boxing_d4_uncomp.avi\u001b[0m*        \u001b[01;32mperson19_running_d4_uncomp.avi\u001b[0m*\n",
            "\u001b[01;32mperson07_handclapping_d1_uncomp.avi\u001b[0m*  \u001b[01;32mperson19_walking_d1_uncomp.avi\u001b[0m*\n",
            "\u001b[01;32mperson07_handclapping_d2_uncomp.avi\u001b[0m*  \u001b[01;32mperson19_walking_d2_uncomp.avi\u001b[0m*\n",
            "\u001b[01;32mperson07_handclapping_d3_uncomp.avi\u001b[0m*  \u001b[01;32mperson19_walking_d3_uncomp.avi\u001b[0m*\n",
            "\u001b[01;32mperson07_handclapping_d4_uncomp.avi\u001b[0m*  \u001b[01;32mperson19_walking_d4_uncomp.avi\u001b[0m*\n",
            "\u001b[01;32mperson07_handwaving_d1_uncomp.avi\u001b[0m*    \u001b[01;32mperson20_boxing_d1_uncomp.avi\u001b[0m*\n",
            "\u001b[01;32mperson07_handwaving_d2_uncomp.avi\u001b[0m*    \u001b[01;32mperson20_boxing_d2_uncomp.avi\u001b[0m*\n",
            "\u001b[01;32mperson07_handwaving_d3_uncomp.avi\u001b[0m*    \u001b[01;32mperson20_boxing_d3_uncomp.avi\u001b[0m*\n",
            "\u001b[01;32mperson07_handwaving_d4_uncomp.avi\u001b[0m*    \u001b[01;32mperson20_boxing_d4_uncomp.avi\u001b[0m*\n",
            "\u001b[01;32mperson07_jogging_d1_uncomp.avi\u001b[0m*       \u001b[01;32mperson20_handclapping_d1_uncomp.avi\u001b[0m*\n",
            "\u001b[01;32mperson07_jogging_d2_uncomp.avi\u001b[0m*       \u001b[01;32mperson20_handclapping_d2_uncomp.avi\u001b[0m*\n",
            "\u001b[01;32mperson07_jogging_d3_uncomp.avi\u001b[0m*       \u001b[01;32mperson20_handclapping_d3_uncomp.avi\u001b[0m*\n",
            "\u001b[01;32mperson07_jogging_d4_uncomp.avi\u001b[0m*       \u001b[01;32mperson20_handclapping_d4_uncomp.avi\u001b[0m*\n",
            "\u001b[01;32mperson07_running_d1_uncomp.avi\u001b[0m*       \u001b[01;32mperson20_handwaving_d1_uncomp.avi\u001b[0m*\n",
            "\u001b[01;32mperson07_running_d2_uncomp.avi\u001b[0m*       \u001b[01;32mperson20_handwaving_d2_uncomp.avi\u001b[0m*\n",
            "\u001b[01;32mperson07_running_d3_uncomp.avi\u001b[0m*       \u001b[01;32mperson20_handwaving_d3_uncomp.avi\u001b[0m*\n",
            "\u001b[01;32mperson07_running_d4_uncomp.avi\u001b[0m*       \u001b[01;32mperson20_handwaving_d4_uncomp.avi\u001b[0m*\n",
            "\u001b[01;32mperson07_walking_d1_uncomp.avi\u001b[0m*       \u001b[01;32mperson20_jogging_d1_uncomp.avi\u001b[0m*\n",
            "\u001b[01;32mperson07_walking_d2_uncomp.avi\u001b[0m*       \u001b[01;32mperson20_jogging_d2_uncomp.avi\u001b[0m*\n",
            "\u001b[01;32mperson07_walking_d3_uncomp.avi\u001b[0m*       \u001b[01;32mperson20_jogging_d3_uncomp.avi\u001b[0m*\n",
            "\u001b[01;32mperson07_walking_d4_uncomp.avi\u001b[0m*       \u001b[01;32mperson20_jogging_d4_uncomp.avi\u001b[0m*\n",
            "\u001b[01;32mperson08_boxing_d1_uncomp.avi\u001b[0m*        \u001b[01;32mperson20_running_d1_uncomp.avi\u001b[0m*\n",
            "\u001b[01;32mperson08_boxing_d2_uncomp.avi\u001b[0m*        \u001b[01;32mperson20_running_d2_uncomp.avi\u001b[0m*\n",
            "\u001b[01;32mperson08_boxing_d3_uncomp.avi\u001b[0m*        \u001b[01;32mperson20_running_d3_uncomp.avi\u001b[0m*\n",
            "\u001b[01;32mperson08_boxing_d4_uncomp.avi\u001b[0m*        \u001b[01;32mperson20_running_d4_uncomp.avi\u001b[0m*\n",
            "\u001b[01;32mperson08_handclapping_d1_uncomp.avi\u001b[0m*  \u001b[01;32mperson20_walking_d1_uncomp.avi\u001b[0m*\n",
            "\u001b[01;32mperson08_handclapping_d2_uncomp.avi\u001b[0m*  \u001b[01;32mperson20_walking_d2_uncomp.avi\u001b[0m*\n",
            "\u001b[01;32mperson08_handclapping_d3_uncomp.avi\u001b[0m*  \u001b[01;32mperson20_walking_d3_uncomp.avi\u001b[0m*\n",
            "\u001b[01;32mperson08_handclapping_d4_uncomp.avi\u001b[0m*  \u001b[01;32mperson20_walking_d4_uncomp.avi\u001b[0m*\n",
            "\u001b[01;32mperson08_handwaving_d1_uncomp.avi\u001b[0m*    \u001b[01;32mperson21_boxing_d1_uncomp.avi\u001b[0m*\n",
            "\u001b[01;32mperson08_handwaving_d2_uncomp.avi\u001b[0m*    \u001b[01;32mperson21_boxing_d2_uncomp.avi\u001b[0m*\n",
            "\u001b[01;32mperson08_handwaving_d3_uncomp.avi\u001b[0m*    \u001b[01;32mperson21_boxing_d3_uncomp.avi\u001b[0m*\n",
            "\u001b[01;32mperson08_handwaving_d4_uncomp.avi\u001b[0m*    \u001b[01;32mperson21_boxing_d4_uncomp.avi\u001b[0m*\n",
            "\u001b[01;32mperson08_jogging_d1_uncomp.avi\u001b[0m*       \u001b[01;32mperson21_handclapping_d1_uncomp.avi\u001b[0m*\n",
            "\u001b[01;32mperson08_jogging_d2_uncomp.avi\u001b[0m*       \u001b[01;32mperson21_handclapping_d2_uncomp.avi\u001b[0m*\n",
            "\u001b[01;32mperson08_jogging_d3_uncomp.avi\u001b[0m*       \u001b[01;32mperson21_handclapping_d3_uncomp.avi\u001b[0m*\n",
            "\u001b[01;32mperson08_jogging_d4_uncomp.avi\u001b[0m*       \u001b[01;32mperson21_handclapping_d4_uncomp.avi\u001b[0m*\n",
            "\u001b[01;32mperson08_running_d1_uncomp.avi\u001b[0m*       \u001b[01;32mperson21_handwaving_d1_uncomp.avi\u001b[0m*\n",
            "\u001b[01;32mperson08_running_d2_uncomp.avi\u001b[0m*       \u001b[01;32mperson21_handwaving_d2_uncomp.avi\u001b[0m*\n",
            "\u001b[01;32mperson08_running_d3_uncomp.avi\u001b[0m*       \u001b[01;32mperson21_handwaving_d3_uncomp.avi\u001b[0m*\n",
            "\u001b[01;32mperson08_running_d4_uncomp.avi\u001b[0m*       \u001b[01;32mperson21_handwaving_d4_uncomp.avi\u001b[0m*\n",
            "\u001b[01;32mperson08_walking_d1_uncomp.avi\u001b[0m*       \u001b[01;32mperson21_jogging_d1_uncomp.avi\u001b[0m*\n",
            "\u001b[01;32mperson08_walking_d2_uncomp.avi\u001b[0m*       \u001b[01;32mperson21_jogging_d2_uncomp.avi\u001b[0m*\n",
            "\u001b[01;32mperson08_walking_d3_uncomp.avi\u001b[0m*       \u001b[01;32mperson21_jogging_d3_uncomp.avi\u001b[0m*\n",
            "\u001b[01;32mperson08_walking_d4_uncomp.avi\u001b[0m*       \u001b[01;32mperson21_jogging_d4_uncomp.avi\u001b[0m*\n",
            "\u001b[01;32mperson09_boxing_d1_uncomp.avi\u001b[0m*        \u001b[01;32mperson21_running_d1_uncomp.avi\u001b[0m*\n",
            "\u001b[01;32mperson09_boxing_d2_uncomp.avi\u001b[0m*        \u001b[01;32mperson21_running_d2_uncomp.avi\u001b[0m*\n",
            "\u001b[01;32mperson09_boxing_d3_uncomp.avi\u001b[0m*        \u001b[01;32mperson21_running_d3_uncomp.avi\u001b[0m*\n",
            "\u001b[01;32mperson09_boxing_d4_uncomp.avi\u001b[0m*        \u001b[01;32mperson21_running_d4_uncomp.avi\u001b[0m*\n",
            "\u001b[01;32mperson09_handclapping_d1_uncomp.avi\u001b[0m*  \u001b[01;32mperson21_walking_d1_uncomp.avi\u001b[0m*\n",
            "\u001b[01;32mperson09_handclapping_d2_uncomp.avi\u001b[0m*  \u001b[01;32mperson21_walking_d2_uncomp.avi\u001b[0m*\n",
            "\u001b[01;32mperson09_handclapping_d3_uncomp.avi\u001b[0m*  \u001b[01;32mperson21_walking_d3_uncomp.avi\u001b[0m*\n",
            "\u001b[01;32mperson09_handclapping_d4_uncomp.avi\u001b[0m*  \u001b[01;32mperson21_walking_d4_uncomp.avi\u001b[0m*\n",
            "\u001b[01;32mperson09_handwaving_d1_uncomp.avi\u001b[0m*    \u001b[01;32mperson22_boxing_d1_uncomp.avi\u001b[0m*\n",
            "\u001b[01;32mperson09_handwaving_d2_uncomp.avi\u001b[0m*    \u001b[01;32mperson22_boxing_d2_uncomp.avi\u001b[0m*\n",
            "\u001b[01;32mperson09_handwaving_d3_uncomp.avi\u001b[0m*    \u001b[01;32mperson22_boxing_d3_uncomp.avi\u001b[0m*\n",
            "\u001b[01;32mperson09_handwaving_d4_uncomp.avi\u001b[0m*    \u001b[01;32mperson22_boxing_d4_uncomp.avi\u001b[0m*\n",
            "\u001b[01;32mperson09_jogging_d1_uncomp.avi\u001b[0m*       \u001b[01;32mperson22_handclapping_d1_uncomp.avi\u001b[0m*\n",
            "\u001b[01;32mperson09_jogging_d2_uncomp.avi\u001b[0m*       \u001b[01;32mperson22_handclapping_d2_uncomp.avi\u001b[0m*\n",
            "\u001b[01;32mperson09_jogging_d3_uncomp.avi\u001b[0m*       \u001b[01;32mperson22_handclapping_d3_uncomp.avi\u001b[0m*\n",
            "\u001b[01;32mperson09_jogging_d4_uncomp.avi\u001b[0m*       \u001b[01;32mperson22_handclapping_d4_uncomp.avi\u001b[0m*\n",
            "\u001b[01;32mperson09_running_d1_uncomp.avi\u001b[0m*       \u001b[01;32mperson22_handwaving_d1_uncomp.avi\u001b[0m*\n",
            "\u001b[01;32mperson09_running_d2_uncomp.avi\u001b[0m*       \u001b[01;32mperson22_handwaving_d2_uncomp.avi\u001b[0m*\n",
            "\u001b[01;32mperson09_running_d3_uncomp.avi\u001b[0m*       \u001b[01;32mperson22_handwaving_d3_uncomp.avi\u001b[0m*\n",
            "\u001b[01;32mperson09_running_d4_uncomp.avi\u001b[0m*       \u001b[01;32mperson22_handwaving_d4_uncomp.avi\u001b[0m*\n",
            "\u001b[01;32mperson09_walking_d1_uncomp.avi\u001b[0m*       \u001b[01;32mperson22_jogging_d1_uncomp.avi\u001b[0m*\n",
            "\u001b[01;32mperson09_walking_d2_uncomp.avi\u001b[0m*       \u001b[01;32mperson22_jogging_d2_uncomp.avi\u001b[0m*\n",
            "\u001b[01;32mperson09_walking_d3_uncomp.avi\u001b[0m*       \u001b[01;32mperson22_jogging_d3_uncomp.avi\u001b[0m*\n",
            "\u001b[01;32mperson09_walking_d4_uncomp.avi\u001b[0m*       \u001b[01;32mperson22_jogging_d4_uncomp.avi\u001b[0m*\n",
            "\u001b[01;32mperson10_boxing_d1_uncomp.avi\u001b[0m*        \u001b[01;32mperson22_running_d1_uncomp.avi\u001b[0m*\n",
            "\u001b[01;32mperson10_boxing_d2_uncomp.avi\u001b[0m*        \u001b[01;32mperson22_running_d2_uncomp.avi\u001b[0m*\n",
            "\u001b[01;32mperson10_boxing_d3_uncomp.avi\u001b[0m*        \u001b[01;32mperson22_running_d3_uncomp.avi\u001b[0m*\n",
            "\u001b[01;32mperson10_boxing_d4_uncomp.avi\u001b[0m*        \u001b[01;32mperson22_running_d4_uncomp.avi\u001b[0m*\n",
            "\u001b[01;32mperson10_handclapping_d1_uncomp.avi\u001b[0m*  \u001b[01;32mperson22_walking_d1_uncomp.avi\u001b[0m*\n",
            "\u001b[01;32mperson10_handclapping_d2_uncomp.avi\u001b[0m*  \u001b[01;32mperson22_walking_d2_uncomp.avi\u001b[0m*\n",
            "\u001b[01;32mperson10_handclapping_d3_uncomp.avi\u001b[0m*  \u001b[01;32mperson22_walking_d3_uncomp.avi\u001b[0m*\n",
            "\u001b[01;32mperson10_handclapping_d4_uncomp.avi\u001b[0m*  \u001b[01;32mperson22_walking_d4_uncomp.avi\u001b[0m*\n",
            "\u001b[01;32mperson10_handwaving_d1_uncomp.avi\u001b[0m*    \u001b[01;32mperson23_boxing_d1_uncomp.avi\u001b[0m*\n",
            "\u001b[01;32mperson10_handwaving_d2_uncomp.avi\u001b[0m*    \u001b[01;32mperson23_boxing_d2_uncomp.avi\u001b[0m*\n",
            "\u001b[01;32mperson10_handwaving_d3_uncomp.avi\u001b[0m*    \u001b[01;32mperson23_boxing_d3_uncomp.avi\u001b[0m*\n",
            "\u001b[01;32mperson10_handwaving_d4_uncomp.avi\u001b[0m*    \u001b[01;32mperson23_boxing_d4_uncomp.avi\u001b[0m*\n",
            "\u001b[01;32mperson10_jogging_d1_uncomp.avi\u001b[0m*       \u001b[01;32mperson23_handclapping_d1_uncomp.avi\u001b[0m*\n",
            "\u001b[01;32mperson10_jogging_d2_uncomp.avi\u001b[0m*       \u001b[01;32mperson23_handclapping_d2_uncomp.avi\u001b[0m*\n",
            "\u001b[01;32mperson10_jogging_d3_uncomp.avi\u001b[0m*       \u001b[01;32mperson23_handclapping_d3_uncomp.avi\u001b[0m*\n",
            "\u001b[01;32mperson10_jogging_d4_uncomp.avi\u001b[0m*       \u001b[01;32mperson23_handclapping_d4_uncomp.avi\u001b[0m*\n",
            "\u001b[01;32mperson10_running_d1_uncomp.avi\u001b[0m*       \u001b[01;32mperson23_handwaving_d1_uncomp.avi\u001b[0m*\n",
            "\u001b[01;32mperson10_running_d2_uncomp.avi\u001b[0m*       \u001b[01;32mperson23_handwaving_d2_uncomp.avi\u001b[0m*\n",
            "\u001b[01;32mperson10_running_d3_uncomp.avi\u001b[0m*       \u001b[01;32mperson23_handwaving_d3_uncomp.avi\u001b[0m*\n",
            "\u001b[01;32mperson10_running_d4_uncomp.avi\u001b[0m*       \u001b[01;32mperson23_handwaving_d4_uncomp.avi\u001b[0m*\n",
            "\u001b[01;32mperson10_walking_d1_uncomp.avi\u001b[0m*       \u001b[01;32mperson23_jogging_d1_uncomp.avi\u001b[0m*\n",
            "\u001b[01;32mperson10_walking_d2_uncomp.avi\u001b[0m*       \u001b[01;32mperson23_jogging_d2_uncomp.avi\u001b[0m*\n",
            "\u001b[01;32mperson10_walking_d3_uncomp.avi\u001b[0m*       \u001b[01;32mperson23_jogging_d3_uncomp.avi\u001b[0m*\n",
            "\u001b[01;32mperson10_walking_d4_uncomp.avi\u001b[0m*       \u001b[01;32mperson23_jogging_d4_uncomp.avi\u001b[0m*\n",
            "\u001b[01;32mperson11_boxing_d1_uncomp.avi\u001b[0m*        \u001b[01;32mperson23_running_d1_uncomp.avi\u001b[0m*\n",
            "\u001b[01;32mperson11_boxing_d2_uncomp.avi\u001b[0m*        \u001b[01;32mperson23_running_d2_uncomp.avi\u001b[0m*\n",
            "\u001b[01;32mperson11_boxing_d3_uncomp.avi\u001b[0m*        \u001b[01;32mperson23_running_d3_uncomp.avi\u001b[0m*\n",
            "\u001b[01;32mperson11_boxing_d4_uncomp.avi\u001b[0m*        \u001b[01;32mperson23_running_d4_uncomp.avi\u001b[0m*\n",
            "\u001b[01;32mperson11_handclapping_d1_uncomp.avi\u001b[0m*  \u001b[01;32mperson23_walking_d1_uncomp.avi\u001b[0m*\n",
            "\u001b[01;32mperson11_handclapping_d2_uncomp.avi\u001b[0m*  \u001b[01;32mperson23_walking_d2_uncomp.avi\u001b[0m*\n",
            "\u001b[01;32mperson11_handclapping_d3_uncomp.avi\u001b[0m*  \u001b[01;32mperson23_walking_d3_uncomp.avi\u001b[0m*\n",
            "\u001b[01;32mperson11_handclapping_d4_uncomp.avi\u001b[0m*  \u001b[01;32mperson23_walking_d4_uncomp.avi\u001b[0m*\n",
            "\u001b[01;32mperson11_handwaving_d1_uncomp.avi\u001b[0m*    \u001b[01;32mperson24_boxing_d1_uncomp.avi\u001b[0m*\n",
            "\u001b[01;32mperson11_handwaving_d2_uncomp.avi\u001b[0m*    \u001b[01;32mperson24_boxing_d2_uncomp.avi\u001b[0m*\n",
            "\u001b[01;32mperson11_handwaving_d3_uncomp.avi\u001b[0m*    \u001b[01;32mperson24_boxing_d3_uncomp.avi\u001b[0m*\n",
            "\u001b[01;32mperson11_handwaving_d4_uncomp.avi\u001b[0m*    \u001b[01;32mperson24_boxing_d4_uncomp.avi\u001b[0m*\n",
            "\u001b[01;32mperson11_jogging_d1_uncomp.avi\u001b[0m*       \u001b[01;32mperson24_handclapping_d1_uncomp.avi\u001b[0m*\n",
            "\u001b[01;32mperson11_jogging_d2_uncomp.avi\u001b[0m*       \u001b[01;32mperson24_handclapping_d2_uncomp.avi\u001b[0m*\n",
            "\u001b[01;32mperson11_jogging_d3_uncomp.avi\u001b[0m*       \u001b[01;32mperson24_handclapping_d3_uncomp.avi\u001b[0m*\n",
            "\u001b[01;32mperson11_jogging_d4_uncomp.avi\u001b[0m*       \u001b[01;32mperson24_handclapping_d4_uncomp.avi\u001b[0m*\n",
            "\u001b[01;32mperson11_running_d1_uncomp.avi\u001b[0m*       \u001b[01;32mperson24_handwaving_d1_uncomp.avi\u001b[0m*\n",
            "\u001b[01;32mperson11_running_d2_uncomp.avi\u001b[0m*       \u001b[01;32mperson24_handwaving_d2_uncomp.avi\u001b[0m*\n",
            "\u001b[01;32mperson11_running_d3_uncomp.avi\u001b[0m*       \u001b[01;32mperson24_handwaving_d3_uncomp.avi\u001b[0m*\n",
            "\u001b[01;32mperson11_running_d4_uncomp.avi\u001b[0m*       \u001b[01;32mperson24_handwaving_d4_uncomp.avi\u001b[0m*\n",
            "\u001b[01;32mperson11_walking_d1_uncomp.avi\u001b[0m*       \u001b[01;32mperson24_jogging_d1_uncomp.avi\u001b[0m*\n",
            "\u001b[01;32mperson11_walking_d2_uncomp.avi\u001b[0m*       \u001b[01;32mperson24_jogging_d2_uncomp.avi\u001b[0m*\n",
            "\u001b[01;32mperson11_walking_d3_uncomp.avi\u001b[0m*       \u001b[01;32mperson24_jogging_d3_uncomp.avi\u001b[0m*\n",
            "\u001b[01;32mperson11_walking_d4_uncomp.avi\u001b[0m*       \u001b[01;32mperson24_jogging_d4_uncomp.avi\u001b[0m*\n",
            "\u001b[01;32mperson12_boxing_d1_uncomp.avi\u001b[0m*        \u001b[01;32mperson24_running_d1_uncomp.avi\u001b[0m*\n",
            "\u001b[01;32mperson12_boxing_d2_uncomp.avi\u001b[0m*        \u001b[01;32mperson24_running_d2_uncomp.avi\u001b[0m*\n",
            "\u001b[01;32mperson12_boxing_d3_uncomp.avi\u001b[0m*        \u001b[01;32mperson24_running_d3_uncomp.avi\u001b[0m*\n",
            "\u001b[01;32mperson12_boxing_d4_uncomp.avi\u001b[0m*        \u001b[01;32mperson24_running_d4_uncomp.avi\u001b[0m*\n",
            "\u001b[01;32mperson12_handclapping_d1_uncomp.avi\u001b[0m*  \u001b[01;32mperson24_walking_d1_uncomp.avi\u001b[0m*\n",
            "\u001b[01;32mperson12_handclapping_d2_uncomp.avi\u001b[0m*  \u001b[01;32mperson24_walking_d2_uncomp.avi\u001b[0m*\n",
            "\u001b[01;32mperson12_handclapping_d3_uncomp.avi\u001b[0m*  \u001b[01;32mperson24_walking_d3_uncomp.avi\u001b[0m*\n",
            "\u001b[01;32mperson12_handclapping_d4_uncomp.avi\u001b[0m*  \u001b[01;32mperson24_walking_d4_uncomp.avi\u001b[0m*\n",
            "\u001b[01;32mperson12_handwaving_d1_uncomp.avi\u001b[0m*    \u001b[01;32mperson25_boxing_d1_uncomp.avi\u001b[0m*\n",
            "\u001b[01;32mperson12_handwaving_d2_uncomp.avi\u001b[0m*    \u001b[01;32mperson25_boxing_d2_uncomp.avi\u001b[0m*\n",
            "\u001b[01;32mperson12_handwaving_d3_uncomp.avi\u001b[0m*    \u001b[01;32mperson25_boxing_d3_uncomp.avi\u001b[0m*\n",
            "\u001b[01;32mperson12_handwaving_d4_uncomp.avi\u001b[0m*    \u001b[01;32mperson25_boxing_d4_uncomp.avi\u001b[0m*\n",
            "\u001b[01;32mperson12_jogging_d1_uncomp.avi\u001b[0m*       \u001b[01;32mperson25_handclapping_d1_uncomp.avi\u001b[0m*\n",
            "\u001b[01;32mperson12_jogging_d2_uncomp.avi\u001b[0m*       \u001b[01;32mperson25_handclapping_d2_uncomp.avi\u001b[0m*\n",
            "\u001b[01;32mperson12_jogging_d3_uncomp.avi\u001b[0m*       \u001b[01;32mperson25_handclapping_d3_uncomp.avi\u001b[0m*\n",
            "\u001b[01;32mperson12_jogging_d4_uncomp.avi\u001b[0m*       \u001b[01;32mperson25_handclapping_d4_uncomp.avi\u001b[0m*\n",
            "\u001b[01;32mperson12_running_d1_uncomp.avi\u001b[0m*       \u001b[01;32mperson25_handwaving_d1_uncomp.avi\u001b[0m*\n",
            "\u001b[01;32mperson12_running_d2_uncomp.avi\u001b[0m*       \u001b[01;32mperson25_handwaving_d2_uncomp.avi\u001b[0m*\n",
            "\u001b[01;32mperson12_running_d3_uncomp.avi\u001b[0m*       \u001b[01;32mperson25_handwaving_d3_uncomp.avi\u001b[0m*\n",
            "\u001b[01;32mperson12_running_d4_uncomp.avi\u001b[0m*       \u001b[01;32mperson25_handwaving_d4_uncomp.avi\u001b[0m*\n",
            "\u001b[01;32mperson12_walking_d1_uncomp.avi\u001b[0m*       \u001b[01;32mperson25_jogging_d1_uncomp.avi\u001b[0m*\n",
            "\u001b[01;32mperson12_walking_d2_uncomp.avi\u001b[0m*       \u001b[01;32mperson25_jogging_d2_uncomp.avi\u001b[0m*\n",
            "\u001b[01;32mperson12_walking_d3_uncomp.avi\u001b[0m*       \u001b[01;32mperson25_jogging_d3_uncomp.avi\u001b[0m*\n",
            "\u001b[01;32mperson12_walking_d4_uncomp.avi\u001b[0m*       \u001b[01;32mperson25_jogging_d4_uncomp.avi\u001b[0m*\n",
            "\u001b[01;32mperson13_boxing_d1_uncomp.avi\u001b[0m*        \u001b[01;32mperson25_running_d1_uncomp.avi\u001b[0m*\n",
            "\u001b[01;32mperson13_boxing_d2_uncomp.avi\u001b[0m*        \u001b[01;32mperson25_running_d2_uncomp.avi\u001b[0m*\n",
            "\u001b[01;32mperson13_boxing_d3_uncomp.avi\u001b[0m*        \u001b[01;32mperson25_running_d3_uncomp.avi\u001b[0m*\n",
            "\u001b[01;32mperson13_boxing_d4_uncomp.avi\u001b[0m*        \u001b[01;32mperson25_running_d4_uncomp.avi\u001b[0m*\n",
            "\u001b[01;32mperson13_handclapping_d1_uncomp.avi\u001b[0m*  \u001b[01;32mperson25_walking_d1_uncomp.avi\u001b[0m*\n",
            "\u001b[01;32mperson13_handclapping_d2_uncomp.avi\u001b[0m*  \u001b[01;32mperson25_walking_d2_uncomp.avi\u001b[0m*\n",
            "\u001b[01;32mperson13_handclapping_d4_uncomp.avi\u001b[0m*  \u001b[01;32mperson25_walking_d3_uncomp.avi\u001b[0m*\n",
            "\u001b[01;32mperson13_handwaving_d1_uncomp.avi\u001b[0m*    \u001b[01;32mperson25_walking_d4_uncomp.avi\u001b[0m*\n",
            "\u001b[01;32mperson13_handwaving_d2_uncomp.avi\u001b[0m*    running.zip\n",
            "\u001b[01;32mperson13_handwaving_d3_uncomp.avi\u001b[0m*    \u001b[01;34msample_data\u001b[0m/\n",
            "\u001b[01;32mperson13_handwaving_d4_uncomp.avi\u001b[0m*    walking.zip\n"
          ],
          "name": "stdout"
        }
      ]
    },
    {
      "cell_type": "code",
      "metadata": {
        "id": "p8I95xvC6lQh",
        "colab_type": "code",
        "colab": {}
      },
      "source": [
        "import cv2,numpy as np, matplotlib.pyplot as plt"
      ],
      "execution_count": 0,
      "outputs": []
    },
    {
      "cell_type": "code",
      "metadata": {
        "id": "2xjpc7Dg_N_X",
        "colab_type": "code",
        "colab": {}
      },
      "source": [
        "dict={0:'walking',1:'jogging',2:'running',3:'boxing',4:'handwaving',5:'handclapping'}"
      ],
      "execution_count": 0,
      "outputs": []
    },
    {
      "cell_type": "code",
      "metadata": {
        "id": "Wg-zG6qJ_9fl",
        "colab_type": "code",
        "colab": {}
      },
      "source": [
        "p=[]\n",
        "label=[]\n",
        "for i in range(1,26):\n",
        "  q=[]\n",
        "  for k in range(0,6):\n",
        "    d=[]\n",
        "    for j in range(1,5):\n",
        "      cap=cv2.VideoCapture(\"./person\"+str(i).zfill(2)+\"_\"+dict.get(k)+\"_d\"+str(j)+\"_uncomp.avi\")\n",
        "      ar=[]\n",
        "      while(cap.isOpened()):\n",
        "        ret, frame = cap.read()\n",
        "        if(ret==True):\n",
        "          gray=cv2.cvtColor(frame,cv2.COLOR_BGR2GRAY)\n",
        "          gray=cv2.resize(gray, (50,50))\n",
        "          ar.append(gray)\n",
        "          \n",
        "        else:\n",
        "          break\n",
        "      d.append(ar)\n",
        "    p.append(d)\n",
        "    label.append(k)\n",
        "  \n"
      ],
      "execution_count": 0,
      "outputs": []
    },
    {
      "cell_type": "code",
      "metadata": {
        "id": "HQ_h9iP4DNDa",
        "colab_type": "code",
        "colab": {}
      },
      "source": [
        "len(p[23][2][0])"
      ],
      "execution_count": 0,
      "outputs": []
    },
    {
      "cell_type": "code",
      "metadata": {
        "id": "qojDVu2zC34i",
        "colab_type": "code",
        "outputId": "a4d27d60-61c6-485e-e0d7-6440e3f07ad7",
        "colab": {
          "base_uri": "https://localhost:8080/",
          "height": 366
        }
      },
      "source": [
        "\n",
        "plt.imshow(p[23][2][0])"
      ],
      "execution_count": 0,
      "outputs": [
        {
          "output_type": "execute_result",
          "data": {
            "text/plain": [
              "<matplotlib.image.AxesImage at 0x7f486811ba58>"
            ]
          },
          "metadata": {
            "tags": []
          },
          "execution_count": 65
        },
        {
          "output_type": "display_data",
          "data": {
            "image/png": "[encoded data removed]",
            "text/plain": [
              "<matplotlib.figure.Figure at 0x7f4867ee00b8>"
            ]
          },
          "metadata": {
            "tags": []
          }
        }
      ]
    },
    {
      "cell_type": "code",
      "metadata": {
        "id": "kEEIstCqVQUB",
        "colab_type": "code",
        "colab": {}
      },
      "source": [
        "\n",
        "np.save(\"person\", p)"
      ],
      "execution_count": 0,
      "outputs": []
    },
    {
      "cell_type": "code",
      "metadata": {
        "id": "24gUhO2zM3V9",
        "colab_type": "code",
        "colab": {}
      },
      "source": [
        "ls"
      ],
      "execution_count": 0,
      "outputs": []
    },
    {
      "cell_type": "code",
      "metadata": {
        "id": "enmDYZoERBc6",
        "colab_type": "code",
        "colab": {}
      },
      "source": [
        "!pip install -U -q PyDrive\n",
        "from pydrive.auth import GoogleAuth\n",
        "from pydrive.drive import GoogleDrive\n",
        "from google.colab import auth\n",
        "from oauth2client.client import GoogleCredentials\n",
        "\n",
        "# 1. Authenticate and create the PyDrive client.\n",
        "auth.authenticate_user()\n",
        "gauth = GoogleAuth()\n",
        "gauth.credentials = GoogleCredentials.get_application_default()\n",
        "drive = GoogleDrive(gauth)"
      ],
      "execution_count": 0,
      "outputs": []
    },
    {
      "cell_type": "code",
      "metadata": {
        "id": "TeuCRM0mWk1T",
        "colab_type": "code",
        "colab": {}
      },
      "source": [
        "ls"
      ],
      "execution_count": 0,
      "outputs": []
    },
    {
      "cell_type": "code",
      "metadata": {
        "id": "1t1eMnTRWDHM",
        "colab_type": "code",
        "colab": {}
      },
      "source": [
        "model_file = drive.CreateFile({'title' : 'person.npy'})\n",
        "model_file.SetContentFile('person.npy')\n",
        "model_file.Upload()"
      ],
      "execution_count": 0,
      "outputs": []
    },
    {
      "cell_type": "code",
      "metadata": {
        "id": "qfpfUx0kWpSf",
        "colab_type": "code",
        "colab": {}
      },
      "source": [
        "np.save(\"label\",label)"
      ],
      "execution_count": 0,
      "outputs": []
    },
    {
      "cell_type": "code",
      "metadata": {
        "id": "JU3E_UJ7Wuft",
        "colab_type": "code",
        "colab": {}
      },
      "source": [
        "model_file = drive.CreateFile({'title' : 'label.npy'})\n",
        "model_file.SetContentFile('label.npy')\n",
        "model_file.Upload()"
      ],
      "execution_count": 0,
      "outputs": []
    },
    {
      "cell_type": "code",
      "metadata": {
        "id": "nA4B6PKYN4sQ",
        "colab_type": "code",
        "colab": {}
      },
      "source": [
        "p=np.load('person.npy')"
      ],
      "execution_count": 0,
      "outputs": []
    },
    {
      "cell_type": "code",
      "metadata": {
        "id": "xJCKVhZgOCDC",
        "colab_type": "code",
        "colab": {}
      },
      "source": [
        "p1=np.array(p)"
      ],
      "execution_count": 0,
      "outputs": []
    },
    {
      "cell_type": "code",
      "metadata": {
        "id": "H6dhSt9CO2Xq",
        "colab_type": "code",
        "outputId": "ce2fdf2b-0811-43d6-da35-7e79c678b22a",
        "colab": {
          "base_uri": "https://localhost:8080/",
          "height": 34
        }
      },
      "source": [
        "p1.shape"
      ],
      "execution_count": 0,
      "outputs": [
        {
          "output_type": "execute_result",
          "data": {
            "text/plain": [
              "(150, 4)"
            ]
          },
          "metadata": {
            "tags": []
          },
          "execution_count": 30
        }
      ]
    },
    {
      "cell_type": "code",
      "metadata": {
        "id": "pG9k3m4cPT-q",
        "colab_type": "code",
        "outputId": "082aeeb2-0339-4b14-e3a0-b59a99fff2b5",
        "colab": {
          "base_uri": "https://localhost:8080/",
          "height": 34
        }
      },
      "source": [
        "len(p1[1][0])"
      ],
      "execution_count": 0,
      "outputs": [
        {
          "output_type": "execute_result",
          "data": {
            "text/plain": [
              "415"
            ]
          },
          "metadata": {
            "tags": []
          },
          "execution_count": 45
        }
      ]
    },
    {
      "cell_type": "code",
      "metadata": {
        "id": "tmnpvTSlU83Y",
        "colab_type": "code",
        "outputId": "c83f623a-9dfa-4d81-fec4-6e37192f4e42",
        "colab": {
          "base_uri": "https://localhost:8080/",
          "height": 34
        }
      },
      "source": [
        "405/15"
      ],
      "execution_count": 0,
      "outputs": [
        {
          "output_type": "execute_result",
          "data": {
            "text/plain": [
              "27.0"
            ]
          },
          "metadata": {
            "tags": []
          },
          "execution_count": 47
        }
      ]
    },
    {
      "cell_type": "code",
      "metadata": {
        "id": "E7hj49SQSK8q",
        "colab_type": "code",
        "colab": {}
      },
      "source": [
        "k=p1[1][2]"
      ],
      "execution_count": 0,
      "outputs": []
    },
    {
      "cell_type": "code",
      "metadata": {
        "id": "L2OhOgydSYqW",
        "colab_type": "code",
        "colab": {}
      },
      "source": [
        "k = k[0:375]"
      ],
      "execution_count": 0,
      "outputs": []
    },
    {
      "cell_type": "code",
      "metadata": {
        "id": "MjlCOqdXSR2h",
        "colab_type": "code",
        "outputId": "2fd10ad0-e32b-42ed-cdb5-b090b82e422d",
        "colab": {
          "base_uri": "https://localhost:8080/",
          "height": 34
        }
      },
      "source": [
        "type(p1[1][0])"
      ],
      "execution_count": 0,
      "outputs": [
        {
          "output_type": "execute_result",
          "data": {
            "text/plain": [
              "list"
            ]
          },
          "metadata": {
            "tags": []
          },
          "execution_count": 49
        }
      ]
    },
    {
      "cell_type": "code",
      "metadata": {
        "id": "1OKuPf48VkPD",
        "colab_type": "code",
        "colab": {}
      },
      "source": [
        "p1[1][0]= p1[1][0][0:405]"
      ],
      "execution_count": 0,
      "outputs": []
    },
    {
      "cell_type": "code",
      "metadata": {
        "id": "aXzVKoEWUrbv",
        "colab_type": "code",
        "colab": {}
      },
      "source": [
        "\n",
        "k=np.reshape(p1[1][0], (27,15,100,100))"
      ],
      "execution_count": 0,
      "outputs": []
    },
    {
      "cell_type": "code",
      "metadata": {
        "id": "Ht5ZDTKQQhqt",
        "colab_type": "code",
        "colab": {}
      },
      "source": [
        "train=[]\n",
        "depth=30\n",
        "for vid in range(150):\n",
        "  for part in range(4):\n",
        "    frames=len(p1[vid][part])\n",
        "    frames = frames - (frames%depth)\n",
        "    p1[vid][part] =  p1[vid][part][0:frames]\n",
        "    n = frames/depth\n",
        "    k=np.reshape(p1[vid][part], (int(n),depth,50,50))\n",
        "    train.append(k)"
      ],
      "execution_count": 0,
      "outputs": []
    },
    {
      "cell_type": "code",
      "metadata": {
        "id": "ER4VizZUUQRL",
        "colab_type": "code",
        "colab": {}
      },
      "source": [
        "label = [0,0,0,0,1,1,1,1,2,2,2,2,3,3,3,3,4,4,4,4,5,5,5,5]*25\n",
        "  "
      ],
      "execution_count": 0,
      "outputs": []
    },
    {
      "cell_type": "code",
      "metadata": {
        "id": "JZUsbWCjpffK",
        "colab_type": "code",
        "colab": {}
      },
      "source": [
        "p1 = 0\n",
        "p=0"
      ],
      "execution_count": 0,
      "outputs": []
    },
    {
      "cell_type": "code",
      "metadata": {
        "id": "FNDz7OTwqBWc",
        "colab_type": "code",
        "outputId": "14fa2774-cefe-4ada-9a95-c99889d88a9d",
        "colab": {
          "base_uri": "https://localhost:8080/",
          "height": 34
        }
      },
      "source": [
        "y"
      ],
      "execution_count": 0,
      "outputs": [
        {
          "output_type": "execute_result",
          "data": {
            "text/plain": [
              "[1, 1, 1, 1, 1]"
            ]
          },
          "metadata": {
            "tags": []
          },
          "execution_count": 76
        }
      ]
    },
    {
      "cell_type": "code",
      "metadata": {
        "id": "-TRAaV5pWBFP",
        "colab_type": "code",
        "outputId": "d7462801-311e-4fb7-a3ae-78fea370d9c2",
        "colab": {
          "base_uri": "https://localhost:8080/",
          "height": 34
        }
      },
      "source": [
        "len(train)"
      ],
      "execution_count": 0,
      "outputs": [
        {
          "output_type": "execute_result",
          "data": {
            "text/plain": [
              "600"
            ]
          },
          "metadata": {
            "tags": []
          },
          "execution_count": 13
        }
      ]
    },
    {
      "cell_type": "code",
      "metadata": {
        "id": "haXruLsaofuW",
        "colab_type": "code",
        "outputId": "bcaa901e-f913-42a2-91ec-95a3e2365b34",
        "colab": {
          "base_uri": "https://localhost:8080/",
          "height": 34
        }
      },
      "source": [
        "len(train[1])"
      ],
      "execution_count": 0,
      "outputs": [
        {
          "output_type": "execute_result",
          "data": {
            "text/plain": [
              "22"
            ]
          },
          "metadata": {
            "tags": []
          },
          "execution_count": 15
        }
      ]
    },
    {
      "cell_type": "code",
      "metadata": {
        "id": "vhe40KBnpAsT",
        "colab_type": "code",
        "colab": {}
      },
      "source": [
        "x=[]\n",
        "y=[]\n",
        "for i in range(600):\n",
        "  n=len(train[i])\n",
        "  for j in range(n):\n",
        "    x.append(train[i][j])\n",
        "  y+=[label[i]]*n\n"
      ],
      "execution_count": 0,
      "outputs": []
    },
    {
      "cell_type": "code",
      "metadata": {
        "id": "HZJZx7TlwXXA",
        "colab_type": "code",
        "outputId": "e8ca2c53-27c8-4e6e-80b2-82985b40f231",
        "colab": {
          "base_uri": "https://localhost:8080/",
          "height": 34
        }
      },
      "source": [
        "import keras\n",
        "from keras.models import Sequential\n",
        "from keras.layers.core import Dense, Dropout, Activation, Flatten\n",
        "from keras.layers.convolutional import Convolution3D, MaxPooling3D\n",
        "from sklearn.model_selection import train_test_split"
      ],
      "execution_count": 0,
      "outputs": [
        {
          "output_type": "stream",
          "text": [
            "Using TensorFlow backend.\n"
          ],
          "name": "stderr"
        }
      ]
    },
    {
      "cell_type": "code",
      "metadata": {
        "id": "c9D8v70-xFPw",
        "colab_type": "code",
        "colab": {}
      },
      "source": [
        "train = 0"
      ],
      "execution_count": 0,
      "outputs": []
    },
    {
      "cell_type": "code",
      "metadata": {
        "id": "170OwEZlrHWn",
        "colab_type": "code",
        "colab": {}
      },
      "source": [
        "x = np.array(x)"
      ],
      "execution_count": 0,
      "outputs": []
    },
    {
      "cell_type": "code",
      "metadata": {
        "id": "aAndcEY7rKU3",
        "colab_type": "code",
        "outputId": "a7bc8e28-20e6-4adc-977e-9e31ed41aa19",
        "colab": {
          "base_uri": "https://localhost:8080/",
          "height": 34
        }
      },
      "source": [
        "\n",
        "x.shape"
      ],
      "execution_count": 0,
      "outputs": [
        {
          "output_type": "execute_result",
          "data": {
            "text/plain": [
              "(9398, 30, 50, 50)"
            ]
          },
          "metadata": {
            "tags": []
          },
          "execution_count": 15
        }
      ]
    },
    {
      "cell_type": "code",
      "metadata": {
        "id": "gYY4qeqk8bR0",
        "colab_type": "code",
        "outputId": "7e4467fa-a5bc-4c4e-de60-abcc84ed5408",
        "colab": {
          "base_uri": "https://localhost:8080/",
          "height": 34
        }
      },
      "source": [
        ""
      ],
      "execution_count": 0,
      "outputs": [
        {
          "output_type": "execute_result",
          "data": {
            "text/plain": [
              "0.0"
            ]
          },
          "metadata": {
            "tags": []
          },
          "execution_count": 39
        }
      ]
    },
    {
      "cell_type": "code",
      "metadata": {
        "id": "39jnPnWrre63",
        "colab_type": "code",
        "colab": {}
      },
      "source": [
        "x = np.reshape(x,(9398,30,50,50,1))"
      ],
      "execution_count": 0,
      "outputs": []
    },
    {
      "cell_type": "code",
      "metadata": {
        "id": "mI13-7ZBteXk",
        "colab_type": "code",
        "colab": {}
      },
      "source": [
        "y = keras.utils.to_categorical(y, num_classes=None)"
      ],
      "execution_count": 0,
      "outputs": []
    },
    {
      "cell_type": "code",
      "metadata": {
        "id": "CUAouzNYsLs1",
        "colab_type": "code",
        "colab": {}
      },
      "source": [
        "xtrain, xtest, ytrain,ytest =  train_test_split(x, y, test_size=0.2, random_state=4)\n"
      ],
      "execution_count": 0,
      "outputs": []
    },
    {
      "cell_type": "code",
      "metadata": {
        "id": "c0VT1j5L0rv8",
        "colab_type": "code",
        "colab": {}
      },
      "source": [
        "x=0\n",
        "train =0\n",
        "p=0\n",
        "p1=0"
      ],
      "execution_count": 0,
      "outputs": []
    },
    {
      "cell_type": "code",
      "metadata": {
        "id": "98URz5GzEu4M",
        "colab_type": "code",
        "colab": {}
      },
      "source": [
        ""
      ],
      "execution_count": 0,
      "outputs": []
    },
    {
      "cell_type": "code",
      "metadata": {
        "id": "xKAB0tEgtg8H",
        "colab_type": "code",
        "colab": {}
      },
      "source": [
        "xtrain, xvali, ytrain,yvali = train_test_split(xtrain, ytrain, test_size=0.2, random_state=4)"
      ],
      "execution_count": 0,
      "outputs": []
    },
    {
      "cell_type": "code",
      "metadata": {
        "id": "r_VbZcgBxQCT",
        "colab_type": "code",
        "outputId": "50a1019f-4354-45d6-dcaf-998b729d07a4",
        "colab": {
          "base_uri": "https://localhost:8080/",
          "height": 34
        }
      },
      "source": [
        "len(xvali)"
      ],
      "execution_count": 0,
      "outputs": [
        {
          "output_type": "execute_result",
          "data": {
            "text/plain": [
              "1504"
            ]
          },
          "metadata": {
            "tags": []
          },
          "execution_count": 19
        }
      ]
    },
    {
      "cell_type": "code",
      "metadata": {
        "id": "NcZptD-d1S20",
        "colab_type": "code",
        "colab": {}
      },
      "source": [
        "batch_size = 2\n",
        "nb_classes = 6\n",
        "nb_epoch =50\n",
        "\n",
        "nb_filters = [32, 32]\n",
        "nb_pool = [2, 2]\n",
        "nb_conv = [3,3]"
      ],
      "execution_count": 0,
      "outputs": []
    },
    {
      "cell_type": "code",
      "metadata": {
        "id": "_zYoTubz1T1x",
        "colab_type": "code",
        "outputId": "400e6587-b5ca-43d2-ae22-608062fbe32c",
        "colab": {
          "base_uri": "https://localhost:8080/",
          "height": 34
        }
      },
      "source": [
        "nb_filters[0]"
      ],
      "execution_count": 0,
      "outputs": [
        {
          "output_type": "execute_result",
          "data": {
            "text/plain": [
              "32"
            ]
          },
          "metadata": {
            "tags": []
          },
          "execution_count": 21
        }
      ]
    },
    {
      "cell_type": "code",
      "metadata": {
        "id": "2yyD32IW3mBU",
        "colab_type": "code",
        "colab": {}
      },
      "source": [
        "xtrain = xtrain/255.\n"
      ],
      "execution_count": 0,
      "outputs": []
    },
    {
      "cell_type": "code",
      "metadata": {
        "id": "cniEFZWdRRQp",
        "colab_type": "code",
        "colab": {}
      },
      "source": [
        "xtrain[0]"
      ],
      "execution_count": 0,
      "outputs": []
    },
    {
      "cell_type": "code",
      "metadata": {
        "id": "5DGVwXH6EQ4I",
        "colab_type": "code",
        "colab": {}
      },
      "source": [
        "xtest =  xtest/255.\n"
      ],
      "execution_count": 0,
      "outputs": []
    },
    {
      "cell_type": "code",
      "metadata": {
        "id": "_Wu0pFwvEQ1A",
        "colab_type": "code",
        "colab": {}
      },
      "source": [
        "\n",
        "xvali = xvali/255."
      ],
      "execution_count": 0,
      "outputs": []
    },
    {
      "cell_type": "code",
      "metadata": {
        "id": "XMe8DykjCWLO",
        "colab_type": "code",
        "colab": {}
      },
      "source": [
        "import glob, os\n"
      ],
      "execution_count": 0,
      "outputs": []
    },
    {
      "cell_type": "code",
      "metadata": {
        "id": "uApO_4sXFxsF",
        "colab_type": "code",
        "colab": {}
      },
      "source": [
        "a=glob.glob(\"*.avi\")"
      ],
      "execution_count": 0,
      "outputs": []
    },
    {
      "cell_type": "code",
      "metadata": {
        "id": "i0ckPCpvE-VU",
        "colab_type": "code",
        "colab": {}
      },
      "source": [
        "for i in a:\n",
        "  os.remove(i)"
      ],
      "execution_count": 0,
      "outputs": []
    },
    {
      "cell_type": "code",
      "metadata": {
        "id": "UFhDC79PGZOj",
        "colab_type": "code",
        "colab": {}
      },
      "source": [
        "a = ['boxing.zip',       'handwaving.zip'  ,  'running.zip'   , 'walking.zip.1',\n",
        "'boxing.zip.1'       , 'handwaving.zip.1' , 'running.zip.1',\n",
        "'handclapping.zip'  ,  'jogging.zip'       ,\n",
        "'handclapping.zip.1'  ,'jogging.zip.1'   ,  'walking.zip']\n"
      ],
      "execution_count": 0,
      "outputs": []
    },
    {
      "cell_type": "code",
      "metadata": {
        "id": "9MU62uItHDHP",
        "colab_type": "code",
        "outputId": "c41de374-0ac1-4103-e920-09621000f2eb",
        "colab": {
          "base_uri": "https://localhost:8080/",
          "height": 34
        }
      },
      "source": [
        "ls"
      ],
      "execution_count": 0,
      "outputs": [
        {
          "output_type": "stream",
          "text": [
            "\u001b[0m\u001b[01;34msample_data\u001b[0m/\n"
          ],
          "name": "stdout"
        }
      ]
    },
    {
      "cell_type": "code",
      "metadata": {
        "id": "CFc9yXP8W-l3",
        "colab_type": "code",
        "outputId": "df2ba8a9-c5be-4bb9-d160-b69108b93d78",
        "colab": {
          "base_uri": "https://localhost:8080/",
          "height": 2106
        }
      },
      "source": [
        "\n",
        "# normalize train\n",
        "model = Sequential()\n",
        "keras.layers.Convolution3D(32, (3,3,3), strides=(1, 1, 1), padding='valid', data_format=None, dilation_rate=(1, 1, 1), activation='relu', input_shape=(30,50,50,1))\n",
        "model.add(MaxPooling3D(pool_size=(nb_pool[0], nb_pool[0], nb_pool[0])))\n",
        "model.add(Convolution3D(64,(3,3,3),activation='relu'))\n",
        "model.add(MaxPooling3D(pool_size=(nb_pool[0], nb_pool[0], nb_pool[0])))\n",
        "model.add(Convolution3D(32,(3,3,3),activation='relu'))\n",
        "model.add(MaxPooling3D(pool_size=(nb_pool[0], nb_pool[0], nb_pool[0])))\n",
        "\n",
        "#model.add(Dropout(0.7))\n",
        "\n",
        "model.add(Flatten())\n",
        "\n",
        "model.add(Dense(1024, init='normal', activation='relu'))\n",
        "\n",
        "model.add(Dropout(0.8))\n",
        "\n",
        "model.add(Dense(nb_classes,init='normal'))\n",
        "\n",
        "model.add(Activation('softmax'))\n",
        "\n",
        "model.compile(loss='categorical_crossentropy', optimizer='adam')\n",
        "hist = model.fit(xtrain, ytrain, validation_split=0.2,batch_size=batch_size,nb_epoch = nb_epoch,verbose=1,shuffle=True)\n",
        "\n",
        "\n",
        "\n",
        "score = model.evaluate(xtest, ytest, batch_size=batch_size)\n",
        "print('Test score:', score[0])\n",
        "print('Test accuracy:', score[1]) "
      ],
      "execution_count": 0,
      "outputs": [
        {
          "output_type": "stream",
          "text": [
            "/usr/local/lib/python3.6/dist-packages/ipykernel_launcher.py:13: UserWarning: Update your `Dense` call to the Keras 2 API: `Dense(1024, activation=\"relu\", kernel_initializer=\"normal\")`\n",
            "  del sys.path[0]\n",
            "/usr/local/lib/python3.6/dist-packages/ipykernel_launcher.py:17: UserWarning: Update your `Dense` call to the Keras 2 API: `Dense(6, kernel_initializer=\"normal\")`\n",
            "/usr/local/lib/python3.6/dist-packages/ipykernel_launcher.py:22: UserWarning: The `nb_epoch` argument in `fit` has been renamed `epochs`.\n"
          ],
          "name": "stderr"
        },
        {
          "output_type": "stream",
          "text": [
            "Train on 6014 samples, validate on 1504 samples\n",
            "Epoch 1/50\n",
            "6014/6014 [==============================] - 47s 8ms/step - loss: 1.2639 - val_loss: 1.0464\n",
            "Epoch 2/50\n",
            "6014/6014 [==============================] - 44s 7ms/step - loss: 1.0825 - val_loss: 0.9816\n",
            "Epoch 3/50\n",
            "6014/6014 [==============================] - 44s 7ms/step - loss: 1.0190 - val_loss: 0.9440\n",
            "Epoch 4/50\n",
            "6014/6014 [==============================] - 44s 7ms/step - loss: 0.9764 - val_loss: 0.9532\n",
            "Epoch 5/50\n",
            "6014/6014 [==============================] - 44s 7ms/step - loss: 0.9532 - val_loss: 0.9144\n",
            "Epoch 6/50\n",
            "6014/6014 [==============================] - 44s 7ms/step - loss: 0.8953 - val_loss: 0.9111\n",
            "Epoch 7/50\n",
            "6014/6014 [==============================] - 45s 8ms/step - loss: 0.8786 - val_loss: 0.8646\n",
            "Epoch 8/50\n",
            "6014/6014 [==============================] - 45s 7ms/step - loss: 0.8594 - val_loss: 0.8436\n",
            "Epoch 9/50\n",
            "6014/6014 [==============================] - 44s 7ms/step - loss: 0.8314 - val_loss: 0.8190\n",
            "Epoch 10/50\n",
            "6014/6014 [==============================] - 44s 7ms/step - loss: 0.8253 - val_loss: 0.8862\n",
            "Epoch 11/50\n",
            "6014/6014 [==============================] - 44s 7ms/step - loss: 0.8084 - val_loss: 0.8909\n",
            "Epoch 12/50\n",
            "6014/6014 [==============================] - 45s 7ms/step - loss: 0.8139 - val_loss: 0.8669\n",
            "Epoch 13/50\n",
            "6014/6014 [==============================] - 45s 7ms/step - loss: 0.7840 - val_loss: 0.8450\n",
            "Epoch 14/50\n",
            "6014/6014 [==============================] - 46s 8ms/step - loss: 0.7764 - val_loss: 0.8423\n",
            "Epoch 15/50\n",
            "6014/6014 [==============================] - 45s 7ms/step - loss: 0.7611 - val_loss: 0.7926\n",
            "Epoch 16/50\n",
            "6014/6014 [==============================] - 46s 8ms/step - loss: 0.7623 - val_loss: 0.8156\n",
            "Epoch 17/50\n",
            "6014/6014 [==============================] - 45s 7ms/step - loss: 0.7710 - val_loss: 0.8095\n",
            "Epoch 18/50\n",
            "6014/6014 [==============================] - 45s 7ms/step - loss: 0.7409 - val_loss: 0.8694\n",
            "Epoch 19/50\n",
            "6014/6014 [==============================] - 45s 7ms/step - loss: 0.7443 - val_loss: 0.8205\n",
            "Epoch 20/50\n",
            "6014/6014 [==============================] - 45s 7ms/step - loss: 0.7299 - val_loss: 0.8548\n",
            "Epoch 21/50\n",
            "6014/6014 [==============================] - 45s 8ms/step - loss: 0.7279 - val_loss: 0.8690\n",
            "Epoch 22/50\n",
            "6014/6014 [==============================] - 45s 8ms/step - loss: 0.7036 - val_loss: 0.7963\n",
            "Epoch 23/50\n",
            "6014/6014 [==============================] - 45s 8ms/step - loss: 0.7279 - val_loss: 0.8211\n",
            "Epoch 24/50\n",
            "6014/6014 [==============================] - 45s 7ms/step - loss: 0.7266 - val_loss: 0.9312\n",
            "Epoch 25/50\n",
            "6014/6014 [==============================] - 45s 8ms/step - loss: 0.6971 - val_loss: 0.8065\n",
            "Epoch 26/50\n",
            "6014/6014 [==============================] - 45s 8ms/step - loss: 0.7008 - val_loss: 0.8671\n",
            "Epoch 27/50\n",
            "6014/6014 [==============================] - 46s 8ms/step - loss: 0.6950 - val_loss: 0.7908\n",
            "Epoch 28/50\n",
            "6014/6014 [==============================] - 45s 7ms/step - loss: 0.7058 - val_loss: 0.9372\n",
            "Epoch 29/50\n",
            "6014/6014 [==============================] - 44s 7ms/step - loss: 0.6951 - val_loss: 0.7725\n",
            "Epoch 30/50\n",
            "6014/6014 [==============================] - 44s 7ms/step - loss: 0.6774 - val_loss: 0.7390\n",
            "Epoch 31/50\n",
            "6014/6014 [==============================] - 44s 7ms/step - loss: 0.6978 - val_loss: 0.8219\n",
            "Epoch 32/50\n",
            "6014/6014 [==============================] - 44s 7ms/step - loss: 0.6827 - val_loss: 0.7809\n",
            "Epoch 33/50\n",
            "6014/6014 [==============================] - 44s 7ms/step - loss: 0.6658 - val_loss: 0.8100\n",
            "Epoch 34/50\n",
            "6014/6014 [==============================] - 44s 7ms/step - loss: 0.6817 - val_loss: 0.9408\n",
            "Epoch 35/50\n",
            "6014/6014 [==============================] - 44s 7ms/step - loss: 0.6971 - val_loss: 0.8406\n",
            "Epoch 36/50\n",
            "6014/6014 [==============================] - 44s 7ms/step - loss: 0.6828 - val_loss: 1.0292\n",
            "Epoch 37/50\n",
            "6014/6014 [==============================] - 44s 7ms/step - loss: 0.6512 - val_loss: 0.8105\n",
            "Epoch 38/50\n",
            "6014/6014 [==============================] - 44s 7ms/step - loss: 0.6649 - val_loss: 0.8340\n",
            "Epoch 39/50\n",
            "6014/6014 [==============================] - 44s 7ms/step - loss: 0.6661 - val_loss: 0.8362\n",
            "Epoch 40/50\n",
            "6014/6014 [==============================] - 45s 7ms/step - loss: 0.6309 - val_loss: 1.0655\n",
            "Epoch 41/50\n",
            "6014/6014 [==============================] - 45s 7ms/step - loss: 0.6472 - val_loss: 0.8942\n",
            "Epoch 42/50\n",
            "6014/6014 [==============================] - 45s 7ms/step - loss: 0.6503 - val_loss: 0.9054\n",
            "Epoch 43/50\n",
            "6014/6014 [==============================] - 45s 7ms/step - loss: 0.6332 - val_loss: 0.9265\n",
            "Epoch 44/50\n",
            "6014/6014 [==============================] - 46s 8ms/step - loss: 0.6483 - val_loss: 0.8757\n",
            "Epoch 45/50\n",
            "6014/6014 [==============================] - 45s 7ms/step - loss: 0.6382 - val_loss: 0.9089\n",
            "Epoch 46/50\n",
            "6014/6014 [==============================] - 45s 7ms/step - loss: 0.6662 - val_loss: 0.8867\n",
            "Epoch 47/50\n",
            "6014/6014 [==============================] - 45s 7ms/step - loss: 0.6277 - val_loss: 0.9700\n",
            "Epoch 48/50\n",
            "6014/6014 [==============================] - 45s 7ms/step - loss: 0.6445 - val_loss: 1.0259\n",
            "Epoch 49/50\n",
            "6014/6014 [==============================] - 45s 7ms/step - loss: 0.6279 - val_loss: 0.9796\n",
            "Epoch 50/50\n",
            "6014/6014 [==============================] - 45s 7ms/step - loss: 0.6256 - val_loss: 1.0349\n",
            "1880/1880 [==============================] - 4s 2ms/step\n"
          ],
          "name": "stdout"
        },
        {
          "output_type": "error",
          "ename": "IndexError",
          "evalue": "ignored",
          "traceback": [
            "\u001b[0;31m---------------------------------------------------------------------------\u001b[0m",
            "\u001b[0;31mIndexError\u001b[0m                                Traceback (most recent call last)",
            "\u001b[0;32m<ipython-input-25-04a57cd9f14f>\u001b[0m in \u001b[0;36m<module>\u001b[0;34m()\u001b[0m\n\u001b[1;32m     25\u001b[0m \u001b[0;34m\u001b[0m\u001b[0m\n\u001b[1;32m     26\u001b[0m \u001b[0mscore\u001b[0m \u001b[0;34m=\u001b[0m \u001b[0mmodel\u001b[0m\u001b[0;34m.\u001b[0m\u001b[0mevaluate\u001b[0m\u001b[0;34m(\u001b[0m\u001b[0mxtest\u001b[0m\u001b[0;34m,\u001b[0m \u001b[0mytest\u001b[0m\u001b[0;34m,\u001b[0m \u001b[0mbatch_size\u001b[0m\u001b[0;34m=\u001b[0m\u001b[0mbatch_size\u001b[0m\u001b[0;34m)\u001b[0m\u001b[0;34m\u001b[0m\u001b[0;34m\u001b[0m\u001b[0m\n\u001b[0;32m---> 27\u001b[0;31m \u001b[0mprint\u001b[0m\u001b[0;34m(\u001b[0m\u001b[0;34m'Test score:'\u001b[0m\u001b[0;34m,\u001b[0m \u001b[0mscore\u001b[0m\u001b[0;34m[\u001b[0m\u001b[0;36m0\u001b[0m\u001b[0;34m]\u001b[0m\u001b[0;34m)\u001b[0m\u001b[0;34m\u001b[0m\u001b[0;34m\u001b[0m\u001b[0m\n\u001b[0m\u001b[1;32m     28\u001b[0m \u001b[0mprint\u001b[0m\u001b[0;34m(\u001b[0m\u001b[0;34m'Test accuracy:'\u001b[0m\u001b[0;34m,\u001b[0m \u001b[0mscore\u001b[0m\u001b[0;34m[\u001b[0m\u001b[0;36m1\u001b[0m\u001b[0;34m]\u001b[0m\u001b[0;34m)\u001b[0m\u001b[0;34m\u001b[0m\u001b[0;34m\u001b[0m\u001b[0m\n",
            "\u001b[0;31mIndexError\u001b[0m: invalid index to scalar variable."
          ]
        }
      ]
    },
    {
      "cell_type": "code",
      "metadata": {
        "id": "KTUqynT945gA",
        "colab_type": "code",
        "outputId": "7e22138b-3da3-4b78-9740-196d36f64785",
        "colab": {
          "base_uri": "https://localhost:8080/",
          "height": 34
        }
      },
      "source": [
        "score*100"
      ],
      "execution_count": 0,
      "outputs": [
        {
          "output_type": "execute_result",
          "data": {
            "text/plain": [
              "96.14446384297825"
            ]
          },
          "metadata": {
            "tags": []
          },
          "execution_count": 27
        }
      ]
    },
    {
      "cell_type": "code",
      "metadata": {
        "id": "_nOyU1U-ek7F",
        "colab_type": "code",
        "colab": {}
      },
      "source": [
        ""
      ],
      "execution_count": 0,
      "outputs": []
    }
  ]
}