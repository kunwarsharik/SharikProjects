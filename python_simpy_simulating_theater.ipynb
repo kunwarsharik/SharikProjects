{
  "nbformat": 4,
  "nbformat_minor": 0,
  "metadata": {
    "colab": {
      "name": "python simpy simulating theater.ipynb",
      "provenance": [],
      "collapsed_sections": [],
      "authorship_tag": "ABX9TyPqnG5Q0zxbDHX/bTqrksi1",
      "include_colab_link": true
    },
    "kernelspec": {
      "name": "python3",
      "display_name": "Python 3"
    },
    "language_info": {
      "name": "python"
    }
  },
  "cells": [
    {
      "cell_type": "markdown",
      "metadata": {
        "id": "view-in-github",
        "colab_type": "text"
      },
      "source": [
        "<a href=\"https://colab.research.google.com/github/kunwarsharik/SharikProjects/blob/master/python_simpy_simulating_theater.ipynb\" target=\"_parent\"><img src=\"https://colab.research.google.com/assets/colab-badge.svg\" alt=\"Open In Colab\"/></a>"
      ]
    },
    {
      "cell_type": "code",
      "metadata": {
        "colab": {
          "base_uri": "https://localhost:8080/"
        },
        "id": "-brWfKnkGdKm",
        "outputId": "1fd1cb10-c438-4929-f8aa-339325b61e8b"
      },
      "source": [
        "!pip install simpy"
      ],
      "execution_count": 1,
      "outputs": [
        {
          "output_type": "stream",
          "name": "stdout",
          "text": [
            "Collecting simpy\n",
            "  Downloading simpy-4.0.1-py2.py3-none-any.whl (29 kB)\n",
            "Installing collected packages: simpy\n",
            "Successfully installed simpy-4.0.1\n"
          ]
        }
      ]
    },
    {
      "cell_type": "code",
      "metadata": {
        "id": "O8Gr23pQGi05"
      },
      "source": [
        "import simpy\n",
        "import random\n",
        "import statistics"
      ],
      "execution_count": 2,
      "outputs": []
    },
    {
      "cell_type": "code",
      "metadata": {
        "id": "U7p1l_N2Gl6I"
      },
      "source": [
        "wait_times = []"
      ],
      "execution_count": 99,
      "outputs": []
    },
    {
      "cell_type": "code",
      "metadata": {
        "id": "pZ2TRORnGoOA"
      },
      "source": [
        "class Theater(object):\n",
        "    def __init__(self, env, num_cashiers, num_servers, num_ushers):\n",
        "        self.env = env\n",
        "        self.cashier = simpy.Resource(env, num_cashiers)\n",
        "        self.server = simpy.Resource(env, num_servers)\n",
        "        self.usher = simpy.Resource(env, num_ushers)\n",
        "\n",
        "    def purchase_ticket(self, moviegoer):\n",
        "        yield self.env.timeout(random.randint(1, 3))\n",
        "\n",
        "    def check_ticket(self, moviegoer):\n",
        "        yield self.env.timeout(3 / 60)\n",
        "\n",
        "    def sell_food(self, moviegoer):\n",
        "        yield self.env.timeout(random.randint(1, 5))\n",
        "\n",
        "def go_to_movies(env, moviegoer, theater):\n",
        "# Moviegoer arrives at the theater\n",
        "    arrival_time = env.now\n",
        "\n",
        "    with theater.cashier.request() as request:\n",
        "        yield request\n",
        "        yield env.process(theater.purchase_ticket(moviegoer))\n",
        "        \n",
        "    with theater.usher.request() as request:\n",
        "        yield request\n",
        "        yield env.process(theater.check_ticket(moviegoer))\n",
        "    \n",
        "    if random.choice([True, False]):\n",
        "        with theater.server.request() as request:\n",
        "            yield request\n",
        "            yield env.process(theater.sell_food(moviegoer))\n",
        "    wait_times.append(env.now - arrival_time)"
      ],
      "execution_count": 100,
      "outputs": []
    },
    {
      "cell_type": "markdown",
      "metadata": {
        "id": "QVRyUjLrIYC1"
      },
      "source": [
        ""
      ]
    },
    {
      "cell_type": "code",
      "metadata": {
        "id": "RbbzYu3DCbxq"
      },
      "source": [
        "def run_theater(env, num_cashiers, num_servers, num_ushers):\n",
        "    theater = Theater(env, num_cashiers, num_servers, num_ushers)\n",
        "    for moviegoer in range(3):\n",
        "        env.process(go_to_movies(env, moviegoer, theater))\n",
        "    while True:\n",
        "        yield env.timeout(0.20)  # Wait a bit before generating a new person\n",
        "        moviegoer += 1\n",
        "        env.process(go_to_movies(env, moviegoer, theater))"
      ],
      "execution_count": 101,
      "outputs": []
    },
    {
      "cell_type": "code",
      "metadata": {
        "id": "UXqIbfQcC2Jc"
      },
      "source": [
        "def get_average_wait_time(wait_times):\n",
        "    average_wait = statistics.mean(wait_times)"
      ],
      "execution_count": 102,
      "outputs": []
    },
    {
      "cell_type": "code",
      "metadata": {
        "id": "TS6-IYjQC5Gg"
      },
      "source": [
        "def calculate_wait_time(wait_times):\n",
        "    average_wait = statistics.mean(wait_times)\n",
        "    # Pretty print the results\n",
        "    minutes, frac_minutes = divmod(average_wait, 1)\n",
        "    seconds = frac_minutes * 60\n",
        "    return round(minutes), round(seconds)"
      ],
      "execution_count": 105,
      "outputs": []
    },
    {
      "cell_type": "code",
      "metadata": {
        "id": "ZTrubM1rC-e5"
      },
      "source": [
        "def get_user_input():\n",
        "    num_cashiers = 1#input(\"Input # of cashiers working: \")\n",
        "    num_servers = 1#input(\"Input # of servers working: \")\n",
        "    num_ushers = 1#input(\"Input # of ushers working: \")\n",
        "    params = [num_cashiers, num_servers, num_ushers]\n",
        "    if all(str(i).isdigit() for i in params):  # Check input is valid\n",
        "        params = [int(x) for x in params]\n",
        "    else:\n",
        "        print(\n",
        "            \"Could not parse input. The simulation will use default values:\",\n",
        "            \"\\n1 cashier, 1 server, 1 usher.\",\n",
        "        )\n",
        "        params = [1, 1, 1]\n",
        "    return params"
      ],
      "execution_count": 107,
      "outputs": []
    },
    {
      "cell_type": "code",
      "metadata": {
        "id": "P1snFk04DC4l"
      },
      "source": [
        "def main():\n",
        "  # Setup\n",
        "  random.seed(42)\n",
        "  num_cashiers, num_servers, num_ushers = get_user_input()\n",
        "\n",
        "  # Run the simulation\n",
        "  env = simpy.Environment()\n",
        "  env.process(run_theater(env, num_cashiers, num_servers, num_ushers))\n",
        "  env.run(until=90)\n",
        "\n",
        "  # View the results\n",
        "  mins, secs = calculate_wait_time(wait_times)\n",
        "  print(\n",
        "      \"Running simulation...\",\n",
        "      f\"\\nThe average wait time is {mins} minutes and {secs} seconds.\",\n",
        "  )"
      ],
      "execution_count": 108,
      "outputs": []
    },
    {
      "cell_type": "code",
      "metadata": {
        "colab": {
          "base_uri": "https://localhost:8080/"
        },
        "id": "-RpiqnMaFYXY",
        "outputId": "d09f2645-abcd-4db4-f177-c84be673616e"
      },
      "source": [
        "main()"
      ],
      "execution_count": 109,
      "outputs": [
        {
          "output_type": "stream",
          "name": "stdout",
          "text": [
            "Running simulation... \n",
            "The average wait time is 42 minutes and 53 seconds.\n"
          ]
        }
      ]
    },
    {
      "cell_type": "code",
      "metadata": {
        "id": "xNgH9eSCNmj3"
      },
      "source": [
        ""
      ],
      "execution_count": null,
      "outputs": []
    }
  ]
}