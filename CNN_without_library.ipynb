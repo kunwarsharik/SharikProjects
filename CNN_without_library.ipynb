{
  "nbformat": 4,
  "nbformat_minor": 0,
  "metadata": {
    "colab": {
      "name": "CNN without library.ipynb",
      "provenance": [],
      "collapsed_sections": [],
      "authorship_tag": "ABX9TyP5gpZh1/zwgcO42KvUVpEY",
      "include_colab_link": true
    },
    "kernelspec": {
      "name": "python3",
      "display_name": "Python 3"
    }
  },
  "cells": [
    {
      "cell_type": "markdown",
      "metadata": {
        "id": "view-in-github",
        "colab_type": "text"
      },
      "source": [
        "<a href=\"https://colab.research.google.com/github/kunwarsharik/SharikProjects/blob/master/CNN_without_library.ipynb\" target=\"_parent\"><img src=\"https://colab.research.google.com/assets/colab-badge.svg\" alt=\"Open In Colab\"/></a>"
      ]
    },
    {
      "cell_type": "code",
      "metadata": {
        "id": "5agmK-QFVlaf",
        "colab_type": "code",
        "outputId": "ae5334c6-15f8-4b06-e59e-4ff251fc70f6",
        "colab": {
          "base_uri": "https://localhost:8080/",
          "height": 97
        }
      },
      "source": [
        "import numpy as np\n",
        "from keras.datasets import mnist"
      ],
      "execution_count": 0,
      "outputs": [
        {
          "output_type": "stream",
          "text": [
            "Using TensorFlow backend.\n"
          ],
          "name": "stderr"
        },
        {
          "output_type": "display_data",
          "data": {
            "text/html": [
              "<p style=\"color: red;\">\n",
              "The default version of TensorFlow in Colab will soon switch to TensorFlow 2.x.<br>\n",
              "We recommend you <a href=\"https://www.tensorflow.org/guide/migrate\" target=\"_blank\">upgrade</a> now \n",
              "or ensure your notebook will continue to use TensorFlow 1.x via the <code>%tensorflow_version 1.x</code> magic:\n",
              "<a href=\"https://colab.research.google.com/notebooks/tensorflow_version.ipynb\" target=\"_blank\">more info</a>.</p>\n"
            ],
            "text/plain": [
              "<IPython.core.display.HTML object>"
            ]
          },
          "metadata": {
            "tags": []
          }
        }
      ]
    },
    {
      "cell_type": "code",
      "metadata": {
        "id": "ePYkWfT2GSl7",
        "colab_type": "code",
        "colab": {}
      },
      "source": [
        " #for cross-entropy loss in 10 class problem, the actual class is only we need to look for gradient rest \n",
        " #are loke constant so no need calculate they are 0. the predicted is used as -1/p(i) which is diff of log\n",
        "class Softmax:\n",
        "    def __init__(self, input_len, nodes):\n",
        "        self.weights = np.random.randn(input_len, nodes) / input_len\n",
        "        self.biases = np.zeros(nodes)\n",
        "    def forward(self, input):\n",
        "        self.last_input_shape = input.shape#store this\n",
        "        input = input.flatten()\n",
        "        self.last_input = input#store this too\n",
        "        input_len, nodes = self.weights.shape\n",
        "        totals = np.dot(input, self.weights) + self.biases#also store this\n",
        "        self.last_totals = totals\n",
        "        exp = np.exp(totals)#element wise exponential\n",
        "        return exp / np.sum(exp, axis=0)#kind of probability\n",
        "    def backprop(self, d_L_d_out,learn_rate):\n",
        "        for i, gradient in enumerate(d_L_d_out):\n",
        "            if gradient == 0:\n",
        "                continue\n",
        "            t_exp = np.exp(self.last_totals)\n",
        "            S = np.sum(t_exp)\n",
        "            d_out_d_t = -t_exp[i] * t_exp / (S ** 2)\n",
        "            d_out_d_t[i] = t_exp[i] * (S - t_exp[i]) / (S ** 2)\n",
        "            d_t_d_w = self.last_input#t= w*input +b, we will use chain rule,dl/db,dl/dw,dl/dinputs\n",
        "            d_t_d_b = 1\n",
        "            d_t_d_inputs = self.weights\n",
        "            d_L_d_t= gradient * d_out_d_t\n",
        "            d_L_d_w = d_t_d_w[np.newaxis].T @ d_L_d_t[np.newaxis]\n",
        "            d_L_d_b = d_L_d_t * d_t_d_b\n",
        "            d_L_d_inputs = d_t_d_inputs @ d_L_d_t\n",
        "\n",
        "            self.weights -= learn_rate * d_L_d_w\n",
        "            self.biases -= learn_rate * d_L_d_b\n",
        "            return d_L_d_inputs.reshape(self.last_input_shape)"
      ],
      "execution_count": 0,
      "outputs": []
    },
    {
      "cell_type": "code",
      "metadata": {
        "id": "qlhuRRdwM1KX",
        "colab_type": "code",
        "colab": {}
      },
      "source": [
        "class MaxPool2:\n",
        "    def forward(self, input):\n",
        "        self.last_input = input\n",
        "        h, w, num_filters = input.shape\n",
        "        output = np.zeros((h // 2, w // 2, num_filters))\n",
        "        for im_region, i, j in self.iterate_regions(input):\n",
        "            output[i, j] = np.amax(im_region, axis=(0, 1))\n",
        "        return output\n",
        "    def iterate_regions(self, image):\n",
        "        h, w, _ = image.shape\n",
        "        new_h = h // 2\n",
        "        new_w = w // 2\n",
        "        for i in range(new_h):\n",
        "            for j in range(new_w):\n",
        "                im_region = image[(i * 2):(i * 2 + 2), (j * 2):(j * 2 + 2)]\n",
        "                yield im_region, i, j\n",
        "    def backprop(self, d_L_d_out):\n",
        "        d_L_d_input = np.zeros(self.last_input.shape)\n",
        "        for im_region, i, j in self.iterate_regions(self.last_input):\n",
        "            h, w, f = im_region.shape\n",
        "            amax = np.amax(im_region, axis=(0, 1))\n",
        "            for i2 in range(h):\n",
        "                for j2 in range(w):\n",
        "                    for f2 in range(f):\n",
        "                        if im_region[i2, j2, f2] == amax[f2]:\n",
        "                            d_L_d_input[i * 2 + i2, j * 2 + j2, f2] = d_L_d_out[i, j, f2]\n",
        "        return d_L_d_input"
      ],
      "execution_count": 0,
      "outputs": []
    },
    {
      "cell_type": "code",
      "metadata": {
        "id": "yq3rvd1jM_Nj",
        "colab_type": "code",
        "colab": {}
      },
      "source": [
        "class Conv3x3:\n",
        "    def __init__(self, num_filters):\n",
        "        self.num_filters = num_filters\n",
        "        self.filters = np.random.randn(num_filters, 3, 3) / 9#to reduce varience div by 9\n",
        "    def iterate_regions(self, image):\n",
        "        h, w = image.shape#2d array\n",
        "        for i in range(h - 2):\n",
        "            for j in range(w-2):\n",
        "                im_region = image[i:(i + 3), j:(j + 3)]\n",
        "                yield im_region, i, j\n",
        "    def forward(self, input):\n",
        "        self.last_input = input\n",
        "        h, w = input.shape\n",
        "        output = np.zeros((h - 2, w - 2, self.num_filters))\n",
        "        for im_region, i, j in self.iterate_regions(input):\n",
        "            output[i, j] = np.sum(im_region * self.filters, axis=(1, 2))\n",
        "        return output\n",
        "    \n",
        "    def backprop(self, d_L_d_out, learn_rate):\n",
        "        d_L_d_filters = np.zeros(self.filters.shape)\n",
        "        for im_region, i, j in self.iterate_regions(self.last_input):\n",
        "            for f in range(self.num_filters):\n",
        "                d_L_d_filters[f] += d_L_d_out[i, j, f] * im_region\n",
        "        self.filters -= learn_rate * d_L_d_filters\n",
        "        return None"
      ],
      "execution_count": 0,
      "outputs": []
    },
    {
      "cell_type": "code",
      "metadata": {
        "id": "SMqhdGpkyDwQ",
        "colab_type": "code",
        "outputId": "93f986d8-e4d2-4443-e052-560778e6bb27",
        "colab": {
          "base_uri": "https://localhost:8080/",
          "height": 51
        }
      },
      "source": [
        "(x_train, y_train), (x_test, y_test) = mnist.load_data()"
      ],
      "execution_count": 0,
      "outputs": [
        {
          "output_type": "stream",
          "text": [
            "Downloading data from https://s3.amazonaws.com/img-datasets/mnist.npz\n",
            "11493376/11490434 [==============================] - 2s 0us/step\n"
          ],
          "name": "stdout"
        }
      ]
    },
    {
      "cell_type": "code",
      "metadata": {
        "id": "9NfmFYIjygo5",
        "colab_type": "code",
        "colab": {}
      },
      "source": [
        "train_images = x_train[:1000]\n",
        "train_labels = y_train[:1000]\n",
        "test_images = x_test[:1000]\n",
        "test_labels = y_test[:1000]"
      ],
      "execution_count": 0,
      "outputs": []
    },
    {
      "cell_type": "code",
      "metadata": {
        "id": "RkPw3wQ5ziYC",
        "colab_type": "code",
        "colab": {}
      },
      "source": [
        "conv = Conv3x3(8)                  # 28x28x1 -> 26x26x8\n",
        "pool = MaxPool2()                  # 26x26x8 -> 13x13x8\n",
        "softmax = Softmax(13 * 13 * 8, 10) # 13x13x8 -> 10"
      ],
      "execution_count": 0,
      "outputs": []
    },
    {
      "cell_type": "code",
      "metadata": {
        "id": "uj61aeLRzkv3",
        "colab_type": "code",
        "colab": {}
      },
      "source": [
        "def forward(image, label):\n",
        "    out = conv.forward((image / 255) - 0.5)\n",
        "    out = pool.forward(out)\n",
        "    out = softmax.forward(out)\n",
        "    loss = -np.log(out[label])\n",
        "    acc = 1 if np.argmax(out) == label else 0\n",
        "    return out, loss, acc\n",
        "def train(im, label, lr=.005):\n",
        "    out, loss, acc = forward(im, label)\n",
        "    gradient = np.zeros(10)\n",
        "    gradient[label] = -1 / out[label]\n",
        "    gradient = softmax.backprop(gradient, lr)\n",
        "    gradient = pool.backprop(gradient)\n",
        "    gradient = conv.backprop(gradient, lr)\n",
        "    return loss, acc"
      ],
      "execution_count": 0,
      "outputs": []
    },
    {
      "cell_type": "code",
      "metadata": {
        "id": "EMG0JrtCAjjT",
        "colab_type": "code",
        "outputId": "c6e384e0-cadc-40dd-9ca7-638ace85465c",
        "colab": {
          "base_uri": "https://localhost:8080/",
          "height": 578
        }
      },
      "source": [
        "for epoch in range(3):\n",
        "    print('>>--- Epoch %d ---' % (epoch + 1))\n",
        "    permutation = np.random.permutation(len(train_images))#randomly arrange 0 to len of img's number\n",
        "    train_images = train_images[permutation]\n",
        "    train_labels = train_labels[permutation]\n",
        "    loss = 0\n",
        "    num_correct = 0\n",
        "    for i, (im, label) in enumerate(zip(train_images, train_labels)):\n",
        "        if i % 100 == 99:\n",
        "            print('[Step %d] Past 100 steps: Average Loss %.3f | Accuracy: %d%%' %(i + 1, loss / 100, num_correct))\n",
        "            loss = 0\n",
        "            num_correct = 0\n",
        "        l, acc = train(im, label)\n",
        "        loss += l\n",
        "        num_correct += acc"
      ],
      "execution_count": 0,
      "outputs": [
        {
          "output_type": "stream",
          "text": [
            ">>--- Epoch 1 ---\n",
            "[Step 100] Past 100 steps: Average Loss 2.225 | Accuracy: 26%\n",
            "[Step 200] Past 100 steps: Average Loss 2.153 | Accuracy: 26%\n",
            "[Step 300] Past 100 steps: Average Loss 1.859 | Accuracy: 43%\n",
            "[Step 400] Past 100 steps: Average Loss 1.350 | Accuracy: 56%\n",
            "[Step 500] Past 100 steps: Average Loss 1.018 | Accuracy: 73%\n",
            "[Step 600] Past 100 steps: Average Loss 1.012 | Accuracy: 67%\n",
            "[Step 700] Past 100 steps: Average Loss 0.725 | Accuracy: 74%\n",
            "[Step 800] Past 100 steps: Average Loss 0.529 | Accuracy: 89%\n",
            "[Step 900] Past 100 steps: Average Loss 0.841 | Accuracy: 71%\n",
            "[Step 1000] Past 100 steps: Average Loss 0.655 | Accuracy: 79%\n",
            ">>--- Epoch 2 ---\n",
            "[Step 100] Past 100 steps: Average Loss 0.604 | Accuracy: 78%\n",
            "[Step 200] Past 100 steps: Average Loss 0.564 | Accuracy: 83%\n",
            "[Step 300] Past 100 steps: Average Loss 0.549 | Accuracy: 83%\n",
            "[Step 400] Past 100 steps: Average Loss 0.426 | Accuracy: 88%\n",
            "[Step 500] Past 100 steps: Average Loss 0.476 | Accuracy: 86%\n",
            "[Step 600] Past 100 steps: Average Loss 0.419 | Accuracy: 88%\n",
            "[Step 700] Past 100 steps: Average Loss 0.576 | Accuracy: 79%\n",
            "[Step 800] Past 100 steps: Average Loss 0.452 | Accuracy: 89%\n",
            "[Step 900] Past 100 steps: Average Loss 0.747 | Accuracy: 80%\n",
            "[Step 1000] Past 100 steps: Average Loss 0.375 | Accuracy: 92%\n",
            ">>--- Epoch 3 ---\n",
            "[Step 100] Past 100 steps: Average Loss 0.352 | Accuracy: 87%\n",
            "[Step 200] Past 100 steps: Average Loss 0.578 | Accuracy: 79%\n",
            "[Step 300] Past 100 steps: Average Loss 0.417 | Accuracy: 89%\n",
            "[Step 400] Past 100 steps: Average Loss 0.412 | Accuracy: 91%\n",
            "[Step 500] Past 100 steps: Average Loss 0.410 | Accuracy: 89%\n",
            "[Step 600] Past 100 steps: Average Loss 0.385 | Accuracy: 90%\n",
            "[Step 700] Past 100 steps: Average Loss 0.410 | Accuracy: 85%\n",
            "[Step 800] Past 100 steps: Average Loss 0.331 | Accuracy: 90%\n",
            "[Step 900] Past 100 steps: Average Loss 0.374 | Accuracy: 88%\n",
            "[Step 1000] Past 100 steps: Average Loss 0.337 | Accuracy: 88%\n"
          ],
          "name": "stdout"
        }
      ]
    },
    {
      "cell_type": "code",
      "metadata": {
        "id": "WoHqGUoqBrm_",
        "colab_type": "code",
        "outputId": "eb84a0a0-f5be-4402-f90a-021a90e2df8a",
        "colab": {
          "base_uri": "https://localhost:8080/",
          "height": 51
        }
      },
      "source": [
        "loss = 0\n",
        "num_correct = 0\n",
        "for im, label in zip(test_images, test_labels):\n",
        "    _, l, acc = forward(im, label)\n",
        "    loss += l\n",
        "    num_correct += acc\n",
        "num_tests = len(test_images)\n",
        "print('Test Loss:', loss / num_tests)\n",
        "print('Test Accuracy:', num_correct / num_tests)"
      ],
      "execution_count": 0,
      "outputs": [
        {
          "output_type": "stream",
          "text": [
            "Test Loss: 0.5172142640240334\n",
            "Test Accuracy: 0.828\n"
          ],
          "name": "stdout"
        }
      ]
    },
    {
      "cell_type": "code",
      "metadata": {
        "id": "zS403lwrCTKV",
        "colab_type": "code",
        "colab": {}
      },
      "source": [
        ""
      ],
      "execution_count": 0,
      "outputs": []
    }
  ]
}