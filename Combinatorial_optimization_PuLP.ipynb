{
  "nbformat": 4,
  "nbformat_minor": 0,
  "metadata": {
    "colab": {
      "name": "Combinatorial optimization PuLP.ipynb",
      "provenance": [],
      "collapsed_sections": [],
      "authorship_tag": "ABX9TyPwmIKyVIFydpsjMN94q+Jv",
      "include_colab_link": true
    },
    "kernelspec": {
      "name": "python3",
      "display_name": "Python 3"
    },
    "language_info": {
      "name": "python"
    }
  },
  "cells": [
    {
      "cell_type": "markdown",
      "metadata": {
        "id": "view-in-github",
        "colab_type": "text"
      },
      "source": [
        "<a href=\"https://colab.research.google.com/github/kunwarsharik/SharikProjects/blob/master/Combinatorial_optimization_PuLP.ipynb\" target=\"_parent\"><img src=\"https://colab.research.google.com/assets/colab-badge.svg\" alt=\"Open In Colab\"/></a>"
      ]
    },
    {
      "cell_type": "code",
      "metadata": {
        "colab": {
          "base_uri": "https://localhost:8080/"
        },
        "id": "ft3cREqO8lNH",
        "outputId": "7873bae4-4ffd-471c-f286-fccc7b7119fd"
      },
      "source": [
        "!pip install pulp"
      ],
      "execution_count": 1,
      "outputs": [
        {
          "output_type": "stream",
          "name": "stdout",
          "text": [
            "Collecting pulp\n",
            "  Downloading PuLP-2.5.0-py3-none-any.whl (41.2 MB)\n",
            "\u001b[K     |████████████████████████████████| 41.2 MB 73 kB/s \n",
            "\u001b[?25hInstalling collected packages: pulp\n",
            "Successfully installed pulp-2.5.0\n"
          ]
        }
      ]
    },
    {
      "cell_type": "code",
      "metadata": {
        "id": "JyHD0mY597_-"
      },
      "source": [
        "from pulp import LpMaximize, LpProblem, LpStatus, lpSum, LpVariable"
      ],
      "execution_count": 4,
      "outputs": []
    },
    {
      "cell_type": "code",
      "metadata": {
        "id": "K-wCykXK9i3E"
      },
      "source": [
        "obj=[-1,-2]#cofficient of x and y multiplied by -1 to get minimum -z i.e maximum +z\n",
        "lhs_ineq=[[2,1],[-4,5],[-1,2]] # coff of x,y in inequalities.\n",
        "rhs_ineq=[20,10,-2]\n",
        "lhs_eq=[[-1,5]] # above are inequalities, equalities are given seperately \n",
        "rhs_eq=[15]#right side"
      ],
      "execution_count": 2,
      "outputs": []
    },
    {
      "cell_type": "code",
      "metadata": {
        "id": "hDxQP4Jy9xkp"
      },
      "source": [
        "bnd=[(0,float(\"inf\")),(0,float(\"inf\"))] # x,y bounds"
      ],
      "execution_count": 3,
      "outputs": []
    },
    {
      "cell_type": "code",
      "metadata": {
        "id": "xuGCKo0f90pd"
      },
      "source": [
        "model=LpProblem(name=\"small-problem\",sense=LpMaximize)"
      ],
      "execution_count": 5,
      "outputs": []
    },
    {
      "cell_type": "code",
      "metadata": {
        "id": "yGIfRD-b-2Si"
      },
      "source": [
        "x= LpVariable(name=\"x\",lowBound=0)\n",
        "y= LpVariable(name=\"y\",lowBound=0)"
      ],
      "execution_count": 6,
      "outputs": []
    },
    {
      "cell_type": "code",
      "metadata": {
        "id": "v1vFOkOy_BZ2"
      },
      "source": [
        "model+=(2*x+y<=20,\"constraint1\")\n",
        "model+=(4*x-5*y>=-10,\"constraint2\")\n",
        "model+=(-x+2*y>=-2,\"constraint3\")\n",
        "model+=(-x+5*y==15,\"constraint4\")"
      ],
      "execution_count": 8,
      "outputs": []
    },
    {
      "cell_type": "code",
      "metadata": {
        "id": "KAflfVUE_Kw9"
      },
      "source": [
        "obj_func = x + 2 * y\n",
        "model += obj_func"
      ],
      "execution_count": 9,
      "outputs": []
    },
    {
      "cell_type": "code",
      "metadata": {
        "colab": {
          "base_uri": "https://localhost:8080/"
        },
        "id": "AOCPzHgOA0LT",
        "outputId": "8a16972c-10aa-4102-82c5-7445feb506f7"
      },
      "source": [
        "model"
      ],
      "execution_count": 10,
      "outputs": [
        {
          "output_type": "execute_result",
          "data": {
            "text/plain": [
              "small-problem:\n",
              "MAXIMIZE\n",
              "1*x + 2*y + 0\n",
              "SUBJECT TO\n",
              "constraint1: 2 x + y <= 20\n",
              "\n",
              "constraint2: 4 x - 5 y >= -10\n",
              "\n",
              "constraint3: - x + 2 y >= -2\n",
              "\n",
              "constraint4: - x + 5 y = 15\n",
              "\n",
              "VARIABLES\n",
              "x Continuous\n",
              "y Continuous"
            ]
          },
          "metadata": {},
          "execution_count": 10
        }
      ]
    },
    {
      "cell_type": "code",
      "metadata": {
        "id": "HID1P-0mA42s"
      },
      "source": [
        "status = model.solve()"
      ],
      "execution_count": 11,
      "outputs": []
    },
    {
      "cell_type": "code",
      "metadata": {
        "colab": {
          "base_uri": "https://localhost:8080/"
        },
        "id": "X97WwG2QBAiP",
        "outputId": "bb13cf79-b3a7-4cea-f61c-bf9ba65c84ce"
      },
      "source": [
        "model.objective.value()"
      ],
      "execution_count": 13,
      "outputs": [
        {
          "output_type": "execute_result",
          "data": {
            "text/plain": [
              "16.8181817"
            ]
          },
          "metadata": {},
          "execution_count": 13
        }
      ]
    },
    {
      "cell_type": "code",
      "metadata": {
        "colab": {
          "base_uri": "https://localhost:8080/"
        },
        "id": "4XKrUI-sBDZc",
        "outputId": "0c6c801d-776b-4c5a-d1fd-0f1700d3ea9c"
      },
      "source": [
        "for var in model.variables():\n",
        "    print(f\"{var.name}: {var.value()}\")"
      ],
      "execution_count": 14,
      "outputs": [
        {
          "output_type": "stream",
          "name": "stdout",
          "text": [
            "x: 7.7272727\n",
            "y: 4.5454545\n"
          ]
        }
      ]
    },
    {
      "cell_type": "code",
      "metadata": {
        "colab": {
          "base_uri": "https://localhost:8080/"
        },
        "id": "S11SkQNeBNs6",
        "outputId": "b4b9f0db-439d-4dea-df28-f27b5b92abb2"
      },
      "source": [
        "for name, constraint in model.constraints.items():\n",
        "    print(f\"{name}: {constraint.value()}\")"
      ],
      "execution_count": 15,
      "outputs": [
        {
          "output_type": "stream",
          "name": "stdout",
          "text": [
            "constraint1: -9.99999993922529e-08\n",
            "constraint2: 18.181818300000003\n",
            "constraint3: 3.3636362999999996\n",
            "constraint4: -2.0000000233721948e-07\n"
          ]
        }
      ]
    },
    {
      "cell_type": "code",
      "metadata": {
        "colab": {
          "base_uri": "https://localhost:8080/"
        },
        "id": "2BreDK2QBRiW",
        "outputId": "68862ff9-9285-48e2-86a6-bd916b8d492f"
      },
      "source": [
        "model.solver"
      ],
      "execution_count": 16,
      "outputs": [
        {
          "output_type": "execute_result",
          "data": {
            "text/plain": [
              "<pulp.apis.coin_api.PULP_CBC_CMD at 0x7f09791b0fd0>"
            ]
          },
          "metadata": {},
          "execution_count": 16
        }
      ]
    },
    {
      "cell_type": "code",
      "metadata": {
        "id": "GKvcS4-XBaKG"
      },
      "source": [
        "model2=LpProblem(name=\"production-profit-optimization\",sense=LpMaximize)"
      ],
      "execution_count": 17,
      "outputs": []
    },
    {
      "cell_type": "code",
      "metadata": {
        "id": "HsYnIjylCLxr"
      },
      "source": [
        "x1= LpVariable(name=\"x1\", lowBound=0, cat=\"Integer\")\n",
        "x2= LpVariable(name=\"x2\", lowBound=0, cat=\"Integer\")\n",
        "x3= LpVariable(name=\"x3\", lowBound=0, cat=\"Integer\")\n",
        "x4= LpVariable(name=\"x4\", lowBound=0, cat=\"Integer\")"
      ],
      "execution_count": 18,
      "outputs": []
    },
    {
      "cell_type": "code",
      "metadata": {
        "id": "lJ8mXLWbCjtf"
      },
      "source": [
        "model2 += (3*x1+2*x2+x3<=100,\"constraint1\")\n",
        "model2 += (x2+2*x3+3*x4<=90,\"constraint2\")\n",
        "model2 += (x1+x2+x3+x4<=50,\"constraint3\")"
      ],
      "execution_count": 19,
      "outputs": []
    },
    {
      "cell_type": "code",
      "metadata": {
        "id": "O3Ljl6DeDBiv"
      },
      "source": [
        "model2 += lpSum([20*x1,12*x2,40*x3,25*x4])"
      ],
      "execution_count": 21,
      "outputs": []
    },
    {
      "cell_type": "code",
      "metadata": {
        "id": "_rtl55_mDNaA"
      },
      "source": [
        "status = model2.solve()"
      ],
      "execution_count": 22,
      "outputs": []
    },
    {
      "cell_type": "code",
      "metadata": {
        "colab": {
          "base_uri": "https://localhost:8080/"
        },
        "id": "zuUz9HgZDSqn",
        "outputId": "f4742902-aa9c-4e70-fa41-291a3308b78a"
      },
      "source": [
        "for var in model2.variables():\n",
        "    print(f\"{var.name}: {var.value()}\")"
      ],
      "execution_count": 24,
      "outputs": [
        {
          "output_type": "stream",
          "name": "stdout",
          "text": [
            "x1: 5.0\n",
            "x2: 0.0\n",
            "x3: 45.0\n",
            "x4: 0.0\n"
          ]
        }
      ]
    },
    {
      "cell_type": "code",
      "metadata": {
        "colab": {
          "base_uri": "https://localhost:8080/"
        },
        "id": "4biU0hk-DXwo",
        "outputId": "913a86b9-f5b2-40fd-e40b-2ddbc83c8e1a"
      },
      "source": [
        "model2.objective.value()"
      ],
      "execution_count": 26,
      "outputs": [
        {
          "output_type": "execute_result",
          "data": {
            "text/plain": [
              "1900.0"
            ]
          },
          "metadata": {},
          "execution_count": 26
        }
      ]
    },
    {
      "cell_type": "code",
      "metadata": {
        "colab": {
          "base_uri": "https://localhost:8080/"
        },
        "id": "a5fmxzxRDkzO",
        "outputId": "501f13a9-92d8-44ff-bdbc-aa92a817f27e"
      },
      "source": [
        "for name, constraint in model2.constraints.items():\n",
        "    print(f\"{name}: {constraint.value()}\")"
      ],
      "execution_count": 27,
      "outputs": [
        {
          "output_type": "stream",
          "name": "stdout",
          "text": [
            "constraint1: -40.0\n",
            "constraint2: 0.0\n",
            "constraint3: 0.0\n"
          ]
        }
      ]
    },
    {
      "cell_type": "markdown",
      "metadata": {
        "id": "IwZbHvLgD4nL"
      },
      "source": [
        "when we take x1 a liquid or product can come in any quantity"
      ]
    },
    {
      "cell_type": "code",
      "metadata": {
        "id": "W34iaDojDr68"
      },
      "source": [
        "model3=LpProblem(name=\"production-profit-optimization\",sense=LpMaximize)"
      ],
      "execution_count": 31,
      "outputs": []
    },
    {
      "cell_type": "code",
      "metadata": {
        "id": "-m5llUqBECQ8"
      },
      "source": [
        "x1= LpVariable(name=\"x1\", lowBound=0, cat=\"continuous\")\n",
        "x2= LpVariable(name=\"x2\", lowBound=0, cat=\"continuous\")\n",
        "x3= LpVariable(name=\"x3\", lowBound=0, cat=\"continuous\")\n",
        "x4= LpVariable(name=\"x4\", lowBound=0, cat=\"continuous\")"
      ],
      "execution_count": 32,
      "outputs": []
    },
    {
      "cell_type": "code",
      "metadata": {
        "id": "e3n4QI_MELRx"
      },
      "source": [
        "model3 += (3*x1+2*x2+x3<=100,\"constraint1\")\n",
        "model3 += (x2+2*x3+3*x4<=90,\"constraint2\")\n",
        "model3 += (x1+x2+x3+x4<=50,\"constraint3\")"
      ],
      "execution_count": 33,
      "outputs": []
    },
    {
      "cell_type": "code",
      "metadata": {
        "id": "GIhl6D-fEP5u"
      },
      "source": [
        "model3 += lpSum([20*x1,12*x2,40*x3,25*x4])"
      ],
      "execution_count": 34,
      "outputs": []
    },
    {
      "cell_type": "code",
      "metadata": {
        "id": "rSzpTwu1EVEp"
      },
      "source": [
        "status = model3.solve()"
      ],
      "execution_count": 35,
      "outputs": []
    },
    {
      "cell_type": "code",
      "metadata": {
        "colab": {
          "base_uri": "https://localhost:8080/"
        },
        "id": "R4c0pKUsEfXN",
        "outputId": "32d80055-88c0-4dc6-e9a3-e6ec83da1a61"
      },
      "source": [
        "for var in model3.variables():\n",
        "    print(f\"{var.name}: {var.value()}\")"
      ],
      "execution_count": 36,
      "outputs": [
        {
          "output_type": "stream",
          "name": "stdout",
          "text": [
            "x1: 5.0\n",
            "x2: 0.0\n",
            "x3: 45.0\n",
            "x4: 0.0\n"
          ]
        }
      ]
    },
    {
      "cell_type": "code",
      "metadata": {
        "colab": {
          "base_uri": "https://localhost:8080/"
        },
        "id": "26a_QqdLEjI5",
        "outputId": "249c8bd0-67f0-4505-b853-b6a02b7d2946"
      },
      "source": [
        "for name, constraint in model3.constraints.items():\n",
        "    print(f\"{name}: {constraint.value()}\")"
      ],
      "execution_count": 37,
      "outputs": [
        {
          "output_type": "stream",
          "name": "stdout",
          "text": [
            "constraint1: -40.0\n",
            "constraint2: 0.0\n",
            "constraint3: 0.0\n"
          ]
        }
      ]
    },
    {
      "cell_type": "code",
      "metadata": {
        "id": "PUoGbjvvEt2A"
      },
      "source": [
        ""
      ],
      "execution_count": null,
      "outputs": []
    }
  ]
}